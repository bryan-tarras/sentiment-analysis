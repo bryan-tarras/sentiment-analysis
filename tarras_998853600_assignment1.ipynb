{
 "cells": [
  {
   "cell_type": "markdown",
   "metadata": {},
   "source": [
    "# Assignment 1 - Sentiment Analysis - Bryan Tarras\n",
    "\n",
    "Please note that approximate runtime on my local system is about 1 min 50 seconds. This will differ from the cloud installation of python on CC Labs, but I have checked it and the program does run but at a slower rate."
   ]
  },
  {
   "cell_type": "markdown",
   "metadata": {},
   "source": [
    "### 1.0 Data Cleaning"
   ]
  },
  {
   "cell_type": "markdown",
   "metadata": {},
   "source": [
    "To start lets import the relevant libraires. Note that I have commented out the install of the various libraries (assuming that the system running this will already have the libaries installed)."
   ]
  },
  {
   "cell_type": "code",
   "execution_count": 1,
   "metadata": {},
   "outputs": [],
   "source": [
    "#!pip install numpy\n",
    "import numpy as np\n",
    "#!pip install pandas\n",
    "import pandas as pd\n",
    "#!pip install sklearn\n",
    "import matplotlib.pyplot as plt"
   ]
  },
  {
   "cell_type": "markdown",
   "metadata": {},
   "source": [
    "##### 1.1 Generic Tweets Cleaning\n",
    "Lets start with cleaning the Generic Tweet dataset first followed by the Airline Tweet dataset."
   ]
  },
  {
   "cell_type": "code",
   "execution_count": 2,
   "metadata": {},
   "outputs": [],
   "source": [
    "df_generic = pd.read_csv('generic_tweets.txt')"
   ]
  },
  {
   "cell_type": "code",
   "execution_count": 3,
   "metadata": {},
   "outputs": [
    {
     "data": {
      "text/html": [
       "<div>\n",
       "<style scoped>\n",
       "    .dataframe tbody tr th:only-of-type {\n",
       "        vertical-align: middle;\n",
       "    }\n",
       "\n",
       "    .dataframe tbody tr th {\n",
       "        vertical-align: top;\n",
       "    }\n",
       "\n",
       "    .dataframe thead th {\n",
       "        text-align: right;\n",
       "    }\n",
       "</style>\n",
       "<table border=\"1\" class=\"dataframe\">\n",
       "  <thead>\n",
       "    <tr style=\"text-align: right;\">\n",
       "      <th></th>\n",
       "      <th>class</th>\n",
       "      <th>id</th>\n",
       "      <th>date</th>\n",
       "      <th>query</th>\n",
       "      <th>user</th>\n",
       "      <th>text</th>\n",
       "    </tr>\n",
       "  </thead>\n",
       "  <tbody>\n",
       "    <tr>\n",
       "      <th>0</th>\n",
       "      <td>0</td>\n",
       "      <td>1467810369</td>\n",
       "      <td>Mon Apr 06 22:19:45 PDT 2009</td>\n",
       "      <td>NO_QUERY</td>\n",
       "      <td>_TheSpecialOne_</td>\n",
       "      <td>@switchfoot http://twitpic.com/2y1zl - Awww, t...</td>\n",
       "    </tr>\n",
       "    <tr>\n",
       "      <th>1</th>\n",
       "      <td>0</td>\n",
       "      <td>1467810672</td>\n",
       "      <td>Mon Apr 06 22:19:49 PDT 2009</td>\n",
       "      <td>NO_QUERY</td>\n",
       "      <td>scotthamilton</td>\n",
       "      <td>is upset that he can't update his Facebook by ...</td>\n",
       "    </tr>\n",
       "    <tr>\n",
       "      <th>2</th>\n",
       "      <td>0</td>\n",
       "      <td>1467810917</td>\n",
       "      <td>Mon Apr 06 22:19:53 PDT 2009</td>\n",
       "      <td>NO_QUERY</td>\n",
       "      <td>mattycus</td>\n",
       "      <td>@Kenichan I dived many times for the ball. Man...</td>\n",
       "    </tr>\n",
       "    <tr>\n",
       "      <th>3</th>\n",
       "      <td>0</td>\n",
       "      <td>1467811184</td>\n",
       "      <td>Mon Apr 06 22:19:57 PDT 2009</td>\n",
       "      <td>NO_QUERY</td>\n",
       "      <td>ElleCTF</td>\n",
       "      <td>my whole body feels itchy and like its on fire</td>\n",
       "    </tr>\n",
       "    <tr>\n",
       "      <th>4</th>\n",
       "      <td>0</td>\n",
       "      <td>1467811193</td>\n",
       "      <td>Mon Apr 06 22:19:57 PDT 2009</td>\n",
       "      <td>NO_QUERY</td>\n",
       "      <td>Karoli</td>\n",
       "      <td>@nationwideclass no, it's not behaving at all....</td>\n",
       "    </tr>\n",
       "  </tbody>\n",
       "</table>\n",
       "</div>"
      ],
      "text/plain": [
       "   class          id                          date     query             user  \\\n",
       "0      0  1467810369  Mon Apr 06 22:19:45 PDT 2009  NO_QUERY  _TheSpecialOne_   \n",
       "1      0  1467810672  Mon Apr 06 22:19:49 PDT 2009  NO_QUERY    scotthamilton   \n",
       "2      0  1467810917  Mon Apr 06 22:19:53 PDT 2009  NO_QUERY         mattycus   \n",
       "3      0  1467811184  Mon Apr 06 22:19:57 PDT 2009  NO_QUERY          ElleCTF   \n",
       "4      0  1467811193  Mon Apr 06 22:19:57 PDT 2009  NO_QUERY           Karoli   \n",
       "\n",
       "                                                text  \n",
       "0  @switchfoot http://twitpic.com/2y1zl - Awww, t...  \n",
       "1  is upset that he can't update his Facebook by ...  \n",
       "2  @Kenichan I dived many times for the ball. Man...  \n",
       "3    my whole body feels itchy and like its on fire   \n",
       "4  @nationwideclass no, it's not behaving at all....  "
      ]
     },
     "execution_count": 3,
     "metadata": {},
     "output_type": "execute_result"
    }
   ],
   "source": [
    "df_generic.head()"
   ]
  },
  {
   "cell_type": "code",
   "execution_count": 4,
   "metadata": {},
   "outputs": [
    {
     "data": {
      "text/html": [
       "<div>\n",
       "<style scoped>\n",
       "    .dataframe tbody tr th:only-of-type {\n",
       "        vertical-align: middle;\n",
       "    }\n",
       "\n",
       "    .dataframe tbody tr th {\n",
       "        vertical-align: top;\n",
       "    }\n",
       "\n",
       "    .dataframe thead th {\n",
       "        text-align: right;\n",
       "    }\n",
       "</style>\n",
       "<table border=\"1\" class=\"dataframe\">\n",
       "  <thead>\n",
       "    <tr style=\"text-align: right;\">\n",
       "      <th></th>\n",
       "      <th>class</th>\n",
       "      <th>id</th>\n",
       "      <th>date</th>\n",
       "      <th>query</th>\n",
       "      <th>user</th>\n",
       "      <th>text</th>\n",
       "    </tr>\n",
       "  </thead>\n",
       "  <tbody>\n",
       "    <tr>\n",
       "      <th>199995</th>\n",
       "      <td>4</td>\n",
       "      <td>1693956088</td>\n",
       "      <td>Mon May 04 00:27:13 PDT 2009</td>\n",
       "      <td>NO_QUERY</td>\n",
       "      <td>FelineBred</td>\n",
       "      <td>@jvdouglas  haha, no, the remark on maternity ...</td>\n",
       "    </tr>\n",
       "    <tr>\n",
       "      <th>199996</th>\n",
       "      <td>4</td>\n",
       "      <td>1693956096</td>\n",
       "      <td>Mon May 04 00:27:14 PDT 2009</td>\n",
       "      <td>NO_QUERY</td>\n",
       "      <td>softthistle</td>\n",
       "      <td>@altitis and to you!</td>\n",
       "    </tr>\n",
       "    <tr>\n",
       "      <th>199997</th>\n",
       "      <td>4</td>\n",
       "      <td>1693956099</td>\n",
       "      <td>Mon May 04 00:27:14 PDT 2009</td>\n",
       "      <td>NO_QUERY</td>\n",
       "      <td>elysion32</td>\n",
       "      <td>Okie doke!! Time for me to escape for the Nort...</td>\n",
       "    </tr>\n",
       "    <tr>\n",
       "      <th>199998</th>\n",
       "      <td>4</td>\n",
       "      <td>1693956134</td>\n",
       "      <td>Mon May 04 00:27:14 PDT 2009</td>\n",
       "      <td>NO_QUERY</td>\n",
       "      <td>fancyjessy</td>\n",
       "      <td>finished the lessons, hooray!</td>\n",
       "    </tr>\n",
       "    <tr>\n",
       "      <th>199999</th>\n",
       "      <td>4</td>\n",
       "      <td>1693956160</td>\n",
       "      <td>Mon May 04 00:27:14 PDT 2009</td>\n",
       "      <td>NO_QUERY</td>\n",
       "      <td>noraezan</td>\n",
       "      <td>Some ppl are just fucking KP0. Cb ! Stop askin...</td>\n",
       "    </tr>\n",
       "  </tbody>\n",
       "</table>\n",
       "</div>"
      ],
      "text/plain": [
       "        class          id                          date     query  \\\n",
       "199995      4  1693956088  Mon May 04 00:27:13 PDT 2009  NO_QUERY   \n",
       "199996      4  1693956096  Mon May 04 00:27:14 PDT 2009  NO_QUERY   \n",
       "199997      4  1693956099  Mon May 04 00:27:14 PDT 2009  NO_QUERY   \n",
       "199998      4  1693956134  Mon May 04 00:27:14 PDT 2009  NO_QUERY   \n",
       "199999      4  1693956160  Mon May 04 00:27:14 PDT 2009  NO_QUERY   \n",
       "\n",
       "               user                                               text  \n",
       "199995   FelineBred  @jvdouglas  haha, no, the remark on maternity ...  \n",
       "199996  softthistle                              @altitis and to you!   \n",
       "199997    elysion32  Okie doke!! Time for me to escape for the Nort...  \n",
       "199998   fancyjessy                     finished the lessons, hooray!   \n",
       "199999     noraezan  Some ppl are just fucking KP0. Cb ! Stop askin...  "
      ]
     },
     "execution_count": 4,
     "metadata": {},
     "output_type": "execute_result"
    }
   ],
   "source": [
    "df_generic.tail()"
   ]
  },
  {
   "cell_type": "markdown",
   "metadata": {},
   "source": [
    "First up lets remove HTML tags, attributes, and character codes (replaced with ASCII equilvalents). To do this the Beautiful Soup library will be used. This will be tested using a tweet which is known to have HTML character codes, tweet [145]. "
   ]
  },
  {
   "cell_type": "code",
   "execution_count": 5,
   "metadata": {},
   "outputs": [],
   "source": [
    "from bs4 import BeautifulSoup"
   ]
  },
  {
   "cell_type": "code",
   "execution_count": 6,
   "metadata": {},
   "outputs": [
    {
     "data": {
      "text/plain": [
       "\"@twista202 I still haven't read the 9th&amp;10th Princess diaries  Saving Francesca made me cry at the end. Hmm those are easy books.\""
      ]
     },
     "execution_count": 6,
     "metadata": {},
     "output_type": "execute_result"
    }
   ],
   "source": [
    "df_generic.text[145] # Original Tweet"
   ]
  },
  {
   "cell_type": "code",
   "execution_count": 7,
   "metadata": {},
   "outputs": [
    {
     "name": "stdout",
     "output_type": "stream",
     "text": [
      "@twista202 I still haven't read the 9th&10th Princess diaries  Saving Francesca made me cry at the end. Hmm those are easy books.\n"
     ]
    }
   ],
   "source": [
    "testing = BeautifulSoup(df_generic.text[145],'lxml') # Beautiful soup applied to the original tweet, note the removal of \"&amp\" and replacement with \"&\"\n",
    "print (testing.get_text())"
   ]
  },
  {
   "cell_type": "markdown",
   "metadata": {},
   "source": [
    "Next up the URLs in the tweets will be removed. To accomplish this the Regular Expressions library will be used. This will be tested using a tweet known to contain a URL within it, tweet [0]."
   ]
  },
  {
   "cell_type": "code",
   "execution_count": 8,
   "metadata": {},
   "outputs": [
    {
     "data": {
      "text/plain": [
       "\"@switchfoot http://twitpic.com/2y1zl - Awww, that's a bummer.  You shoulda got David Carr of Third Day to do it. ;D\""
      ]
     },
     "execution_count": 8,
     "metadata": {},
     "output_type": "execute_result"
    }
   ],
   "source": [
    "df_generic.text[0] # Original Tweet"
   ]
  },
  {
   "cell_type": "code",
   "execution_count": 9,
   "metadata": {},
   "outputs": [
    {
     "data": {
      "text/plain": [
       "\"@switchfoot  - Awww, that's a bummer.  You shoulda got David Carr of Third Day to do it. ;D\""
      ]
     },
     "execution_count": 9,
     "metadata": {},
     "output_type": "execute_result"
    }
   ],
   "source": [
    "import re\n",
    "re.sub('https?://[A-Za-z0-9./]+','',df_generic.text[0]) # Tweet with the URL removed"
   ]
  },
  {
   "cell_type": "markdown",
   "metadata": {},
   "source": [
    "Following this all characters will in the text will be converted to lowercase. To accomplish this the string lower() method will be used. This will be tested on tweet [0] as well below."
   ]
  },
  {
   "cell_type": "code",
   "execution_count": 10,
   "metadata": {},
   "outputs": [
    {
     "data": {
      "text/plain": [
       "\"@switchfoot http://twitpic.com/2y1zl - Awww, that's a bummer.  You shoulda got David Carr of Third Day to do it. ;D\""
      ]
     },
     "execution_count": 10,
     "metadata": {},
     "output_type": "execute_result"
    }
   ],
   "source": [
    "df_generic.text[0] # Original Tweet"
   ]
  },
  {
   "cell_type": "code",
   "execution_count": 11,
   "metadata": {},
   "outputs": [
    {
     "data": {
      "text/plain": [
       "\"@switchfoot http://twitpic.com/2y1zl - awww, that's a bummer.  you shoulda got david carr of third day to do it. ;d\""
      ]
     },
     "execution_count": 11,
     "metadata": {},
     "output_type": "execute_result"
    }
   ],
   "source": [
    "df_generic.text[0].lower() # .lower function applied to the tweet to ensure that it is in all lowercase"
   ]
  },
  {
   "cell_type": "markdown",
   "metadata": {},
   "source": [
    "Next, stopwords contained within the tweets will be removed. To accomplish this the \"nltk\" or natural language toolkit library in python will be used. Contained within \"nltk\" is a file containing common stop words. This file is downloaded using the nltk.download('stopwords') command. These are the words that are being considered as stop words and which will be removed from the tweets. This will be tested below with tweet [0] which is known to contain stop words."
   ]
  },
  {
   "cell_type": "code",
   "execution_count": 12,
   "metadata": {},
   "outputs": [
    {
     "name": "stderr",
     "output_type": "stream",
     "text": [
      "[nltk_data] Downloading package stopwords to\n",
      "[nltk_data]     C:\\Users\\btarras\\AppData\\Roaming\\nltk_data...\n",
      "[nltk_data]   Package stopwords is already up-to-date!\n"
     ]
    }
   ],
   "source": [
    "import nltk\n",
    "nltk.download('stopwords')\n",
    "from nltk.corpus import stopwords"
   ]
  },
  {
   "cell_type": "code",
   "execution_count": 13,
   "metadata": {},
   "outputs": [],
   "source": [
    "temp = df_generic.text[0].lower().split() #Splitting of the tweet is required to do a full string comparison with the stop word"
   ]
  },
  {
   "cell_type": "code",
   "execution_count": 14,
   "metadata": {},
   "outputs": [
    {
     "data": {
      "text/plain": [
       "['@switchfoot',\n",
       " 'http://twitpic.com/2y1zl',\n",
       " '-',\n",
       " 'awww,',\n",
       " \"that's\",\n",
       " 'a',\n",
       " 'bummer.',\n",
       " 'you',\n",
       " 'shoulda',\n",
       " 'got',\n",
       " 'david',\n",
       " 'carr',\n",
       " 'of',\n",
       " 'third',\n",
       " 'day',\n",
       " 'to',\n",
       " 'do',\n",
       " 'it.',\n",
       " ';d']"
      ]
     },
     "execution_count": 14,
     "metadata": {},
     "output_type": "execute_result"
    }
   ],
   "source": [
    "temp"
   ]
  },
  {
   "cell_type": "code",
   "execution_count": 15,
   "metadata": {},
   "outputs": [],
   "source": [
    "filtered_words = [word for word in temp if word not in stopwords.words('english')]"
   ]
  },
  {
   "cell_type": "code",
   "execution_count": 16,
   "metadata": {},
   "outputs": [
    {
     "data": {
      "text/plain": [
       "['@switchfoot',\n",
       " 'http://twitpic.com/2y1zl',\n",
       " '-',\n",
       " 'awww,',\n",
       " \"that's\",\n",
       " 'bummer.',\n",
       " 'shoulda',\n",
       " 'got',\n",
       " 'david',\n",
       " 'carr',\n",
       " 'third',\n",
       " 'day',\n",
       " 'it.',\n",
       " ';d']"
      ]
     },
     "execution_count": 16,
     "metadata": {},
     "output_type": "execute_result"
    }
   ],
   "source": [
    "filtered_words"
   ]
  },
  {
   "cell_type": "code",
   "execution_count": 17,
   "metadata": {},
   "outputs": [
    {
     "data": {
      "text/plain": [
       "\"@switchfoot http://twitpic.com/2y1zl - awww, that's bummer. shoulda got david carr third day it. ;d\""
      ]
     },
     "execution_count": 17,
     "metadata": {},
     "output_type": "execute_result"
    }
   ],
   "source": [
    "(\" \").join(filtered_words) #After splitting and removing the stop words, the tweet will be rejoined with appropiate spacing."
   ]
  },
  {
   "cell_type": "markdown",
   "metadata": {},
   "source": [
    "With the above method for cleaning the tweets analyzed on single tweets, a function will be developed which when called will remove all required elements from the tweets (HTML tags/attributes, HTML character codes replaced with ASCII equilvalents, URLs removed, all characters in lowercase, all stop words contained within the nltk libraries stop word corpus removed). Note that I have opted to use the WordPunctTokenizer contianed within the nltk library instead of the split() command discussed above to save on computational time.\n",
    "\n",
    "This function will be tested by sending in the first 3 tweets within the dataframe containing the tweets."
   ]
  },
  {
   "cell_type": "code",
   "execution_count": 18,
   "metadata": {},
   "outputs": [
    {
     "data": {
      "text/plain": [
       "['switchfoot awww bummer shoulda got david carr third day',\n",
       " 'upset update facebook texting might cry result school today also blah',\n",
       " 'kenichan dived many times ball managed save rest go bounds']"
      ]
     },
     "execution_count": 18,
     "metadata": {},
     "output_type": "execute_result"
    }
   ],
   "source": [
    "stops = set(stopwords.words(\"english\")) # Setting the stopwords to a vraible to speed up run time\n",
    "\n",
    "from nltk.tokenize import WordPunctTokenizer # Importing of the WordPunctTokenizer function from the nltk library\n",
    "tok = WordPunctTokenizer() # Setting the tokenization function equal to a variable for easier calling\n",
    "def tweet_cleaning(text): # Tweet cleaning function\n",
    "    stripped = re.sub('https?://[A-Za-z0-9./]+','',text) # URL Removal\n",
    "    stripped_3 = re.sub(\"[^a-zA-Z]\", \" \", stripped) # Hashtag/Number Removal\n",
    "    soup = BeautifulSoup(stripped_3, 'lxml') # HTML Coding Removal\n",
    "    souped = soup.get_text() # HTML Coding Removal\n",
    "    lower_case = souped.lower() # Lower Case Conversion\n",
    "    words_only = tok.tokenize(lower_case) # Tokenize to allow for full word comaprison with stop words file\n",
    "    stop_words_removed = [word for word in words_only if word not in stops] #Stop Words Removal\n",
    "    return (\" \".join(stop_words_removed)).strip() # Rejoin the tweet with proper spacing\n",
    "\n",
    "# Below is a test of the function to ensure that it is properly functioning. The first 3 tweets contained within the dataframe\n",
    "# are past through the function and then printed.\n",
    "testing = df_generic.text[:3]\n",
    "test_result = []\n",
    "for x in testing:\n",
    "    test_result.append(tweet_cleaning(x))\n",
    "test_result"
   ]
  },
  {
   "cell_type": "markdown",
   "metadata": {},
   "source": [
    "As can be seen from the cell above and the test result the function appears to be running properly, and all required information has been removed from the tweets leaving a format that is more ammendable to processing through a Machine Learning Algorithm. \n",
    "\n",
    "The next step is to apply this to the entire tweet data set of 200,000 tweets. To do this I have employed the use of the .apply() function and allocated a new coloumn to the dataframe \"df\" of \"Clean Text\"."
   ]
  },
  {
   "cell_type": "code",
   "execution_count": 19,
   "metadata": {},
   "outputs": [],
   "source": [
    "df_generic[\"Clean Text\"] = df_generic[\"text\"].apply(lambda x: tweet_cleaning(x)) #This is about a 40 second runtime on my hardware setup"
   ]
  },
  {
   "cell_type": "markdown",
   "metadata": {},
   "source": [
    "To verify if the added coloumn to the dataframe \"df\" has properly been stored I will call the head(), tail() and count() function again."
   ]
  },
  {
   "cell_type": "code",
   "execution_count": 20,
   "metadata": {},
   "outputs": [
    {
     "data": {
      "text/html": [
       "<div>\n",
       "<style scoped>\n",
       "    .dataframe tbody tr th:only-of-type {\n",
       "        vertical-align: middle;\n",
       "    }\n",
       "\n",
       "    .dataframe tbody tr th {\n",
       "        vertical-align: top;\n",
       "    }\n",
       "\n",
       "    .dataframe thead th {\n",
       "        text-align: right;\n",
       "    }\n",
       "</style>\n",
       "<table border=\"1\" class=\"dataframe\">\n",
       "  <thead>\n",
       "    <tr style=\"text-align: right;\">\n",
       "      <th></th>\n",
       "      <th>class</th>\n",
       "      <th>id</th>\n",
       "      <th>date</th>\n",
       "      <th>query</th>\n",
       "      <th>user</th>\n",
       "      <th>text</th>\n",
       "      <th>Clean Text</th>\n",
       "    </tr>\n",
       "  </thead>\n",
       "  <tbody>\n",
       "    <tr>\n",
       "      <th>0</th>\n",
       "      <td>0</td>\n",
       "      <td>1467810369</td>\n",
       "      <td>Mon Apr 06 22:19:45 PDT 2009</td>\n",
       "      <td>NO_QUERY</td>\n",
       "      <td>_TheSpecialOne_</td>\n",
       "      <td>@switchfoot http://twitpic.com/2y1zl - Awww, t...</td>\n",
       "      <td>switchfoot awww bummer shoulda got david carr ...</td>\n",
       "    </tr>\n",
       "    <tr>\n",
       "      <th>1</th>\n",
       "      <td>0</td>\n",
       "      <td>1467810672</td>\n",
       "      <td>Mon Apr 06 22:19:49 PDT 2009</td>\n",
       "      <td>NO_QUERY</td>\n",
       "      <td>scotthamilton</td>\n",
       "      <td>is upset that he can't update his Facebook by ...</td>\n",
       "      <td>upset update facebook texting might cry result...</td>\n",
       "    </tr>\n",
       "    <tr>\n",
       "      <th>2</th>\n",
       "      <td>0</td>\n",
       "      <td>1467810917</td>\n",
       "      <td>Mon Apr 06 22:19:53 PDT 2009</td>\n",
       "      <td>NO_QUERY</td>\n",
       "      <td>mattycus</td>\n",
       "      <td>@Kenichan I dived many times for the ball. Man...</td>\n",
       "      <td>kenichan dived many times ball managed save re...</td>\n",
       "    </tr>\n",
       "    <tr>\n",
       "      <th>3</th>\n",
       "      <td>0</td>\n",
       "      <td>1467811184</td>\n",
       "      <td>Mon Apr 06 22:19:57 PDT 2009</td>\n",
       "      <td>NO_QUERY</td>\n",
       "      <td>ElleCTF</td>\n",
       "      <td>my whole body feels itchy and like its on fire</td>\n",
       "      <td>whole body feels itchy like fire</td>\n",
       "    </tr>\n",
       "    <tr>\n",
       "      <th>4</th>\n",
       "      <td>0</td>\n",
       "      <td>1467811193</td>\n",
       "      <td>Mon Apr 06 22:19:57 PDT 2009</td>\n",
       "      <td>NO_QUERY</td>\n",
       "      <td>Karoli</td>\n",
       "      <td>@nationwideclass no, it's not behaving at all....</td>\n",
       "      <td>nationwideclass behaving mad see</td>\n",
       "    </tr>\n",
       "  </tbody>\n",
       "</table>\n",
       "</div>"
      ],
      "text/plain": [
       "   class          id                          date     query             user  \\\n",
       "0      0  1467810369  Mon Apr 06 22:19:45 PDT 2009  NO_QUERY  _TheSpecialOne_   \n",
       "1      0  1467810672  Mon Apr 06 22:19:49 PDT 2009  NO_QUERY    scotthamilton   \n",
       "2      0  1467810917  Mon Apr 06 22:19:53 PDT 2009  NO_QUERY         mattycus   \n",
       "3      0  1467811184  Mon Apr 06 22:19:57 PDT 2009  NO_QUERY          ElleCTF   \n",
       "4      0  1467811193  Mon Apr 06 22:19:57 PDT 2009  NO_QUERY           Karoli   \n",
       "\n",
       "                                                text  \\\n",
       "0  @switchfoot http://twitpic.com/2y1zl - Awww, t...   \n",
       "1  is upset that he can't update his Facebook by ...   \n",
       "2  @Kenichan I dived many times for the ball. Man...   \n",
       "3    my whole body feels itchy and like its on fire    \n",
       "4  @nationwideclass no, it's not behaving at all....   \n",
       "\n",
       "                                          Clean Text  \n",
       "0  switchfoot awww bummer shoulda got david carr ...  \n",
       "1  upset update facebook texting might cry result...  \n",
       "2  kenichan dived many times ball managed save re...  \n",
       "3                   whole body feels itchy like fire  \n",
       "4                   nationwideclass behaving mad see  "
      ]
     },
     "execution_count": 20,
     "metadata": {},
     "output_type": "execute_result"
    }
   ],
   "source": [
    "df_generic.head()"
   ]
  },
  {
   "cell_type": "code",
   "execution_count": 21,
   "metadata": {},
   "outputs": [
    {
     "data": {
      "text/html": [
       "<div>\n",
       "<style scoped>\n",
       "    .dataframe tbody tr th:only-of-type {\n",
       "        vertical-align: middle;\n",
       "    }\n",
       "\n",
       "    .dataframe tbody tr th {\n",
       "        vertical-align: top;\n",
       "    }\n",
       "\n",
       "    .dataframe thead th {\n",
       "        text-align: right;\n",
       "    }\n",
       "</style>\n",
       "<table border=\"1\" class=\"dataframe\">\n",
       "  <thead>\n",
       "    <tr style=\"text-align: right;\">\n",
       "      <th></th>\n",
       "      <th>class</th>\n",
       "      <th>id</th>\n",
       "      <th>date</th>\n",
       "      <th>query</th>\n",
       "      <th>user</th>\n",
       "      <th>text</th>\n",
       "      <th>Clean Text</th>\n",
       "    </tr>\n",
       "  </thead>\n",
       "  <tbody>\n",
       "    <tr>\n",
       "      <th>199995</th>\n",
       "      <td>4</td>\n",
       "      <td>1693956088</td>\n",
       "      <td>Mon May 04 00:27:13 PDT 2009</td>\n",
       "      <td>NO_QUERY</td>\n",
       "      <td>FelineBred</td>\n",
       "      <td>@jvdouglas  haha, no, the remark on maternity ...</td>\n",
       "      <td>jvdouglas haha remark maternity leave fired li...</td>\n",
       "    </tr>\n",
       "    <tr>\n",
       "      <th>199996</th>\n",
       "      <td>4</td>\n",
       "      <td>1693956096</td>\n",
       "      <td>Mon May 04 00:27:14 PDT 2009</td>\n",
       "      <td>NO_QUERY</td>\n",
       "      <td>softthistle</td>\n",
       "      <td>@altitis and to you!</td>\n",
       "      <td>altitis</td>\n",
       "    </tr>\n",
       "    <tr>\n",
       "      <th>199997</th>\n",
       "      <td>4</td>\n",
       "      <td>1693956099</td>\n",
       "      <td>Mon May 04 00:27:14 PDT 2009</td>\n",
       "      <td>NO_QUERY</td>\n",
       "      <td>elysion32</td>\n",
       "      <td>Okie doke!! Time for me to escape for the Nort...</td>\n",
       "      <td>okie doke time escape north massa back turned ...</td>\n",
       "    </tr>\n",
       "    <tr>\n",
       "      <th>199998</th>\n",
       "      <td>4</td>\n",
       "      <td>1693956134</td>\n",
       "      <td>Mon May 04 00:27:14 PDT 2009</td>\n",
       "      <td>NO_QUERY</td>\n",
       "      <td>fancyjessy</td>\n",
       "      <td>finished the lessons, hooray!</td>\n",
       "      <td>finished lessons hooray</td>\n",
       "    </tr>\n",
       "    <tr>\n",
       "      <th>199999</th>\n",
       "      <td>4</td>\n",
       "      <td>1693956160</td>\n",
       "      <td>Mon May 04 00:27:14 PDT 2009</td>\n",
       "      <td>NO_QUERY</td>\n",
       "      <td>noraezan</td>\n",
       "      <td>Some ppl are just fucking KP0. Cb ! Stop askin...</td>\n",
       "      <td>ppl fucking kp cb stop asking laa love boyfrie...</td>\n",
       "    </tr>\n",
       "  </tbody>\n",
       "</table>\n",
       "</div>"
      ],
      "text/plain": [
       "        class          id                          date     query  \\\n",
       "199995      4  1693956088  Mon May 04 00:27:13 PDT 2009  NO_QUERY   \n",
       "199996      4  1693956096  Mon May 04 00:27:14 PDT 2009  NO_QUERY   \n",
       "199997      4  1693956099  Mon May 04 00:27:14 PDT 2009  NO_QUERY   \n",
       "199998      4  1693956134  Mon May 04 00:27:14 PDT 2009  NO_QUERY   \n",
       "199999      4  1693956160  Mon May 04 00:27:14 PDT 2009  NO_QUERY   \n",
       "\n",
       "               user                                               text  \\\n",
       "199995   FelineBred  @jvdouglas  haha, no, the remark on maternity ...   \n",
       "199996  softthistle                              @altitis and to you!    \n",
       "199997    elysion32  Okie doke!! Time for me to escape for the Nort...   \n",
       "199998   fancyjessy                     finished the lessons, hooray!    \n",
       "199999     noraezan  Some ppl are just fucking KP0. Cb ! Stop askin...   \n",
       "\n",
       "                                               Clean Text  \n",
       "199995  jvdouglas haha remark maternity leave fired li...  \n",
       "199996                                            altitis  \n",
       "199997  okie doke time escape north massa back turned ...  \n",
       "199998                            finished lessons hooray  \n",
       "199999  ppl fucking kp cb stop asking laa love boyfrie...  "
      ]
     },
     "execution_count": 21,
     "metadata": {},
     "output_type": "execute_result"
    }
   ],
   "source": [
    "df_generic.tail()"
   ]
  },
  {
   "cell_type": "code",
   "execution_count": 22,
   "metadata": {},
   "outputs": [
    {
     "data": {
      "text/plain": [
       "class         200000\n",
       "id            200000\n",
       "date          200000\n",
       "query         200000\n",
       "user          200000\n",
       "text          200000\n",
       "Clean Text    200000\n",
       "dtype: int64"
      ]
     },
     "execution_count": 22,
     "metadata": {},
     "output_type": "execute_result"
    }
   ],
   "source": [
    "df_generic.count()"
   ]
  },
  {
   "cell_type": "markdown",
   "metadata": {},
   "source": [
    "##### 1.2 Airline Tweets Cleaning\n",
    "Next up is cleaning the Airline Tweets. The same preprocessing of the tweets that was done to the Generic Tweets will be applied to the Airline Tweets. "
   ]
  },
  {
   "cell_type": "code",
   "execution_count": 23,
   "metadata": {},
   "outputs": [],
   "source": [
    "df_airline = pd.read_csv('US_airline_tweets.csv')"
   ]
  },
  {
   "cell_type": "code",
   "execution_count": 24,
   "metadata": {},
   "outputs": [
    {
     "data": {
      "text/html": [
       "<div>\n",
       "<style scoped>\n",
       "    .dataframe tbody tr th:only-of-type {\n",
       "        vertical-align: middle;\n",
       "    }\n",
       "\n",
       "    .dataframe tbody tr th {\n",
       "        vertical-align: top;\n",
       "    }\n",
       "\n",
       "    .dataframe thead th {\n",
       "        text-align: right;\n",
       "    }\n",
       "</style>\n",
       "<table border=\"1\" class=\"dataframe\">\n",
       "  <thead>\n",
       "    <tr style=\"text-align: right;\">\n",
       "      <th></th>\n",
       "      <th>id</th>\n",
       "      <th>sentiment</th>\n",
       "      <th>negative_reason</th>\n",
       "      <th>user</th>\n",
       "      <th>retweet_count</th>\n",
       "      <th>text</th>\n",
       "    </tr>\n",
       "  </thead>\n",
       "  <tbody>\n",
       "    <tr>\n",
       "      <th>0</th>\n",
       "      <td>5.703010e+17</td>\n",
       "      <td>positive</td>\n",
       "      <td>NaN</td>\n",
       "      <td>jnardino</td>\n",
       "      <td>0</td>\n",
       "      <td>@VirginAmerica plus you've added commercials t...</td>\n",
       "    </tr>\n",
       "    <tr>\n",
       "      <th>1</th>\n",
       "      <td>5.703010e+17</td>\n",
       "      <td>negative</td>\n",
       "      <td>Bad Flight</td>\n",
       "      <td>jnardino</td>\n",
       "      <td>0</td>\n",
       "      <td>@VirginAmerica it's really aggressive to blast...</td>\n",
       "    </tr>\n",
       "    <tr>\n",
       "      <th>2</th>\n",
       "      <td>5.703010e+17</td>\n",
       "      <td>negative</td>\n",
       "      <td>Can't Tell</td>\n",
       "      <td>jnardino</td>\n",
       "      <td>0</td>\n",
       "      <td>@VirginAmerica and it's a really big bad thing...</td>\n",
       "    </tr>\n",
       "    <tr>\n",
       "      <th>3</th>\n",
       "      <td>5.703010e+17</td>\n",
       "      <td>negative</td>\n",
       "      <td>Can't Tell</td>\n",
       "      <td>jnardino</td>\n",
       "      <td>0</td>\n",
       "      <td>@VirginAmerica seriously would pay $30 a fligh...</td>\n",
       "    </tr>\n",
       "    <tr>\n",
       "      <th>4</th>\n",
       "      <td>5.703010e+17</td>\n",
       "      <td>positive</td>\n",
       "      <td>NaN</td>\n",
       "      <td>cjmcginnis</td>\n",
       "      <td>0</td>\n",
       "      <td>@VirginAmerica yes, nearly every time I fly VX...</td>\n",
       "    </tr>\n",
       "  </tbody>\n",
       "</table>\n",
       "</div>"
      ],
      "text/plain": [
       "             id sentiment negative_reason        user  retweet_count  \\\n",
       "0  5.703010e+17  positive             NaN    jnardino              0   \n",
       "1  5.703010e+17  negative      Bad Flight    jnardino              0   \n",
       "2  5.703010e+17  negative      Can't Tell    jnardino              0   \n",
       "3  5.703010e+17  negative      Can't Tell    jnardino              0   \n",
       "4  5.703010e+17  positive             NaN  cjmcginnis              0   \n",
       "\n",
       "                                                text  \n",
       "0  @VirginAmerica plus you've added commercials t...  \n",
       "1  @VirginAmerica it's really aggressive to blast...  \n",
       "2  @VirginAmerica and it's a really big bad thing...  \n",
       "3  @VirginAmerica seriously would pay $30 a fligh...  \n",
       "4  @VirginAmerica yes, nearly every time I fly VX...  "
      ]
     },
     "execution_count": 24,
     "metadata": {},
     "output_type": "execute_result"
    }
   ],
   "source": [
    "df_airline.head()"
   ]
  },
  {
   "cell_type": "code",
   "execution_count": 25,
   "metadata": {},
   "outputs": [
    {
     "data": {
      "text/html": [
       "<div>\n",
       "<style scoped>\n",
       "    .dataframe tbody tr th:only-of-type {\n",
       "        vertical-align: middle;\n",
       "    }\n",
       "\n",
       "    .dataframe tbody tr th {\n",
       "        vertical-align: top;\n",
       "    }\n",
       "\n",
       "    .dataframe thead th {\n",
       "        text-align: right;\n",
       "    }\n",
       "</style>\n",
       "<table border=\"1\" class=\"dataframe\">\n",
       "  <thead>\n",
       "    <tr style=\"text-align: right;\">\n",
       "      <th></th>\n",
       "      <th>id</th>\n",
       "      <th>sentiment</th>\n",
       "      <th>negative_reason</th>\n",
       "      <th>user</th>\n",
       "      <th>retweet_count</th>\n",
       "      <th>text</th>\n",
       "    </tr>\n",
       "  </thead>\n",
       "  <tbody>\n",
       "    <tr>\n",
       "      <th>11536</th>\n",
       "      <td>5.695880e+17</td>\n",
       "      <td>negative</td>\n",
       "      <td>Cancelled Flight</td>\n",
       "      <td>RussellsWriting</td>\n",
       "      <td>0</td>\n",
       "      <td>@AmericanAir my flight was Cancelled Flightled...</td>\n",
       "    </tr>\n",
       "    <tr>\n",
       "      <th>11537</th>\n",
       "      <td>5.695880e+17</td>\n",
       "      <td>negative</td>\n",
       "      <td>Late Flight</td>\n",
       "      <td>GolfWithWoody</td>\n",
       "      <td>0</td>\n",
       "      <td>@AmericanAir right on cue with the delaysðŸ‘Œ</td>\n",
       "    </tr>\n",
       "    <tr>\n",
       "      <th>11538</th>\n",
       "      <td>5.695880e+17</td>\n",
       "      <td>positive</td>\n",
       "      <td>NaN</td>\n",
       "      <td>KristenReenders</td>\n",
       "      <td>0</td>\n",
       "      <td>@AmericanAir thank you we got on a different f...</td>\n",
       "    </tr>\n",
       "    <tr>\n",
       "      <th>11539</th>\n",
       "      <td>5.695870e+17</td>\n",
       "      <td>negative</td>\n",
       "      <td>Customer Service Issue</td>\n",
       "      <td>itsropes</td>\n",
       "      <td>0</td>\n",
       "      <td>@AmericanAir leaving over 20 minutes Late Flig...</td>\n",
       "    </tr>\n",
       "    <tr>\n",
       "      <th>11540</th>\n",
       "      <td>5.695870e+17</td>\n",
       "      <td>negative</td>\n",
       "      <td>Customer Service Issue</td>\n",
       "      <td>SraJackson</td>\n",
       "      <td>0</td>\n",
       "      <td>@AmericanAir you have my money, you change my ...</td>\n",
       "    </tr>\n",
       "  </tbody>\n",
       "</table>\n",
       "</div>"
      ],
      "text/plain": [
       "                 id sentiment         negative_reason             user  \\\n",
       "11536  5.695880e+17  negative        Cancelled Flight  RussellsWriting   \n",
       "11537  5.695880e+17  negative             Late Flight    GolfWithWoody   \n",
       "11538  5.695880e+17  positive                     NaN  KristenReenders   \n",
       "11539  5.695870e+17  negative  Customer Service Issue         itsropes   \n",
       "11540  5.695870e+17  negative  Customer Service Issue       SraJackson   \n",
       "\n",
       "       retweet_count                                               text  \n",
       "11536              0  @AmericanAir my flight was Cancelled Flightled...  \n",
       "11537              0      @AmericanAir right on cue with the delaysðŸ‘Œ  \n",
       "11538              0  @AmericanAir thank you we got on a different f...  \n",
       "11539              0  @AmericanAir leaving over 20 minutes Late Flig...  \n",
       "11540              0  @AmericanAir you have my money, you change my ...  "
      ]
     },
     "execution_count": 25,
     "metadata": {},
     "output_type": "execute_result"
    }
   ],
   "source": [
    "df_airline.tail()"
   ]
  },
  {
   "cell_type": "markdown",
   "metadata": {},
   "source": [
    "Beautiful Soup to remove HTML tags and attributes along with HTML character codes"
   ]
  },
  {
   "cell_type": "code",
   "execution_count": 26,
   "metadata": {},
   "outputs": [
    {
     "data": {
      "text/plain": [
       "'@VirginAmerica it\\'s really aggressive to blast obnoxious \"entertainment\" in your guests\\' faces &amp; they have little recourse'"
      ]
     },
     "execution_count": 26,
     "metadata": {},
     "output_type": "execute_result"
    }
   ],
   "source": [
    "df_airline.text[1] # Original Tweet"
   ]
  },
  {
   "cell_type": "code",
   "execution_count": 27,
   "metadata": {},
   "outputs": [
    {
     "name": "stdout",
     "output_type": "stream",
     "text": [
      "@VirginAmerica it's really aggressive to blast obnoxious \"entertainment\" in your guests' faces & they have little recourse\n"
     ]
    }
   ],
   "source": [
    "testing = BeautifulSoup(df_airline.text[1],'lxml') # Beautiful soup modified tweet\n",
    "print (testing.get_text())"
   ]
  },
  {
   "cell_type": "markdown",
   "metadata": {},
   "source": [
    "Removal of the URL"
   ]
  },
  {
   "cell_type": "code",
   "execution_count": 28,
   "metadata": {},
   "outputs": [
    {
     "data": {
      "text/plain": [
       "'ðŸ˜Ž RT @VirginAmerica: Youâ€™ve met your match. Got status on another airline? Upgrade (+restr): http://t.co/RHKaMx9VF5. http://t.co/PYalebgkJt'"
      ]
     },
     "execution_count": 28,
     "metadata": {},
     "output_type": "execute_result"
    }
   ],
   "source": [
    "df_airline.text[121] # Original Tweet"
   ]
  },
  {
   "cell_type": "code",
   "execution_count": 29,
   "metadata": {},
   "outputs": [
    {
     "data": {
      "text/plain": [
       "'ðŸ˜Ž RT @VirginAmerica: Youâ€™ve met your match. Got status on another airline? Upgrade (+restr):  '"
      ]
     },
     "execution_count": 29,
     "metadata": {},
     "output_type": "execute_result"
    }
   ],
   "source": [
    "import re\n",
    "re.sub('https?://[A-Za-z0-9./]+','',df_airline.text[121]) # Regular Expression Modified Tweet"
   ]
  },
  {
   "cell_type": "markdown",
   "metadata": {},
   "source": [
    "Convert to all lower case."
   ]
  },
  {
   "cell_type": "code",
   "execution_count": 30,
   "metadata": {},
   "outputs": [
    {
     "data": {
      "text/plain": [
       "\"@VirginAmerica plus you've added commercials to the experience... tacky.\""
      ]
     },
     "execution_count": 30,
     "metadata": {},
     "output_type": "execute_result"
    }
   ],
   "source": [
    "df_airline.text[0] # Original Tweet"
   ]
  },
  {
   "cell_type": "code",
   "execution_count": 31,
   "metadata": {},
   "outputs": [
    {
     "data": {
      "text/plain": [
       "\"@virginamerica plus you've added commercials to the experience... tacky.\""
      ]
     },
     "execution_count": 31,
     "metadata": {},
     "output_type": "execute_result"
    }
   ],
   "source": [
    "df_airline.text[0].lower() # .lower() modified tweet"
   ]
  },
  {
   "cell_type": "markdown",
   "metadata": {},
   "source": [
    "Similar to what was done for the Generic Tweets, we will remove the Removal of Stop Words"
   ]
  },
  {
   "cell_type": "code",
   "execution_count": 32,
   "metadata": {},
   "outputs": [],
   "source": [
    "temp = df_airline.text[0].lower().split()"
   ]
  },
  {
   "cell_type": "code",
   "execution_count": 33,
   "metadata": {},
   "outputs": [
    {
     "data": {
      "text/plain": [
       "['@virginamerica',\n",
       " 'plus',\n",
       " \"you've\",\n",
       " 'added',\n",
       " 'commercials',\n",
       " 'to',\n",
       " 'the',\n",
       " 'experience...',\n",
       " 'tacky.']"
      ]
     },
     "execution_count": 33,
     "metadata": {},
     "output_type": "execute_result"
    }
   ],
   "source": [
    "temp"
   ]
  },
  {
   "cell_type": "code",
   "execution_count": 34,
   "metadata": {},
   "outputs": [
    {
     "data": {
      "text/plain": [
       "['@virginamerica', 'plus', 'added', 'commercials', 'experience...', 'tacky.']"
      ]
     },
     "execution_count": 34,
     "metadata": {},
     "output_type": "execute_result"
    }
   ],
   "source": [
    "filtered_words = [word for word in temp if word not in stopwords.words('english')]\n",
    "filtered_words"
   ]
  },
  {
   "cell_type": "code",
   "execution_count": 35,
   "metadata": {},
   "outputs": [
    {
     "data": {
      "text/plain": [
       "'@virginamerica plus added commercials experience... tacky.'"
      ]
     },
     "execution_count": 35,
     "metadata": {},
     "output_type": "execute_result"
    }
   ],
   "source": [
    "(\" \").join(filtered_words)"
   ]
  },
  {
   "cell_type": "markdown",
   "metadata": {},
   "source": [
    "The same tweet_cleaning function defined above will be used for the airline_df as was done for the generic tweets. With this said a test on the first 3 airline tweets will be done to ensure that function calls are working correctly."
   ]
  },
  {
   "cell_type": "code",
   "execution_count": 36,
   "metadata": {},
   "outputs": [
    {
     "data": {
      "text/plain": [
       "['virginamerica plus added commercials experience tacky',\n",
       " 'virginamerica really aggressive blast obnoxious entertainment guests faces amp little recourse',\n",
       " 'virginamerica really big bad thing']"
      ]
     },
     "execution_count": 36,
     "metadata": {},
     "output_type": "execute_result"
    }
   ],
   "source": [
    "# Below is a test of the function to ensure that it is properly functioning. The first 3 tweets contained within the dataframe\n",
    "# are past through the function and then printed.\n",
    "testing = df_airline.text[:3]\n",
    "test_result = []\n",
    "for x in testing:\n",
    "    test_result.append(tweet_cleaning(x))\n",
    "test_result"
   ]
  },
  {
   "cell_type": "markdown",
   "metadata": {},
   "source": [
    "As can be seen from the cell above and the test result the function appears to be running properly, and all required information has been removed from the tweets leaving a format that is more ammendable to processing through a Machine Learning Algorithm. \n",
    "\n",
    "The next step is to apply this to the entire tweet data set of 200,000 tweets. To do this I have employed the use of the .apply() function and allocated a new coloumn to the dataframe \"df_airline\" of \"Clean Text\"."
   ]
  },
  {
   "cell_type": "code",
   "execution_count": 37,
   "metadata": {},
   "outputs": [],
   "source": [
    "df_airline[\"Clean Text\"] = df_airline[\"text\"].apply(lambda x: tweet_cleaning(x)) #This is about a 3 second runtime on my hardware setup"
   ]
  },
  {
   "cell_type": "markdown",
   "metadata": {},
   "source": [
    "To verify if the added coloumn to the dataframe \"df\" has properly been stored I will call the head(), tail() and count() function again."
   ]
  },
  {
   "cell_type": "code",
   "execution_count": 38,
   "metadata": {},
   "outputs": [
    {
     "data": {
      "text/html": [
       "<div>\n",
       "<style scoped>\n",
       "    .dataframe tbody tr th:only-of-type {\n",
       "        vertical-align: middle;\n",
       "    }\n",
       "\n",
       "    .dataframe tbody tr th {\n",
       "        vertical-align: top;\n",
       "    }\n",
       "\n",
       "    .dataframe thead th {\n",
       "        text-align: right;\n",
       "    }\n",
       "</style>\n",
       "<table border=\"1\" class=\"dataframe\">\n",
       "  <thead>\n",
       "    <tr style=\"text-align: right;\">\n",
       "      <th></th>\n",
       "      <th>id</th>\n",
       "      <th>sentiment</th>\n",
       "      <th>negative_reason</th>\n",
       "      <th>user</th>\n",
       "      <th>retweet_count</th>\n",
       "      <th>text</th>\n",
       "      <th>Clean Text</th>\n",
       "    </tr>\n",
       "  </thead>\n",
       "  <tbody>\n",
       "    <tr>\n",
       "      <th>0</th>\n",
       "      <td>5.703010e+17</td>\n",
       "      <td>positive</td>\n",
       "      <td>NaN</td>\n",
       "      <td>jnardino</td>\n",
       "      <td>0</td>\n",
       "      <td>@VirginAmerica plus you've added commercials t...</td>\n",
       "      <td>virginamerica plus added commercials experienc...</td>\n",
       "    </tr>\n",
       "    <tr>\n",
       "      <th>1</th>\n",
       "      <td>5.703010e+17</td>\n",
       "      <td>negative</td>\n",
       "      <td>Bad Flight</td>\n",
       "      <td>jnardino</td>\n",
       "      <td>0</td>\n",
       "      <td>@VirginAmerica it's really aggressive to blast...</td>\n",
       "      <td>virginamerica really aggressive blast obnoxiou...</td>\n",
       "    </tr>\n",
       "    <tr>\n",
       "      <th>2</th>\n",
       "      <td>5.703010e+17</td>\n",
       "      <td>negative</td>\n",
       "      <td>Can't Tell</td>\n",
       "      <td>jnardino</td>\n",
       "      <td>0</td>\n",
       "      <td>@VirginAmerica and it's a really big bad thing...</td>\n",
       "      <td>virginamerica really big bad thing</td>\n",
       "    </tr>\n",
       "    <tr>\n",
       "      <th>3</th>\n",
       "      <td>5.703010e+17</td>\n",
       "      <td>negative</td>\n",
       "      <td>Can't Tell</td>\n",
       "      <td>jnardino</td>\n",
       "      <td>0</td>\n",
       "      <td>@VirginAmerica seriously would pay $30 a fligh...</td>\n",
       "      <td>virginamerica seriously would pay flight seats...</td>\n",
       "    </tr>\n",
       "    <tr>\n",
       "      <th>4</th>\n",
       "      <td>5.703010e+17</td>\n",
       "      <td>positive</td>\n",
       "      <td>NaN</td>\n",
       "      <td>cjmcginnis</td>\n",
       "      <td>0</td>\n",
       "      <td>@VirginAmerica yes, nearly every time I fly VX...</td>\n",
       "      <td>virginamerica yes nearly every time fly vx ear...</td>\n",
       "    </tr>\n",
       "  </tbody>\n",
       "</table>\n",
       "</div>"
      ],
      "text/plain": [
       "             id sentiment negative_reason        user  retweet_count  \\\n",
       "0  5.703010e+17  positive             NaN    jnardino              0   \n",
       "1  5.703010e+17  negative      Bad Flight    jnardino              0   \n",
       "2  5.703010e+17  negative      Can't Tell    jnardino              0   \n",
       "3  5.703010e+17  negative      Can't Tell    jnardino              0   \n",
       "4  5.703010e+17  positive             NaN  cjmcginnis              0   \n",
       "\n",
       "                                                text  \\\n",
       "0  @VirginAmerica plus you've added commercials t...   \n",
       "1  @VirginAmerica it's really aggressive to blast...   \n",
       "2  @VirginAmerica and it's a really big bad thing...   \n",
       "3  @VirginAmerica seriously would pay $30 a fligh...   \n",
       "4  @VirginAmerica yes, nearly every time I fly VX...   \n",
       "\n",
       "                                          Clean Text  \n",
       "0  virginamerica plus added commercials experienc...  \n",
       "1  virginamerica really aggressive blast obnoxiou...  \n",
       "2                 virginamerica really big bad thing  \n",
       "3  virginamerica seriously would pay flight seats...  \n",
       "4  virginamerica yes nearly every time fly vx ear...  "
      ]
     },
     "execution_count": 38,
     "metadata": {},
     "output_type": "execute_result"
    }
   ],
   "source": [
    "df_airline.head()"
   ]
  },
  {
   "cell_type": "code",
   "execution_count": 39,
   "metadata": {},
   "outputs": [
    {
     "data": {
      "text/html": [
       "<div>\n",
       "<style scoped>\n",
       "    .dataframe tbody tr th:only-of-type {\n",
       "        vertical-align: middle;\n",
       "    }\n",
       "\n",
       "    .dataframe tbody tr th {\n",
       "        vertical-align: top;\n",
       "    }\n",
       "\n",
       "    .dataframe thead th {\n",
       "        text-align: right;\n",
       "    }\n",
       "</style>\n",
       "<table border=\"1\" class=\"dataframe\">\n",
       "  <thead>\n",
       "    <tr style=\"text-align: right;\">\n",
       "      <th></th>\n",
       "      <th>id</th>\n",
       "      <th>sentiment</th>\n",
       "      <th>negative_reason</th>\n",
       "      <th>user</th>\n",
       "      <th>retweet_count</th>\n",
       "      <th>text</th>\n",
       "      <th>Clean Text</th>\n",
       "    </tr>\n",
       "  </thead>\n",
       "  <tbody>\n",
       "    <tr>\n",
       "      <th>11536</th>\n",
       "      <td>5.695880e+17</td>\n",
       "      <td>negative</td>\n",
       "      <td>Cancelled Flight</td>\n",
       "      <td>RussellsWriting</td>\n",
       "      <td>0</td>\n",
       "      <td>@AmericanAir my flight was Cancelled Flightled...</td>\n",
       "      <td>americanair flight cancelled flightled leaving...</td>\n",
       "    </tr>\n",
       "    <tr>\n",
       "      <th>11537</th>\n",
       "      <td>5.695880e+17</td>\n",
       "      <td>negative</td>\n",
       "      <td>Late Flight</td>\n",
       "      <td>GolfWithWoody</td>\n",
       "      <td>0</td>\n",
       "      <td>@AmericanAir right on cue with the delaysðŸ‘Œ</td>\n",
       "      <td>americanair right cue delays</td>\n",
       "    </tr>\n",
       "    <tr>\n",
       "      <th>11538</th>\n",
       "      <td>5.695880e+17</td>\n",
       "      <td>positive</td>\n",
       "      <td>NaN</td>\n",
       "      <td>KristenReenders</td>\n",
       "      <td>0</td>\n",
       "      <td>@AmericanAir thank you we got on a different f...</td>\n",
       "      <td>americanair thank got different flight chicago</td>\n",
       "    </tr>\n",
       "    <tr>\n",
       "      <th>11539</th>\n",
       "      <td>5.695870e+17</td>\n",
       "      <td>negative</td>\n",
       "      <td>Customer Service Issue</td>\n",
       "      <td>itsropes</td>\n",
       "      <td>0</td>\n",
       "      <td>@AmericanAir leaving over 20 minutes Late Flig...</td>\n",
       "      <td>americanair leaving minutes late flight warnin...</td>\n",
       "    </tr>\n",
       "    <tr>\n",
       "      <th>11540</th>\n",
       "      <td>5.695870e+17</td>\n",
       "      <td>negative</td>\n",
       "      <td>Customer Service Issue</td>\n",
       "      <td>SraJackson</td>\n",
       "      <td>0</td>\n",
       "      <td>@AmericanAir you have my money, you change my ...</td>\n",
       "      <td>americanair money change flight answer phones ...</td>\n",
       "    </tr>\n",
       "  </tbody>\n",
       "</table>\n",
       "</div>"
      ],
      "text/plain": [
       "                 id sentiment         negative_reason             user  \\\n",
       "11536  5.695880e+17  negative        Cancelled Flight  RussellsWriting   \n",
       "11537  5.695880e+17  negative             Late Flight    GolfWithWoody   \n",
       "11538  5.695880e+17  positive                     NaN  KristenReenders   \n",
       "11539  5.695870e+17  negative  Customer Service Issue         itsropes   \n",
       "11540  5.695870e+17  negative  Customer Service Issue       SraJackson   \n",
       "\n",
       "       retweet_count                                               text  \\\n",
       "11536              0  @AmericanAir my flight was Cancelled Flightled...   \n",
       "11537              0      @AmericanAir right on cue with the delaysðŸ‘Œ   \n",
       "11538              0  @AmericanAir thank you we got on a different f...   \n",
       "11539              0  @AmericanAir leaving over 20 minutes Late Flig...   \n",
       "11540              0  @AmericanAir you have my money, you change my ...   \n",
       "\n",
       "                                              Clean Text  \n",
       "11536  americanair flight cancelled flightled leaving...  \n",
       "11537                       americanair right cue delays  \n",
       "11538     americanair thank got different flight chicago  \n",
       "11539  americanair leaving minutes late flight warnin...  \n",
       "11540  americanair money change flight answer phones ...  "
      ]
     },
     "execution_count": 39,
     "metadata": {},
     "output_type": "execute_result"
    }
   ],
   "source": [
    "df_airline.tail()"
   ]
  },
  {
   "cell_type": "code",
   "execution_count": 40,
   "metadata": {},
   "outputs": [
    {
     "data": {
      "text/plain": [
       "id                 11541\n",
       "sentiment          11541\n",
       "negative_reason     9178\n",
       "user               11541\n",
       "retweet_count      11541\n",
       "text               11541\n",
       "Clean Text         11541\n",
       "dtype: int64"
      ]
     },
     "execution_count": 40,
     "metadata": {},
     "output_type": "execute_result"
    }
   ],
   "source": [
    "df_airline.count()"
   ]
  },
  {
   "cell_type": "markdown",
   "metadata": {},
   "source": [
    "### 2.0 Exploratory Analysis\n",
    "Matplotlib and seaborn will both be imported and will be used for data visualzations"
   ]
  },
  {
   "cell_type": "code",
   "execution_count": 41,
   "metadata": {},
   "outputs": [],
   "source": [
    "import matplotlib.pyplot as plt\n",
    "import seaborn as sns"
   ]
  },
  {
   "cell_type": "markdown",
   "metadata": {},
   "source": [
    "The function below determines the tweet count associated with each respective airline in the airline dataset. Note the keywords of interest that I have looked for are \"americanair\", \"usairways\", \"jetblue\", \"southwestair\", \"united\", \"virginamerica\", \"deltaassit\", and no airline mention."
   ]
  },
  {
   "cell_type": "code",
   "execution_count": 42,
   "metadata": {},
   "outputs": [],
   "source": [
    "def airline_counter(text): # Function to count the number of times each airline is mentioned and the number of positives vs negatives\n",
    "    airline_result_counter = [0]*8\n",
    "    airline_result_sentiment_negative = [0]*8\n",
    "    airline_result_sentiment_positive = [0]*8\n",
    "    \n",
    "    for i in range(0,11540):\n",
    "        if (\"americanair\") in text[i]:\n",
    "            airline_result_counter[0] = airline_result_counter[0] + 1 # Count the number of tweets associated with americanair\n",
    "            if df_airline[\"sentiment\"][i] == \"negative\":\n",
    "                airline_result_sentiment_negative[0] = airline_result_sentiment_negative[0] + 1\n",
    "            else:\n",
    "                airline_result_sentiment_positive[0] = airline_result_sentiment_positive[0] + 1\n",
    "            \n",
    "        elif (\"usairways\") in text [i]:\n",
    "            airline_result_counter[1] = airline_result_counter[1] + 1 # Count the number of tweets associated with usairways\n",
    "            if df_airline[\"sentiment\"][i] == \"negative\":\n",
    "                airline_result_sentiment_negative[1] = airline_result_sentiment_negative[1] + 1\n",
    "            else:\n",
    "                airline_result_sentiment_positive[1] = airline_result_sentiment_positive[1] + 1\n",
    "                \n",
    "        elif (\"jetblue\") in text[i]:\n",
    "            airline_result_counter[2] = airline_result_counter[2] + 1 # Count the number of tweets associated with jetblue\n",
    "            if df_airline[\"sentiment\"][i] == \"negative\":\n",
    "                airline_result_sentiment_negative[2] = airline_result_sentiment_negative[2] + 1\n",
    "            else:\n",
    "                airline_result_sentiment_positive[2] = airline_result_sentiment_positive[2] + 1\n",
    "                \n",
    "        elif (\"southwestair\") in text [i]:\n",
    "            airline_result_counter[3] = airline_result_counter[3] + 1 # Count the number of tweets associated with southwestair\n",
    "            if df_airline[\"sentiment\"][i] == \"negative\":\n",
    "                airline_result_sentiment_negative[3] = airline_result_sentiment_negative[3] + 1\n",
    "            else:\n",
    "                airline_result_sentiment_positive[3] = airline_result_sentiment_positive[3] + 1\n",
    "                \n",
    "        elif (\"united\") in text [i]:\n",
    "            airline_result_counter[4] = airline_result_counter[4] + 1 # Count the number of tweets associated with united\n",
    "            if df_airline[\"sentiment\"][i] == \"negative\":\n",
    "                airline_result_sentiment_negative[4] = airline_result_sentiment_negative[4] + 1\n",
    "            else:\n",
    "                airline_result_sentiment_positive[4] = airline_result_sentiment_positive[4] + 1\n",
    "                \n",
    "        elif (\"virginamerica\") in text [i]:\n",
    "            airline_result_counter[5] = airline_result_counter[5] + 1 # Count the number of tweets associated with virginamerica\n",
    "            if df_airline[\"sentiment\"][i] == \"negative\":\n",
    "                airline_result_sentiment_negative[5] = airline_result_sentiment_negative[5] + 1\n",
    "            else:\n",
    "                airline_result_sentiment_positive[5] = airline_result_sentiment_positive[5] + 1\n",
    "                \n",
    "        elif (\"deltaassist\") in text [i]:\n",
    "            airline_result_counter[6] = airline_result_counter[6] + 1 # Count the number of tweets associated with deltaassist\n",
    "            if df_airline[\"sentiment\"][i] == \"negative\":\n",
    "                airline_result_sentiment_negative[6] = airline_result_sentiment_negative[6] + 1\n",
    "            else:\n",
    "                airline_result_sentiment_positive[6] = airline_result_sentiment_positive[6] + 1\n",
    "                \n",
    "        else:\n",
    "            airline_result_counter[7] = airline_result_counter[7] + 1 # Count the number of tweets not with no airline mention\n",
    "            if df_airline[\"sentiment\"][i] == \"negative\":\n",
    "                airline_result_sentiment_negative[7] = airline_result_sentiment_negative[7] + 1\n",
    "            else:\n",
    "                airline_result_sentiment_positive[7] = airline_result_sentiment_positive[7] + 1\n",
    "                \n",
    "    return (airline_result_counter, airline_result_sentiment_negative, airline_result_sentiment_positive)    \n",
    "\n",
    "airline_counter_results,airline_sentiment_result_negative,airline_sentiment_result_positive = airline_counter(df_airline['Clean Text'])"
   ]
  },
  {
   "cell_type": "code",
   "execution_count": 43,
   "metadata": {},
   "outputs": [
    {
     "name": "stdout",
     "output_type": "stream",
     "text": [
      "[2457, 2414, 1498, 1745, 3095, 328, 2, 1]\n",
      "[2103, 2152, 957, 1174, 2611, 178, 2, 0]\n",
      "[354, 262, 541, 571, 484, 150, 0, 1]\n"
     ]
    }
   ],
   "source": [
    "print (airline_counter_results)\n",
    "print (airline_sentiment_result_negative)\n",
    "print (airline_sentiment_result_positive)"
   ]
  },
  {
   "cell_type": "markdown",
   "metadata": {},
   "source": [
    "Create a new data frame that holds the number of occurances for each airline."
   ]
  },
  {
   "cell_type": "code",
   "execution_count": 44,
   "metadata": {},
   "outputs": [
    {
     "data": {
      "text/html": [
       "<div>\n",
       "<style scoped>\n",
       "    .dataframe tbody tr th:only-of-type {\n",
       "        vertical-align: middle;\n",
       "    }\n",
       "\n",
       "    .dataframe tbody tr th {\n",
       "        vertical-align: top;\n",
       "    }\n",
       "\n",
       "    .dataframe thead th {\n",
       "        text-align: right;\n",
       "    }\n",
       "</style>\n",
       "<table border=\"1\" class=\"dataframe\">\n",
       "  <thead>\n",
       "    <tr style=\"text-align: right;\">\n",
       "      <th></th>\n",
       "      <th>Number of Occurances</th>\n",
       "      <th>Airline</th>\n",
       "      <th># of Negative</th>\n",
       "      <th># of Positive</th>\n",
       "    </tr>\n",
       "  </thead>\n",
       "  <tbody>\n",
       "    <tr>\n",
       "      <th>0</th>\n",
       "      <td>2457</td>\n",
       "      <td>American Air</td>\n",
       "      <td>2103</td>\n",
       "      <td>354</td>\n",
       "    </tr>\n",
       "    <tr>\n",
       "      <th>1</th>\n",
       "      <td>2414</td>\n",
       "      <td>US Airways</td>\n",
       "      <td>2152</td>\n",
       "      <td>262</td>\n",
       "    </tr>\n",
       "    <tr>\n",
       "      <th>2</th>\n",
       "      <td>1498</td>\n",
       "      <td>Jet Blue</td>\n",
       "      <td>957</td>\n",
       "      <td>541</td>\n",
       "    </tr>\n",
       "    <tr>\n",
       "      <th>3</th>\n",
       "      <td>1745</td>\n",
       "      <td>South West Air</td>\n",
       "      <td>1174</td>\n",
       "      <td>571</td>\n",
       "    </tr>\n",
       "    <tr>\n",
       "      <th>4</th>\n",
       "      <td>3095</td>\n",
       "      <td>United</td>\n",
       "      <td>2611</td>\n",
       "      <td>484</td>\n",
       "    </tr>\n",
       "    <tr>\n",
       "      <th>5</th>\n",
       "      <td>328</td>\n",
       "      <td>Virgin America</td>\n",
       "      <td>178</td>\n",
       "      <td>150</td>\n",
       "    </tr>\n",
       "    <tr>\n",
       "      <th>6</th>\n",
       "      <td>2</td>\n",
       "      <td>Delta Assist</td>\n",
       "      <td>2</td>\n",
       "      <td>0</td>\n",
       "    </tr>\n",
       "    <tr>\n",
       "      <th>7</th>\n",
       "      <td>1</td>\n",
       "      <td>No Airline</td>\n",
       "      <td>0</td>\n",
       "      <td>1</td>\n",
       "    </tr>\n",
       "  </tbody>\n",
       "</table>\n",
       "</div>"
      ],
      "text/plain": [
       "   Number of Occurances         Airline  # of Negative  # of Positive\n",
       "0                  2457    American Air           2103            354\n",
       "1                  2414      US Airways           2152            262\n",
       "2                  1498        Jet Blue            957            541\n",
       "3                  1745  South West Air           1174            571\n",
       "4                  3095          United           2611            484\n",
       "5                   328  Virgin America            178            150\n",
       "6                     2    Delta Assist              2              0\n",
       "7                     1      No Airline              0              1"
      ]
     },
     "execution_count": 44,
     "metadata": {},
     "output_type": "execute_result"
    }
   ],
   "source": [
    "airline_counter_df= pd.DataFrame(airline_counter_results, columns=['Number of Occurances'])\n",
    "airline_counter_df[\"Airline\"] = (\"American Air\",\"US Airways\", \"Jet Blue\", \"South West Air\", \"United\", \"Virgin America\", \"Delta Assist\", \"No Airline\")\n",
    "airline_counter_df[\"# of Negative\"] = airline_sentiment_result_negative\n",
    "airline_counter_df[\"# of Positive\"] = airline_sentiment_result_positive\n",
    "airline_counter_df"
   ]
  },
  {
   "cell_type": "markdown",
   "metadata": {},
   "source": [
    "As can be seen there is one data entry which doesn't specifically mention any specifc airline. Rather it is from an airline in response to another tweet. I will leave the entry in the table, but it is interesting to note. Further there are only 2 tweets directed at Delta Assist and only 328 at Virign America. These are substantially less the the remaining airlines."
   ]
  },
  {
   "cell_type": "code",
   "execution_count": 45,
   "metadata": {},
   "outputs": [],
   "source": [
    "%matplotlib inline"
   ]
  },
  {
   "cell_type": "markdown",
   "metadata": {},
   "source": [
    "For vizualizations I will first resize the figure size to ensure that the plots are readable."
   ]
  },
  {
   "cell_type": "code",
   "execution_count": 46,
   "metadata": {},
   "outputs": [
    {
     "name": "stdout",
     "output_type": "stream",
     "text": [
      "Current size:\n"
     ]
    },
    {
     "data": {
      "text/plain": [
       "(None, [6.0, 4.0])"
      ]
     },
     "execution_count": 46,
     "metadata": {},
     "output_type": "execute_result"
    }
   ],
   "source": [
    "from matplotlib.pyplot import figure\n",
    "fig_size = plt.rcParams[\"figure.figsize\"]\n",
    "print (\"Current size:\"), fig_size"
   ]
  },
  {
   "cell_type": "code",
   "execution_count": 47,
   "metadata": {},
   "outputs": [
    {
     "name": "stdout",
     "output_type": "stream",
     "text": [
      "Current size:\n"
     ]
    },
    {
     "data": {
      "text/plain": [
       "(None, [12, 9])"
      ]
     },
     "execution_count": 47,
     "metadata": {},
     "output_type": "execute_result"
    }
   ],
   "source": [
    "fig_size[0] = 12\n",
    "fig_size[1] = 9\n",
    "print (\"Current size:\"), fig_size"
   ]
  },
  {
   "cell_type": "markdown",
   "metadata": {},
   "source": [
    "The first plot shows the Airline tweets associated with each airline and the number of occurances or the number of times a tweet was mentioned @ a specific airline. As can be noted the airline mentioned the most is Untied, and the airline mentioned the least is Delta Assist"
   ]
  },
  {
   "cell_type": "code",
   "execution_count": 48,
   "metadata": {},
   "outputs": [
    {
     "data": {
      "text/plain": [
       "Text(0.5, 1.0, 'Airline Tweets')"
      ]
     },
     "execution_count": 48,
     "metadata": {},
     "output_type": "execute_result"
    },
    {
     "data": {
      "image/png": "[encoded data removed]",
      "text/plain": [
       "<Figure size 864x648 with 1 Axes>"
      ]
     },
     "metadata": {
      "needs_background": "light"
     },
     "output_type": "display_data"
    }
   ],
   "source": [
    "sns.barplot(x='Airline',y='Number of Occurances',data=airline_counter_df).set_title('Airline Tweets')"
   ]
  },
  {
   "cell_type": "markdown",
   "metadata": {},
   "source": [
    "From the figure above it can be conlcuded that there is not an even distribution of airline tweets from each respective airline. More specifically the number of tweets correlating with United Airlines signficiantly outnumbers all other airlines and Delta Assist has only 2 tweets correlated with it. Further from the airline_counter_df calculated above it can be seen that all airlines have signficiantly more negative tweets associated with them then positve tweets. "
   ]
  },
  {
   "cell_type": "markdown",
   "metadata": {},
   "source": [
    "For plotting and analysis purposes I will convert the sentiment text of positve or negative to a sentiment value correlating to 1 for positve or 0 for negative. This will be added as a new coloumn in the dataframe \"df_airline\". This is done in the cell block below."
   ]
  },
  {
   "cell_type": "code",
   "execution_count": 49,
   "metadata": {},
   "outputs": [
    {
     "data": {
      "text/html": [
       "<div>\n",
       "<style scoped>\n",
       "    .dataframe tbody tr th:only-of-type {\n",
       "        vertical-align: middle;\n",
       "    }\n",
       "\n",
       "    .dataframe tbody tr th {\n",
       "        vertical-align: top;\n",
       "    }\n",
       "\n",
       "    .dataframe thead th {\n",
       "        text-align: right;\n",
       "    }\n",
       "</style>\n",
       "<table border=\"1\" class=\"dataframe\">\n",
       "  <thead>\n",
       "    <tr style=\"text-align: right;\">\n",
       "      <th></th>\n",
       "      <th>id</th>\n",
       "      <th>sentiment</th>\n",
       "      <th>negative_reason</th>\n",
       "      <th>user</th>\n",
       "      <th>retweet_count</th>\n",
       "      <th>text</th>\n",
       "      <th>Clean Text</th>\n",
       "      <th>Sentiment Value</th>\n",
       "    </tr>\n",
       "  </thead>\n",
       "  <tbody>\n",
       "    <tr>\n",
       "      <th>0</th>\n",
       "      <td>5.703010e+17</td>\n",
       "      <td>positive</td>\n",
       "      <td>NaN</td>\n",
       "      <td>jnardino</td>\n",
       "      <td>0</td>\n",
       "      <td>@VirginAmerica plus you've added commercials t...</td>\n",
       "      <td>virginamerica plus added commercials experienc...</td>\n",
       "      <td>1</td>\n",
       "    </tr>\n",
       "    <tr>\n",
       "      <th>1</th>\n",
       "      <td>5.703010e+17</td>\n",
       "      <td>negative</td>\n",
       "      <td>Bad Flight</td>\n",
       "      <td>jnardino</td>\n",
       "      <td>0</td>\n",
       "      <td>@VirginAmerica it's really aggressive to blast...</td>\n",
       "      <td>virginamerica really aggressive blast obnoxiou...</td>\n",
       "      <td>0</td>\n",
       "    </tr>\n",
       "    <tr>\n",
       "      <th>2</th>\n",
       "      <td>5.703010e+17</td>\n",
       "      <td>negative</td>\n",
       "      <td>Can't Tell</td>\n",
       "      <td>jnardino</td>\n",
       "      <td>0</td>\n",
       "      <td>@VirginAmerica and it's a really big bad thing...</td>\n",
       "      <td>virginamerica really big bad thing</td>\n",
       "      <td>0</td>\n",
       "    </tr>\n",
       "    <tr>\n",
       "      <th>3</th>\n",
       "      <td>5.703010e+17</td>\n",
       "      <td>negative</td>\n",
       "      <td>Can't Tell</td>\n",
       "      <td>jnardino</td>\n",
       "      <td>0</td>\n",
       "      <td>@VirginAmerica seriously would pay $30 a fligh...</td>\n",
       "      <td>virginamerica seriously would pay flight seats...</td>\n",
       "      <td>0</td>\n",
       "    </tr>\n",
       "    <tr>\n",
       "      <th>4</th>\n",
       "      <td>5.703010e+17</td>\n",
       "      <td>positive</td>\n",
       "      <td>NaN</td>\n",
       "      <td>cjmcginnis</td>\n",
       "      <td>0</td>\n",
       "      <td>@VirginAmerica yes, nearly every time I fly VX...</td>\n",
       "      <td>virginamerica yes nearly every time fly vx ear...</td>\n",
       "      <td>1</td>\n",
       "    </tr>\n",
       "  </tbody>\n",
       "</table>\n",
       "</div>"
      ],
      "text/plain": [
       "             id sentiment negative_reason        user  retweet_count  \\\n",
       "0  5.703010e+17  positive             NaN    jnardino              0   \n",
       "1  5.703010e+17  negative      Bad Flight    jnardino              0   \n",
       "2  5.703010e+17  negative      Can't Tell    jnardino              0   \n",
       "3  5.703010e+17  negative      Can't Tell    jnardino              0   \n",
       "4  5.703010e+17  positive             NaN  cjmcginnis              0   \n",
       "\n",
       "                                                text  \\\n",
       "0  @VirginAmerica plus you've added commercials t...   \n",
       "1  @VirginAmerica it's really aggressive to blast...   \n",
       "2  @VirginAmerica and it's a really big bad thing...   \n",
       "3  @VirginAmerica seriously would pay $30 a fligh...   \n",
       "4  @VirginAmerica yes, nearly every time I fly VX...   \n",
       "\n",
       "                                          Clean Text  Sentiment Value  \n",
       "0  virginamerica plus added commercials experienc...                1  \n",
       "1  virginamerica really aggressive blast obnoxiou...                0  \n",
       "2                 virginamerica really big bad thing                0  \n",
       "3  virginamerica seriously would pay flight seats...                0  \n",
       "4  virginamerica yes nearly every time fly vx ear...                1  "
      ]
     },
     "execution_count": 49,
     "metadata": {},
     "output_type": "execute_result"
    }
   ],
   "source": [
    "def sentiment_value (sentiment):\n",
    "    if sentiment == (\"negative\"):\n",
    "        sentiment_value = 0\n",
    "    elif sentiment == (\"positive\"):\n",
    "        sentiment_value = 1\n",
    "    return (sentiment_value)\n",
    "\n",
    "df_airline['Sentiment Value'] = df_airline['sentiment'].apply(lambda x: sentiment_value(x))\n",
    "\n",
    "df_airline.head()"
   ]
  },
  {
   "cell_type": "code",
   "execution_count": 50,
   "metadata": {},
   "outputs": [
    {
     "data": {
      "image/png": "[encoded data removed]",
      "text/plain": [
       "<Figure size 864x648 with 1 Axes>"
      ]
     },
     "metadata": {
      "needs_background": "light"
     },
     "output_type": "display_data"
    }
   ],
   "source": [
    "plot = df_airline.hist(column='Sentiment Value')\n",
    "\n",
    "plot = plot[0]\n",
    "for x in plot:\n",
    "    x.set_title(\"Sentiment\")\n",
    "    x.set_xlabel(\"Sentiment Value\", labelpad=20, size=12)\n",
    "    x.set_ylabel(\"Number of Occurances\", labelpad=20, size=12)"
   ]
  },
  {
   "cell_type": "markdown",
   "metadata": {},
   "source": [
    "From the graph above it is obvious that the distribution of tweets about the airlines is largely negative. If the number of positive tweets to negative tweets is calculated (see cell block below) it can be seen that there are 9,178 negative tweets and 2,363 postive tweets. If used as a target variable there will undoubtedly be class imbalances. Care will have to be taken when training a model on this data. That said the assignment only calls for using the negative tweets as training data for the second model. Further analysis which will be conducted later on in this notebook will show that there are class imbalances that also exist in the negative reasons for the negative tweets. These imbalances cause issues an inaccuracies in the resultant predictions."
   ]
  },
  {
   "cell_type": "code",
   "execution_count": 51,
   "metadata": {
    "scrolled": true
   },
   "outputs": [
    {
     "name": "stdout",
     "output_type": "stream",
     "text": [
      "[9178, 2363]\n"
     ]
    }
   ],
   "source": [
    "sentiment_counter = [0]*2\n",
    "\n",
    "def sentiment_count (sentiment):\n",
    "    if sentiment == (\"negative\"):\n",
    "        sentiment_counter[0] = sentiment_counter[0] + 1\n",
    "    elif sentiment == (\"positive\"):\n",
    "        sentiment_counter[1] = sentiment_counter[1] + 1\n",
    "    return (sentiment_counter)\n",
    "\n",
    "test = df_airline['sentiment'].apply(lambda x: sentiment_count(x))\n",
    "print (test[1])"
   ]
  },
  {
   "cell_type": "markdown",
   "metadata": {},
   "source": [
    "Next I will examine figures relevant to the generic tweet dataset.\n",
    "\n",
    "First for further processing I will need to remove any NAN references to the text that are present after the cleaning of the data. I will replace these with an empty space ('')."
   ]
  },
  {
   "cell_type": "code",
   "execution_count": 52,
   "metadata": {},
   "outputs": [],
   "source": [
    "df_generic['Clean Text'] = df_generic['Clean Text'].replace(np.nan, '', regex=True)"
   ]
  },
  {
   "cell_type": "markdown",
   "metadata": {},
   "source": [
    "I have decided to calaculate the tweet character length as well as the tweet word length based on the Clean Text coloumn. The cell block below calculates both of these. The results of which will be used for visual representations as well as features in the machine learning model (feature engineering)."
   ]
  },
  {
   "cell_type": "code",
   "execution_count": 53,
   "metadata": {},
   "outputs": [],
   "source": [
    "df_generic['Tweet Character Length'] = df_generic['Clean Text'].apply(len)\n",
    "\n",
    "def length_of_tweet (text):\n",
    "    temp = text.split()\n",
    "    generic_tweet_length = len(temp)\n",
    "    return (generic_tweet_length)\n",
    "\n",
    "df_generic['Tweet Word Length'] = df_generic['Clean Text'].apply(lambda x: length_of_tweet(x))"
   ]
  },
  {
   "cell_type": "code",
   "execution_count": 54,
   "metadata": {},
   "outputs": [
    {
     "data": {
      "text/html": [
       "<div>\n",
       "<style scoped>\n",
       "    .dataframe tbody tr th:only-of-type {\n",
       "        vertical-align: middle;\n",
       "    }\n",
       "\n",
       "    .dataframe tbody tr th {\n",
       "        vertical-align: top;\n",
       "    }\n",
       "\n",
       "    .dataframe thead th {\n",
       "        text-align: right;\n",
       "    }\n",
       "</style>\n",
       "<table border=\"1\" class=\"dataframe\">\n",
       "  <thead>\n",
       "    <tr style=\"text-align: right;\">\n",
       "      <th></th>\n",
       "      <th>class</th>\n",
       "      <th>id</th>\n",
       "      <th>date</th>\n",
       "      <th>query</th>\n",
       "      <th>user</th>\n",
       "      <th>text</th>\n",
       "      <th>Clean Text</th>\n",
       "      <th>Tweet Character Length</th>\n",
       "      <th>Tweet Word Length</th>\n",
       "    </tr>\n",
       "  </thead>\n",
       "  <tbody>\n",
       "    <tr>\n",
       "      <th>199995</th>\n",
       "      <td>4</td>\n",
       "      <td>1693956088</td>\n",
       "      <td>Mon May 04 00:27:13 PDT 2009</td>\n",
       "      <td>NO_QUERY</td>\n",
       "      <td>FelineBred</td>\n",
       "      <td>@jvdouglas  haha, no, the remark on maternity ...</td>\n",
       "      <td>jvdouglas haha remark maternity leave fired li...</td>\n",
       "      <td>50</td>\n",
       "      <td>7</td>\n",
       "    </tr>\n",
       "    <tr>\n",
       "      <th>199996</th>\n",
       "      <td>4</td>\n",
       "      <td>1693956096</td>\n",
       "      <td>Mon May 04 00:27:14 PDT 2009</td>\n",
       "      <td>NO_QUERY</td>\n",
       "      <td>softthistle</td>\n",
       "      <td>@altitis and to you!</td>\n",
       "      <td>altitis</td>\n",
       "      <td>7</td>\n",
       "      <td>1</td>\n",
       "    </tr>\n",
       "    <tr>\n",
       "      <th>199997</th>\n",
       "      <td>4</td>\n",
       "      <td>1693956099</td>\n",
       "      <td>Mon May 04 00:27:14 PDT 2009</td>\n",
       "      <td>NO_QUERY</td>\n",
       "      <td>elysion32</td>\n",
       "      <td>Okie doke!! Time for me to escape for the Nort...</td>\n",
       "      <td>okie doke time escape north massa back turned ...</td>\n",
       "      <td>60</td>\n",
       "      <td>11</td>\n",
       "    </tr>\n",
       "    <tr>\n",
       "      <th>199998</th>\n",
       "      <td>4</td>\n",
       "      <td>1693956134</td>\n",
       "      <td>Mon May 04 00:27:14 PDT 2009</td>\n",
       "      <td>NO_QUERY</td>\n",
       "      <td>fancyjessy</td>\n",
       "      <td>finished the lessons, hooray!</td>\n",
       "      <td>finished lessons hooray</td>\n",
       "      <td>23</td>\n",
       "      <td>3</td>\n",
       "    </tr>\n",
       "    <tr>\n",
       "      <th>199999</th>\n",
       "      <td>4</td>\n",
       "      <td>1693956160</td>\n",
       "      <td>Mon May 04 00:27:14 PDT 2009</td>\n",
       "      <td>NO_QUERY</td>\n",
       "      <td>noraezan</td>\n",
       "      <td>Some ppl are just fucking KP0. Cb ! Stop askin...</td>\n",
       "      <td>ppl fucking kp cb stop asking laa love boyfrie...</td>\n",
       "      <td>54</td>\n",
       "      <td>10</td>\n",
       "    </tr>\n",
       "  </tbody>\n",
       "</table>\n",
       "</div>"
      ],
      "text/plain": [
       "        class          id                          date     query  \\\n",
       "199995      4  1693956088  Mon May 04 00:27:13 PDT 2009  NO_QUERY   \n",
       "199996      4  1693956096  Mon May 04 00:27:14 PDT 2009  NO_QUERY   \n",
       "199997      4  1693956099  Mon May 04 00:27:14 PDT 2009  NO_QUERY   \n",
       "199998      4  1693956134  Mon May 04 00:27:14 PDT 2009  NO_QUERY   \n",
       "199999      4  1693956160  Mon May 04 00:27:14 PDT 2009  NO_QUERY   \n",
       "\n",
       "               user                                               text  \\\n",
       "199995   FelineBred  @jvdouglas  haha, no, the remark on maternity ...   \n",
       "199996  softthistle                              @altitis and to you!    \n",
       "199997    elysion32  Okie doke!! Time for me to escape for the Nort...   \n",
       "199998   fancyjessy                     finished the lessons, hooray!    \n",
       "199999     noraezan  Some ppl are just fucking KP0. Cb ! Stop askin...   \n",
       "\n",
       "                                               Clean Text  \\\n",
       "199995  jvdouglas haha remark maternity leave fired li...   \n",
       "199996                                            altitis   \n",
       "199997  okie doke time escape north massa back turned ...   \n",
       "199998                            finished lessons hooray   \n",
       "199999  ppl fucking kp cb stop asking laa love boyfrie...   \n",
       "\n",
       "        Tweet Character Length  Tweet Word Length  \n",
       "199995                      50                  7  \n",
       "199996                       7                  1  \n",
       "199997                      60                 11  \n",
       "199998                      23                  3  \n",
       "199999                      54                 10  "
      ]
     },
     "execution_count": 54,
     "metadata": {},
     "output_type": "execute_result"
    }
   ],
   "source": [
    "df_generic.tail()"
   ]
  },
  {
   "cell_type": "code",
   "execution_count": 55,
   "metadata": {},
   "outputs": [
    {
     "data": {
      "image/png": "[encoded data removed]",
      "text/plain": [
       "<Figure size 864x648 with 1 Axes>"
      ]
     },
     "metadata": {
      "needs_background": "light"
     },
     "output_type": "display_data"
    }
   ],
   "source": [
    "plot2 = df_generic.hist(column='class')\n",
    "\n",
    "plot2 = plot2[0]\n",
    "for x in plot2:\n",
    "    x.set_title(\"Class by Number of Occurances\")\n",
    "    x.set_xlabel(\"Class\", labelpad=20, size=12)\n",
    "    x.set_ylabel(\"Number of Occurances\", labelpad=20, size=12)"
   ]
  },
  {
   "cell_type": "markdown",
   "metadata": {},
   "source": [
    "From the figure above it is obvious that there are equal number of class 0 and class 4 tweets. This is good as it will prevent any class imbalances during the training of the model.\n",
    "\n",
    "Next I will plot the Tweet Word Length its number of occurances by the class it is atrributed to. As can be seen the distribution between the two classes is very similar with the class 0 tweets typcially being smaller but with a high standard deviation when compared to the class 4 tweets."
   ]
  },
  {
   "cell_type": "code",
   "execution_count": 56,
   "metadata": {},
   "outputs": [
    {
     "data": {
      "image/png": "[encoded data removed]",
      "text/plain": [
       "<Figure size 864x648 with 2 Axes>"
      ]
     },
     "metadata": {
      "needs_background": "light"
     },
     "output_type": "display_data"
    }
   ],
   "source": [
    "plot3 = df_generic.hist('Tweet Word Length',by='class')\n",
    "\n",
    "for i,x in enumerate(plot3):\n",
    "    \n",
    "    x.set_xlabel(\"Length of Tweet\", labelpad=20, weight='bold', size=12)\n",
    "    if i == 1:\n",
    "        x.set_ylabel(\"Number of Occurances\", labelpad=400, weight='bold', size=12)"
   ]
  },
  {
   "cell_type": "markdown",
   "metadata": {},
   "source": [
    "This concludes section 2.0 for exploratory analysis. There are further figures and analysis presented in the Bonus section that add to the discussion above but are not apart of the requirements of the assignment."
   ]
  },
  {
   "cell_type": "markdown",
   "metadata": {},
   "source": [
    "### 3.0 Model Preparation and 4.0 Model Implementation\n",
    "The following contains the model preparation stage and implementation stage.\n",
    "\n",
    "To start we will first take the optional corpus provided and convert it to a dataframe followed by a dictionary. The ultimate purpose of which will be to assign a score to each tweet based on how many words match the corpus and their associated values. This will be included as an additional feature in the Machine Learning model developed in section 4.0. \n",
    "\n",
    "First lets open the corpus and assign it to a varaible."
   ]
  },
  {
   "cell_type": "code",
   "execution_count": 57,
   "metadata": {},
   "outputs": [
    {
     "name": "stdout",
     "output_type": "stream",
     "text": [
      "abandon\t-2\n",
      "abandoned\t-2\n",
      "abandons\t-2\n",
      "abducted\t-2\n"
     ]
    }
   ],
   "source": [
    "corpus = open('corpus.txt','r').read()\n",
    "print (corpus[0:47])"
   ]
  },
  {
   "cell_type": "markdown",
   "metadata": {},
   "source": [
    "Next we need to format the above corpus data into something that can be inputted properly into a dataframe with the word and the score as sperate coloumns in a dataframe"
   ]
  },
  {
   "cell_type": "code",
   "execution_count": 58,
   "metadata": {},
   "outputs": [],
   "source": [
    "corpus_list = corpus.split('\\n')\n",
    "corpus_list_2 = [0]*2477\n",
    "for i in range(0,2477):\n",
    "    corpus_list_2[i] = corpus_list[i].split(\"\\t\")       "
   ]
  },
  {
   "cell_type": "code",
   "execution_count": 59,
   "metadata": {},
   "outputs": [],
   "source": [
    "corpus_word_key = [0]*2477\n",
    "corpus_word_value = [0]*2477\n",
    "for i in range(0,2477):\n",
    "    corpus_word_key[i] = corpus_list_2[i][0] \n",
    "    corpus_word_value[i] = corpus_list_2[i][1]"
   ]
  },
  {
   "cell_type": "markdown",
   "metadata": {},
   "source": [
    "Create two data frames one to hold the Word List and the Word Value. These dataframes will be merged to one following this."
   ]
  },
  {
   "cell_type": "code",
   "execution_count": 60,
   "metadata": {},
   "outputs": [],
   "source": [
    "corpus_df = pd.DataFrame(corpus_word_key, columns=['Word List'])\n",
    "corpus_df_2 = pd.DataFrame(corpus_word_value, columns=['Word Value'])"
   ]
  },
  {
   "cell_type": "code",
   "execution_count": 61,
   "metadata": {},
   "outputs": [],
   "source": [
    "corpus_df['Word Value'] = corpus_df_2['Word Value']"
   ]
  },
  {
   "cell_type": "code",
   "execution_count": 62,
   "metadata": {},
   "outputs": [
    {
     "data": {
      "text/html": [
       "<div>\n",
       "<style scoped>\n",
       "    .dataframe tbody tr th:only-of-type {\n",
       "        vertical-align: middle;\n",
       "    }\n",
       "\n",
       "    .dataframe tbody tr th {\n",
       "        vertical-align: top;\n",
       "    }\n",
       "\n",
       "    .dataframe thead th {\n",
       "        text-align: right;\n",
       "    }\n",
       "</style>\n",
       "<table border=\"1\" class=\"dataframe\">\n",
       "  <thead>\n",
       "    <tr style=\"text-align: right;\">\n",
       "      <th></th>\n",
       "      <th>Word List</th>\n",
       "      <th>Word Value</th>\n",
       "    </tr>\n",
       "  </thead>\n",
       "  <tbody>\n",
       "    <tr>\n",
       "      <th>0</th>\n",
       "      <td>abandon</td>\n",
       "      <td>-2</td>\n",
       "    </tr>\n",
       "    <tr>\n",
       "      <th>1</th>\n",
       "      <td>abandoned</td>\n",
       "      <td>-2</td>\n",
       "    </tr>\n",
       "    <tr>\n",
       "      <th>2</th>\n",
       "      <td>abandons</td>\n",
       "      <td>-2</td>\n",
       "    </tr>\n",
       "    <tr>\n",
       "      <th>3</th>\n",
       "      <td>abducted</td>\n",
       "      <td>-2</td>\n",
       "    </tr>\n",
       "    <tr>\n",
       "      <th>4</th>\n",
       "      <td>abduction</td>\n",
       "      <td>-2</td>\n",
       "    </tr>\n",
       "  </tbody>\n",
       "</table>\n",
       "</div>"
      ],
      "text/plain": [
       "   Word List Word Value\n",
       "0    abandon         -2\n",
       "1  abandoned         -2\n",
       "2   abandons         -2\n",
       "3   abducted         -2\n",
       "4  abduction         -2"
      ]
     },
     "execution_count": 62,
     "metadata": {},
     "output_type": "execute_result"
    }
   ],
   "source": [
    "corpus_df.head()"
   ]
  },
  {
   "cell_type": "code",
   "execution_count": 63,
   "metadata": {},
   "outputs": [
    {
     "data": {
      "text/html": [
       "<div>\n",
       "<style scoped>\n",
       "    .dataframe tbody tr th:only-of-type {\n",
       "        vertical-align: middle;\n",
       "    }\n",
       "\n",
       "    .dataframe tbody tr th {\n",
       "        vertical-align: top;\n",
       "    }\n",
       "\n",
       "    .dataframe thead th {\n",
       "        text-align: right;\n",
       "    }\n",
       "</style>\n",
       "<table border=\"1\" class=\"dataframe\">\n",
       "  <thead>\n",
       "    <tr style=\"text-align: right;\">\n",
       "      <th></th>\n",
       "      <th>Word List</th>\n",
       "      <th>Word Value</th>\n",
       "    </tr>\n",
       "  </thead>\n",
       "  <tbody>\n",
       "    <tr>\n",
       "      <th>2472</th>\n",
       "      <td>yucky</td>\n",
       "      <td>-2</td>\n",
       "    </tr>\n",
       "    <tr>\n",
       "      <th>2473</th>\n",
       "      <td>yummy</td>\n",
       "      <td>3</td>\n",
       "    </tr>\n",
       "    <tr>\n",
       "      <th>2474</th>\n",
       "      <td>zealot</td>\n",
       "      <td>-2</td>\n",
       "    </tr>\n",
       "    <tr>\n",
       "      <th>2475</th>\n",
       "      <td>zealots</td>\n",
       "      <td>-2</td>\n",
       "    </tr>\n",
       "    <tr>\n",
       "      <th>2476</th>\n",
       "      <td>zealous</td>\n",
       "      <td>2</td>\n",
       "    </tr>\n",
       "  </tbody>\n",
       "</table>\n",
       "</div>"
      ],
      "text/plain": [
       "     Word List Word Value\n",
       "2472     yucky         -2\n",
       "2473     yummy          3\n",
       "2474    zealot         -2\n",
       "2475   zealots         -2\n",
       "2476   zealous          2"
      ]
     },
     "execution_count": 63,
     "metadata": {},
     "output_type": "execute_result"
    }
   ],
   "source": [
    "corpus_df.tail()"
   ]
  },
  {
   "cell_type": "code",
   "execution_count": 64,
   "metadata": {},
   "outputs": [
    {
     "data": {
      "text/html": [
       "<div>\n",
       "<style scoped>\n",
       "    .dataframe tbody tr th:only-of-type {\n",
       "        vertical-align: middle;\n",
       "    }\n",
       "\n",
       "    .dataframe tbody tr th {\n",
       "        vertical-align: top;\n",
       "    }\n",
       "\n",
       "    .dataframe thead th {\n",
       "        text-align: right;\n",
       "    }\n",
       "</style>\n",
       "<table border=\"1\" class=\"dataframe\">\n",
       "  <thead>\n",
       "    <tr style=\"text-align: right;\">\n",
       "      <th></th>\n",
       "      <th>Word List</th>\n",
       "      <th>Word Value</th>\n",
       "      <th>Word Value Int</th>\n",
       "    </tr>\n",
       "  </thead>\n",
       "  <tbody>\n",
       "    <tr>\n",
       "      <th>0</th>\n",
       "      <td>abandon</td>\n",
       "      <td>-2</td>\n",
       "      <td>-2</td>\n",
       "    </tr>\n",
       "    <tr>\n",
       "      <th>1</th>\n",
       "      <td>abandoned</td>\n",
       "      <td>-2</td>\n",
       "      <td>-2</td>\n",
       "    </tr>\n",
       "    <tr>\n",
       "      <th>2</th>\n",
       "      <td>abandons</td>\n",
       "      <td>-2</td>\n",
       "      <td>-2</td>\n",
       "    </tr>\n",
       "    <tr>\n",
       "      <th>3</th>\n",
       "      <td>abducted</td>\n",
       "      <td>-2</td>\n",
       "      <td>-2</td>\n",
       "    </tr>\n",
       "    <tr>\n",
       "      <th>4</th>\n",
       "      <td>abduction</td>\n",
       "      <td>-2</td>\n",
       "      <td>-2</td>\n",
       "    </tr>\n",
       "  </tbody>\n",
       "</table>\n",
       "</div>"
      ],
      "text/plain": [
       "   Word List Word Value  Word Value Int\n",
       "0    abandon         -2              -2\n",
       "1  abandoned         -2              -2\n",
       "2   abandons         -2              -2\n",
       "3   abducted         -2              -2\n",
       "4  abduction         -2              -2"
      ]
     },
     "execution_count": 64,
     "metadata": {},
     "output_type": "execute_result"
    }
   ],
   "source": [
    "corpus_df[\"Word Value Int\"] = corpus_df['Word Value'].apply(lambda x: int(x))\n",
    "\n",
    "corpus_df.head()"
   ]
  },
  {
   "cell_type": "markdown",
   "metadata": {},
   "source": [
    "With the corpus data extracted and stored in a dataframe, I will zip it into a dictionary as this is a more useful format."
   ]
  },
  {
   "cell_type": "code",
   "execution_count": 65,
   "metadata": {},
   "outputs": [],
   "source": [
    "corpus_dictionary = dict(zip(corpus_df[\"Word List\"], corpus_df[\"Word Value Int\"]))"
   ]
  },
  {
   "cell_type": "markdown",
   "metadata": {},
   "source": [
    "As an additional feature to the model, I have decided to include the number of matches in the cleaned text with the provided corpus. To do this I first determined which words in the cleaned dataset matched the corpus data and then determined the number of elements that matched for each tweet. The number of list matches can be calculated as below. Note I have added this as an additional coloumn in the df_generic dataframe."
   ]
  },
  {
   "cell_type": "code",
   "execution_count": 66,
   "metadata": {},
   "outputs": [],
   "source": [
    "list_of_matches = [0]*200000 # Create a list of size 200,000 to store the list of matches\n",
    "for i in range (0,200000): # Check which words match up in the cleaned tweets with the corpus\n",
    "    temp = (df_generic[\"Clean Text\"][i]).split()\n",
    "    temp2 = (corpus_df[\"Word List\"])\n",
    "    list_of_matches[i] = (list (set(temp) & set(temp2)))"
   ]
  },
  {
   "cell_type": "code",
   "execution_count": 67,
   "metadata": {},
   "outputs": [
    {
     "data": {
      "text/html": [
       "<div>\n",
       "<style scoped>\n",
       "    .dataframe tbody tr th:only-of-type {\n",
       "        vertical-align: middle;\n",
       "    }\n",
       "\n",
       "    .dataframe tbody tr th {\n",
       "        vertical-align: top;\n",
       "    }\n",
       "\n",
       "    .dataframe thead th {\n",
       "        text-align: right;\n",
       "    }\n",
       "</style>\n",
       "<table border=\"1\" class=\"dataframe\">\n",
       "  <thead>\n",
       "    <tr style=\"text-align: right;\">\n",
       "      <th></th>\n",
       "      <th>class</th>\n",
       "      <th>id</th>\n",
       "      <th>date</th>\n",
       "      <th>query</th>\n",
       "      <th>user</th>\n",
       "      <th>text</th>\n",
       "      <th>Clean Text</th>\n",
       "      <th>Tweet Character Length</th>\n",
       "      <th>Tweet Word Length</th>\n",
       "      <th>List of Matches</th>\n",
       "    </tr>\n",
       "  </thead>\n",
       "  <tbody>\n",
       "    <tr>\n",
       "      <th>199995</th>\n",
       "      <td>4</td>\n",
       "      <td>1693956088</td>\n",
       "      <td>Mon May 04 00:27:13 PDT 2009</td>\n",
       "      <td>NO_QUERY</td>\n",
       "      <td>FelineBred</td>\n",
       "      <td>@jvdouglas  haha, no, the remark on maternity ...</td>\n",
       "      <td>jvdouglas haha remark maternity leave fired li...</td>\n",
       "      <td>50</td>\n",
       "      <td>7</td>\n",
       "      <td>[fired, leave, haha]</td>\n",
       "    </tr>\n",
       "    <tr>\n",
       "      <th>199996</th>\n",
       "      <td>4</td>\n",
       "      <td>1693956096</td>\n",
       "      <td>Mon May 04 00:27:14 PDT 2009</td>\n",
       "      <td>NO_QUERY</td>\n",
       "      <td>softthistle</td>\n",
       "      <td>@altitis and to you!</td>\n",
       "      <td>altitis</td>\n",
       "      <td>7</td>\n",
       "      <td>1</td>\n",
       "      <td>[]</td>\n",
       "    </tr>\n",
       "    <tr>\n",
       "      <th>199997</th>\n",
       "      <td>4</td>\n",
       "      <td>1693956099</td>\n",
       "      <td>Mon May 04 00:27:14 PDT 2009</td>\n",
       "      <td>NO_QUERY</td>\n",
       "      <td>elysion32</td>\n",
       "      <td>Okie doke!! Time for me to escape for the Nort...</td>\n",
       "      <td>okie doke time escape north massa back turned ...</td>\n",
       "      <td>60</td>\n",
       "      <td>11</td>\n",
       "      <td>[escape]</td>\n",
       "    </tr>\n",
       "    <tr>\n",
       "      <th>199998</th>\n",
       "      <td>4</td>\n",
       "      <td>1693956134</td>\n",
       "      <td>Mon May 04 00:27:14 PDT 2009</td>\n",
       "      <td>NO_QUERY</td>\n",
       "      <td>fancyjessy</td>\n",
       "      <td>finished the lessons, hooray!</td>\n",
       "      <td>finished lessons hooray</td>\n",
       "      <td>23</td>\n",
       "      <td>3</td>\n",
       "      <td>[]</td>\n",
       "    </tr>\n",
       "    <tr>\n",
       "      <th>199999</th>\n",
       "      <td>4</td>\n",
       "      <td>1693956160</td>\n",
       "      <td>Mon May 04 00:27:14 PDT 2009</td>\n",
       "      <td>NO_QUERY</td>\n",
       "      <td>noraezan</td>\n",
       "      <td>Some ppl are just fucking KP0. Cb ! Stop askin...</td>\n",
       "      <td>ppl fucking kp cb stop asking laa love boyfrie...</td>\n",
       "      <td>54</td>\n",
       "      <td>10</td>\n",
       "      <td>[love, stop, fucking]</td>\n",
       "    </tr>\n",
       "  </tbody>\n",
       "</table>\n",
       "</div>"
      ],
      "text/plain": [
       "        class          id                          date     query  \\\n",
       "199995      4  1693956088  Mon May 04 00:27:13 PDT 2009  NO_QUERY   \n",
       "199996      4  1693956096  Mon May 04 00:27:14 PDT 2009  NO_QUERY   \n",
       "199997      4  1693956099  Mon May 04 00:27:14 PDT 2009  NO_QUERY   \n",
       "199998      4  1693956134  Mon May 04 00:27:14 PDT 2009  NO_QUERY   \n",
       "199999      4  1693956160  Mon May 04 00:27:14 PDT 2009  NO_QUERY   \n",
       "\n",
       "               user                                               text  \\\n",
       "199995   FelineBred  @jvdouglas  haha, no, the remark on maternity ...   \n",
       "199996  softthistle                              @altitis and to you!    \n",
       "199997    elysion32  Okie doke!! Time for me to escape for the Nort...   \n",
       "199998   fancyjessy                     finished the lessons, hooray!    \n",
       "199999     noraezan  Some ppl are just fucking KP0. Cb ! Stop askin...   \n",
       "\n",
       "                                               Clean Text  \\\n",
       "199995  jvdouglas haha remark maternity leave fired li...   \n",
       "199996                                            altitis   \n",
       "199997  okie doke time escape north massa back turned ...   \n",
       "199998                            finished lessons hooray   \n",
       "199999  ppl fucking kp cb stop asking laa love boyfrie...   \n",
       "\n",
       "        Tweet Character Length  Tweet Word Length        List of Matches  \n",
       "199995                      50                  7   [fired, leave, haha]  \n",
       "199996                       7                  1                     []  \n",
       "199997                      60                 11               [escape]  \n",
       "199998                      23                  3                     []  \n",
       "199999                      54                 10  [love, stop, fucking]  "
      ]
     },
     "execution_count": 67,
     "metadata": {},
     "output_type": "execute_result"
    }
   ],
   "source": [
    "df_generic['List of Matches'] = list_of_matches # Add a new coloumn in the dataframe to store the list of matches information\n",
    "df_generic.tail()"
   ]
  },
  {
   "cell_type": "markdown",
   "metadata": {},
   "source": [
    "With the list of matches for each tweet computed, the next step is to determine the length of each of these lists. This can be done using the number of matches function below. Since the corpus contains words that have a significant sentiment score attached to them, it stands to reason that there would be a correlation with the number of word matches in the cleaned text and the corpus and the tweets associated sentiment. As such I have also calculated the score based on the matched words from the cleaned tweets in the corpus file and summed their associated scores to recieve an overall tweet score."
   ]
  },
  {
   "cell_type": "code",
   "execution_count": 68,
   "metadata": {},
   "outputs": [],
   "source": [
    "def number_of_matches (text): # Number of matches function\n",
    "    number_of_matches = len(text)\n",
    "    return (number_of_matches)\n",
    "\n",
    "df_generic['Number of Matches'] = df_generic['List of Matches'].apply(lambda x: number_of_matches(x))"
   ]
  },
  {
   "cell_type": "code",
   "execution_count": 69,
   "metadata": {},
   "outputs": [
    {
     "data": {
      "text/html": [
       "<div>\n",
       "<style scoped>\n",
       "    .dataframe tbody tr th:only-of-type {\n",
       "        vertical-align: middle;\n",
       "    }\n",
       "\n",
       "    .dataframe tbody tr th {\n",
       "        vertical-align: top;\n",
       "    }\n",
       "\n",
       "    .dataframe thead th {\n",
       "        text-align: right;\n",
       "    }\n",
       "</style>\n",
       "<table border=\"1\" class=\"dataframe\">\n",
       "  <thead>\n",
       "    <tr style=\"text-align: right;\">\n",
       "      <th></th>\n",
       "      <th>class</th>\n",
       "      <th>id</th>\n",
       "      <th>date</th>\n",
       "      <th>query</th>\n",
       "      <th>user</th>\n",
       "      <th>text</th>\n",
       "      <th>Clean Text</th>\n",
       "      <th>Tweet Character Length</th>\n",
       "      <th>Tweet Word Length</th>\n",
       "      <th>List of Matches</th>\n",
       "      <th>Number of Matches</th>\n",
       "    </tr>\n",
       "  </thead>\n",
       "  <tbody>\n",
       "    <tr>\n",
       "      <th>0</th>\n",
       "      <td>0</td>\n",
       "      <td>1467810369</td>\n",
       "      <td>Mon Apr 06 22:19:45 PDT 2009</td>\n",
       "      <td>NO_QUERY</td>\n",
       "      <td>_TheSpecialOne_</td>\n",
       "      <td>@switchfoot http://twitpic.com/2y1zl - Awww, t...</td>\n",
       "      <td>switchfoot awww bummer shoulda got david carr ...</td>\n",
       "      <td>55</td>\n",
       "      <td>9</td>\n",
       "      <td>[bummer]</td>\n",
       "      <td>1</td>\n",
       "    </tr>\n",
       "    <tr>\n",
       "      <th>1</th>\n",
       "      <td>0</td>\n",
       "      <td>1467810672</td>\n",
       "      <td>Mon Apr 06 22:19:49 PDT 2009</td>\n",
       "      <td>NO_QUERY</td>\n",
       "      <td>scotthamilton</td>\n",
       "      <td>is upset that he can't update his Facebook by ...</td>\n",
       "      <td>upset update facebook texting might cry result...</td>\n",
       "      <td>69</td>\n",
       "      <td>11</td>\n",
       "      <td>[cry, blah, upset]</td>\n",
       "      <td>3</td>\n",
       "    </tr>\n",
       "    <tr>\n",
       "      <th>2</th>\n",
       "      <td>0</td>\n",
       "      <td>1467810917</td>\n",
       "      <td>Mon Apr 06 22:19:53 PDT 2009</td>\n",
       "      <td>NO_QUERY</td>\n",
       "      <td>mattycus</td>\n",
       "      <td>@Kenichan I dived many times for the ball. Man...</td>\n",
       "      <td>kenichan dived many times ball managed save re...</td>\n",
       "      <td>58</td>\n",
       "      <td>10</td>\n",
       "      <td>[save]</td>\n",
       "      <td>1</td>\n",
       "    </tr>\n",
       "    <tr>\n",
       "      <th>3</th>\n",
       "      <td>0</td>\n",
       "      <td>1467811184</td>\n",
       "      <td>Mon Apr 06 22:19:57 PDT 2009</td>\n",
       "      <td>NO_QUERY</td>\n",
       "      <td>ElleCTF</td>\n",
       "      <td>my whole body feels itchy and like its on fire</td>\n",
       "      <td>whole body feels itchy like fire</td>\n",
       "      <td>32</td>\n",
       "      <td>6</td>\n",
       "      <td>[itchy, fire, like]</td>\n",
       "      <td>3</td>\n",
       "    </tr>\n",
       "    <tr>\n",
       "      <th>4</th>\n",
       "      <td>0</td>\n",
       "      <td>1467811193</td>\n",
       "      <td>Mon Apr 06 22:19:57 PDT 2009</td>\n",
       "      <td>NO_QUERY</td>\n",
       "      <td>Karoli</td>\n",
       "      <td>@nationwideclass no, it's not behaving at all....</td>\n",
       "      <td>nationwideclass behaving mad see</td>\n",
       "      <td>32</td>\n",
       "      <td>4</td>\n",
       "      <td>[mad]</td>\n",
       "      <td>1</td>\n",
       "    </tr>\n",
       "  </tbody>\n",
       "</table>\n",
       "</div>"
      ],
      "text/plain": [
       "   class          id                          date     query             user  \\\n",
       "0      0  1467810369  Mon Apr 06 22:19:45 PDT 2009  NO_QUERY  _TheSpecialOne_   \n",
       "1      0  1467810672  Mon Apr 06 22:19:49 PDT 2009  NO_QUERY    scotthamilton   \n",
       "2      0  1467810917  Mon Apr 06 22:19:53 PDT 2009  NO_QUERY         mattycus   \n",
       "3      0  1467811184  Mon Apr 06 22:19:57 PDT 2009  NO_QUERY          ElleCTF   \n",
       "4      0  1467811193  Mon Apr 06 22:19:57 PDT 2009  NO_QUERY           Karoli   \n",
       "\n",
       "                                                text  \\\n",
       "0  @switchfoot http://twitpic.com/2y1zl - Awww, t...   \n",
       "1  is upset that he can't update his Facebook by ...   \n",
       "2  @Kenichan I dived many times for the ball. Man...   \n",
       "3    my whole body feels itchy and like its on fire    \n",
       "4  @nationwideclass no, it's not behaving at all....   \n",
       "\n",
       "                                          Clean Text  Tweet Character Length  \\\n",
       "0  switchfoot awww bummer shoulda got david carr ...                      55   \n",
       "1  upset update facebook texting might cry result...                      69   \n",
       "2  kenichan dived many times ball managed save re...                      58   \n",
       "3                   whole body feels itchy like fire                      32   \n",
       "4                   nationwideclass behaving mad see                      32   \n",
       "\n",
       "   Tweet Word Length      List of Matches  Number of Matches  \n",
       "0                  9             [bummer]                  1  \n",
       "1                 11   [cry, blah, upset]                  3  \n",
       "2                 10               [save]                  1  \n",
       "3                  6  [itchy, fire, like]                  3  \n",
       "4                  4                [mad]                  1  "
      ]
     },
     "execution_count": 69,
     "metadata": {},
     "output_type": "execute_result"
    }
   ],
   "source": [
    "df_generic.head()"
   ]
  },
  {
   "cell_type": "markdown",
   "metadata": {},
   "source": [
    "With the complete dataframe ready for input into the Machine Learning model, it is interesting to examine the describe function for the dataframe \"df_generic\". As can be seen below the mean class value is 2.0 (which can be expected as from the exploratory analysis section of this assignment it was seen that there are equal number of 0 class and 4 class tweets). Further the mean tweet word length is 7.511 with a standard deviation of 3.906. Indicating that there is quite the variation in tweet word lengths in the \"Clean Text\" dataframe coloumn."
   ]
  },
  {
   "cell_type": "code",
   "execution_count": 70,
   "metadata": {},
   "outputs": [
    {
     "data": {
      "text/html": [
       "<div>\n",
       "<style scoped>\n",
       "    .dataframe tbody tr th:only-of-type {\n",
       "        vertical-align: middle;\n",
       "    }\n",
       "\n",
       "    .dataframe tbody tr th {\n",
       "        vertical-align: top;\n",
       "    }\n",
       "\n",
       "    .dataframe thead th {\n",
       "        text-align: right;\n",
       "    }\n",
       "</style>\n",
       "<table border=\"1\" class=\"dataframe\">\n",
       "  <thead>\n",
       "    <tr style=\"text-align: right;\">\n",
       "      <th></th>\n",
       "      <th>class</th>\n",
       "      <th>id</th>\n",
       "      <th>Tweet Character Length</th>\n",
       "      <th>Tweet Word Length</th>\n",
       "      <th>Number of Matches</th>\n",
       "    </tr>\n",
       "  </thead>\n",
       "  <tbody>\n",
       "    <tr>\n",
       "      <th>count</th>\n",
       "      <td>200000.000000</td>\n",
       "      <td>2.000000e+05</td>\n",
       "      <td>200000.000000</td>\n",
       "      <td>200000.000000</td>\n",
       "      <td>200000.000000</td>\n",
       "    </tr>\n",
       "    <tr>\n",
       "      <th>mean</th>\n",
       "      <td>2.000000</td>\n",
       "      <td>1.622040e+09</td>\n",
       "      <td>46.801535</td>\n",
       "      <td>7.511920</td>\n",
       "      <td>1.154780</td>\n",
       "    </tr>\n",
       "    <tr>\n",
       "      <th>std</th>\n",
       "      <td>2.000005</td>\n",
       "      <td>8.843541e+07</td>\n",
       "      <td>23.940465</td>\n",
       "      <td>3.906115</td>\n",
       "      <td>1.104427</td>\n",
       "    </tr>\n",
       "    <tr>\n",
       "      <th>min</th>\n",
       "      <td>0.000000</td>\n",
       "      <td>1.467810e+09</td>\n",
       "      <td>0.000000</td>\n",
       "      <td>0.000000</td>\n",
       "      <td>0.000000</td>\n",
       "    </tr>\n",
       "    <tr>\n",
       "      <th>25%</th>\n",
       "      <td>0.000000</td>\n",
       "      <td>1.557142e+09</td>\n",
       "      <td>27.000000</td>\n",
       "      <td>4.000000</td>\n",
       "      <td>0.000000</td>\n",
       "    </tr>\n",
       "    <tr>\n",
       "      <th>50%</th>\n",
       "      <td>2.000000</td>\n",
       "      <td>1.574130e+09</td>\n",
       "      <td>43.000000</td>\n",
       "      <td>7.000000</td>\n",
       "      <td>1.000000</td>\n",
       "    </tr>\n",
       "    <tr>\n",
       "      <th>75%</th>\n",
       "      <td>4.000000</td>\n",
       "      <td>1.687063e+09</td>\n",
       "      <td>64.000000</td>\n",
       "      <td>10.000000</td>\n",
       "      <td>2.000000</td>\n",
       "    </tr>\n",
       "    <tr>\n",
       "      <th>max</th>\n",
       "      <td>4.000000</td>\n",
       "      <td>1.793821e+09</td>\n",
       "      <td>145.000000</td>\n",
       "      <td>36.000000</td>\n",
       "      <td>8.000000</td>\n",
       "    </tr>\n",
       "  </tbody>\n",
       "</table>\n",
       "</div>"
      ],
      "text/plain": [
       "               class            id  Tweet Character Length  Tweet Word Length  \\\n",
       "count  200000.000000  2.000000e+05           200000.000000      200000.000000   \n",
       "mean        2.000000  1.622040e+09               46.801535           7.511920   \n",
       "std         2.000005  8.843541e+07               23.940465           3.906115   \n",
       "min         0.000000  1.467810e+09                0.000000           0.000000   \n",
       "25%         0.000000  1.557142e+09               27.000000           4.000000   \n",
       "50%         2.000000  1.574130e+09               43.000000           7.000000   \n",
       "75%         4.000000  1.687063e+09               64.000000          10.000000   \n",
       "max         4.000000  1.793821e+09              145.000000          36.000000   \n",
       "\n",
       "       Number of Matches  \n",
       "count      200000.000000  \n",
       "mean            1.154780  \n",
       "std             1.104427  \n",
       "min             0.000000  \n",
       "25%             0.000000  \n",
       "50%             1.000000  \n",
       "75%             2.000000  \n",
       "max             8.000000  "
      ]
     },
     "execution_count": 70,
     "metadata": {},
     "output_type": "execute_result"
    }
   ],
   "source": [
    "df_generic.describe()"
   ]
  },
  {
   "cell_type": "markdown",
   "metadata": {},
   "source": [
    "As additional features to the model I will use a Bag of Words Implementation. This will extract the most commonly used words and determine whether or not these features are present in each of the tweets. This will be accomplished through the use of sklearn and the Count Vecorizer function."
   ]
  },
  {
   "cell_type": "code",
   "execution_count": 71,
   "metadata": {},
   "outputs": [],
   "source": [
    "from sklearn.feature_extraction.text import CountVectorizer"
   ]
  },
  {
   "cell_type": "code",
   "execution_count": 72,
   "metadata": {},
   "outputs": [],
   "source": [
    "matrix = CountVectorizer(max_features = 1000)\n",
    "X = (matrix.fit_transform(df_generic[\"Clean Text\"]).toarray())\n",
    "y = df_generic[\"class\"]"
   ]
  },
  {
   "cell_type": "markdown",
   "metadata": {},
   "source": [
    "With the Bag of Words term presence completed I will now add the additional features (Tweet Character Length, Tweet Word Length, and Number of Matches) discussed above to the input data by appending them to the \"X\" array."
   ]
  },
  {
   "cell_type": "code",
   "execution_count": 73,
   "metadata": {},
   "outputs": [],
   "source": [
    "tweet_score = [0]*200000\n",
    "for i in range (0,200000):\n",
    "    for x in range (0,len(df_generic[\"List of Matches\"][i])):\n",
    "        tweet_score[i] = tweet_score[i] + corpus_dictionary.get(df_generic[\"List of Matches\"][i][x])"
   ]
  },
  {
   "cell_type": "code",
   "execution_count": 74,
   "metadata": {},
   "outputs": [
    {
     "data": {
      "text/html": [
       "<div>\n",
       "<style scoped>\n",
       "    .dataframe tbody tr th:only-of-type {\n",
       "        vertical-align: middle;\n",
       "    }\n",
       "\n",
       "    .dataframe tbody tr th {\n",
       "        vertical-align: top;\n",
       "    }\n",
       "\n",
       "    .dataframe thead tr th {\n",
       "        text-align: left;\n",
       "    }\n",
       "</style>\n",
       "<table border=\"1\" class=\"dataframe\">\n",
       "  <thead>\n",
       "    <tr>\n",
       "      <th></th>\n",
       "      <th></th>\n",
       "      <th></th>\n",
       "      <th></th>\n",
       "      <th></th>\n",
       "      <th></th>\n",
       "      <th></th>\n",
       "      <th></th>\n",
       "      <th></th>\n",
       "      <th></th>\n",
       "      <th></th>\n",
       "      <th>...</th>\n",
       "      <th></th>\n",
       "      <th></th>\n",
       "      <th></th>\n",
       "      <th></th>\n",
       "      <th></th>\n",
       "      <th></th>\n",
       "      <th></th>\n",
       "      <th></th>\n",
       "      <th></th>\n",
       "      <th></th>\n",
       "    </tr>\n",
       "  </thead>\n",
       "  <tbody>\n",
       "    <tr>\n",
       "      <th>0</th>\n",
       "      <td>0</td>\n",
       "      <td>0</td>\n",
       "      <td>0</td>\n",
       "      <td>0</td>\n",
       "      <td>0</td>\n",
       "      <td>0</td>\n",
       "      <td>0</td>\n",
       "      <td>0</td>\n",
       "      <td>0</td>\n",
       "      <td>0</td>\n",
       "      <td>...</td>\n",
       "      <td>0</td>\n",
       "      <td>0</td>\n",
       "      <td>0</td>\n",
       "      <td>0</td>\n",
       "      <td>0</td>\n",
       "      <td>0</td>\n",
       "      <td>0</td>\n",
       "      <td>0</td>\n",
       "      <td>0</td>\n",
       "      <td>0</td>\n",
       "    </tr>\n",
       "    <tr>\n",
       "      <th>1</th>\n",
       "      <td>0</td>\n",
       "      <td>0</td>\n",
       "      <td>0</td>\n",
       "      <td>0</td>\n",
       "      <td>0</td>\n",
       "      <td>0</td>\n",
       "      <td>0</td>\n",
       "      <td>0</td>\n",
       "      <td>0</td>\n",
       "      <td>0</td>\n",
       "      <td>...</td>\n",
       "      <td>0</td>\n",
       "      <td>0</td>\n",
       "      <td>0</td>\n",
       "      <td>0</td>\n",
       "      <td>0</td>\n",
       "      <td>0</td>\n",
       "      <td>0</td>\n",
       "      <td>0</td>\n",
       "      <td>0</td>\n",
       "      <td>0</td>\n",
       "    </tr>\n",
       "    <tr>\n",
       "      <th>2</th>\n",
       "      <td>0</td>\n",
       "      <td>0</td>\n",
       "      <td>0</td>\n",
       "      <td>0</td>\n",
       "      <td>0</td>\n",
       "      <td>0</td>\n",
       "      <td>0</td>\n",
       "      <td>0</td>\n",
       "      <td>0</td>\n",
       "      <td>0</td>\n",
       "      <td>...</td>\n",
       "      <td>0</td>\n",
       "      <td>0</td>\n",
       "      <td>0</td>\n",
       "      <td>0</td>\n",
       "      <td>0</td>\n",
       "      <td>0</td>\n",
       "      <td>0</td>\n",
       "      <td>0</td>\n",
       "      <td>0</td>\n",
       "      <td>0</td>\n",
       "    </tr>\n",
       "    <tr>\n",
       "      <th>3</th>\n",
       "      <td>0</td>\n",
       "      <td>0</td>\n",
       "      <td>0</td>\n",
       "      <td>0</td>\n",
       "      <td>0</td>\n",
       "      <td>0</td>\n",
       "      <td>0</td>\n",
       "      <td>0</td>\n",
       "      <td>0</td>\n",
       "      <td>0</td>\n",
       "      <td>...</td>\n",
       "      <td>0</td>\n",
       "      <td>0</td>\n",
       "      <td>0</td>\n",
       "      <td>0</td>\n",
       "      <td>0</td>\n",
       "      <td>0</td>\n",
       "      <td>0</td>\n",
       "      <td>0</td>\n",
       "      <td>0</td>\n",
       "      <td>0</td>\n",
       "    </tr>\n",
       "    <tr>\n",
       "      <th>4</th>\n",
       "      <td>0</td>\n",
       "      <td>0</td>\n",
       "      <td>0</td>\n",
       "      <td>0</td>\n",
       "      <td>0</td>\n",
       "      <td>0</td>\n",
       "      <td>0</td>\n",
       "      <td>0</td>\n",
       "      <td>0</td>\n",
       "      <td>0</td>\n",
       "      <td>...</td>\n",
       "      <td>0</td>\n",
       "      <td>0</td>\n",
       "      <td>0</td>\n",
       "      <td>0</td>\n",
       "      <td>0</td>\n",
       "      <td>0</td>\n",
       "      <td>0</td>\n",
       "      <td>0</td>\n",
       "      <td>0</td>\n",
       "      <td>0</td>\n",
       "    </tr>\n",
       "  </tbody>\n",
       "</table>\n",
       "<p>5 rows × 1000 columns</p>\n",
       "</div>"
      ],
      "text/plain": [
       "                                ...                              \n",
       "0  0  0  0  0  0  0  0  0  0  0 ...  0  0  0  0  0  0  0  0  0  0\n",
       "1  0  0  0  0  0  0  0  0  0  0 ...  0  0  0  0  0  0  0  0  0  0\n",
       "2  0  0  0  0  0  0  0  0  0  0 ...  0  0  0  0  0  0  0  0  0  0\n",
       "3  0  0  0  0  0  0  0  0  0  0 ...  0  0  0  0  0  0  0  0  0  0\n",
       "4  0  0  0  0  0  0  0  0  0  0 ...  0  0  0  0  0  0  0  0  0  0\n",
       "\n",
       "[5 rows x 1000 columns]"
      ]
     },
     "execution_count": 74,
     "metadata": {},
     "output_type": "execute_result"
    }
   ],
   "source": [
    "X_df = pd.DataFrame(X, columns=[['']*1000])\n",
    "X_df.head()"
   ]
  },
  {
   "cell_type": "code",
   "execution_count": 75,
   "metadata": {},
   "outputs": [],
   "source": [
    "X_df[\"Tweet Score\"] = tweet_score\n",
    "X_df[\"Tweet Character Length\"] = df_generic[\"Tweet Character Length\"]\n",
    "X_df[\"Tweet Word Length\"] = df_generic[\"Tweet Word Length\"]\n",
    "X_df[\"Number of Matches with Corpus\"] = df_generic[\"Number of Matches\"]"
   ]
  },
  {
   "cell_type": "code",
   "execution_count": 76,
   "metadata": {},
   "outputs": [
    {
     "data": {
      "text/html": [
       "<div>\n",
       "<style scoped>\n",
       "    .dataframe tbody tr th:only-of-type {\n",
       "        vertical-align: middle;\n",
       "    }\n",
       "\n",
       "    .dataframe tbody tr th {\n",
       "        vertical-align: top;\n",
       "    }\n",
       "\n",
       "    .dataframe thead tr th {\n",
       "        text-align: left;\n",
       "    }\n",
       "</style>\n",
       "<table border=\"1\" class=\"dataframe\">\n",
       "  <thead>\n",
       "    <tr>\n",
       "      <th></th>\n",
       "      <th></th>\n",
       "      <th></th>\n",
       "      <th></th>\n",
       "      <th></th>\n",
       "      <th></th>\n",
       "      <th></th>\n",
       "      <th></th>\n",
       "      <th></th>\n",
       "      <th></th>\n",
       "      <th></th>\n",
       "      <th>...</th>\n",
       "      <th></th>\n",
       "      <th></th>\n",
       "      <th></th>\n",
       "      <th></th>\n",
       "      <th></th>\n",
       "      <th></th>\n",
       "      <th>Tweet Score</th>\n",
       "      <th>Tweet Character Length</th>\n",
       "      <th>Tweet Word Length</th>\n",
       "      <th>Number of Matches with Corpus</th>\n",
       "    </tr>\n",
       "  </thead>\n",
       "  <tbody>\n",
       "    <tr>\n",
       "      <th>0</th>\n",
       "      <td>0</td>\n",
       "      <td>0</td>\n",
       "      <td>0</td>\n",
       "      <td>0</td>\n",
       "      <td>0</td>\n",
       "      <td>0</td>\n",
       "      <td>0</td>\n",
       "      <td>0</td>\n",
       "      <td>0</td>\n",
       "      <td>0</td>\n",
       "      <td>...</td>\n",
       "      <td>0</td>\n",
       "      <td>0</td>\n",
       "      <td>0</td>\n",
       "      <td>0</td>\n",
       "      <td>0</td>\n",
       "      <td>0</td>\n",
       "      <td>-2</td>\n",
       "      <td>55</td>\n",
       "      <td>9</td>\n",
       "      <td>1</td>\n",
       "    </tr>\n",
       "    <tr>\n",
       "      <th>1</th>\n",
       "      <td>0</td>\n",
       "      <td>0</td>\n",
       "      <td>0</td>\n",
       "      <td>0</td>\n",
       "      <td>0</td>\n",
       "      <td>0</td>\n",
       "      <td>0</td>\n",
       "      <td>0</td>\n",
       "      <td>0</td>\n",
       "      <td>0</td>\n",
       "      <td>...</td>\n",
       "      <td>0</td>\n",
       "      <td>0</td>\n",
       "      <td>0</td>\n",
       "      <td>0</td>\n",
       "      <td>0</td>\n",
       "      <td>0</td>\n",
       "      <td>-5</td>\n",
       "      <td>69</td>\n",
       "      <td>11</td>\n",
       "      <td>3</td>\n",
       "    </tr>\n",
       "    <tr>\n",
       "      <th>2</th>\n",
       "      <td>0</td>\n",
       "      <td>0</td>\n",
       "      <td>0</td>\n",
       "      <td>0</td>\n",
       "      <td>0</td>\n",
       "      <td>0</td>\n",
       "      <td>0</td>\n",
       "      <td>0</td>\n",
       "      <td>0</td>\n",
       "      <td>0</td>\n",
       "      <td>...</td>\n",
       "      <td>0</td>\n",
       "      <td>0</td>\n",
       "      <td>0</td>\n",
       "      <td>0</td>\n",
       "      <td>0</td>\n",
       "      <td>0</td>\n",
       "      <td>2</td>\n",
       "      <td>58</td>\n",
       "      <td>10</td>\n",
       "      <td>1</td>\n",
       "    </tr>\n",
       "    <tr>\n",
       "      <th>3</th>\n",
       "      <td>0</td>\n",
       "      <td>0</td>\n",
       "      <td>0</td>\n",
       "      <td>0</td>\n",
       "      <td>0</td>\n",
       "      <td>0</td>\n",
       "      <td>0</td>\n",
       "      <td>0</td>\n",
       "      <td>0</td>\n",
       "      <td>0</td>\n",
       "      <td>...</td>\n",
       "      <td>0</td>\n",
       "      <td>0</td>\n",
       "      <td>0</td>\n",
       "      <td>0</td>\n",
       "      <td>0</td>\n",
       "      <td>0</td>\n",
       "      <td>-2</td>\n",
       "      <td>32</td>\n",
       "      <td>6</td>\n",
       "      <td>3</td>\n",
       "    </tr>\n",
       "    <tr>\n",
       "      <th>4</th>\n",
       "      <td>0</td>\n",
       "      <td>0</td>\n",
       "      <td>0</td>\n",
       "      <td>0</td>\n",
       "      <td>0</td>\n",
       "      <td>0</td>\n",
       "      <td>0</td>\n",
       "      <td>0</td>\n",
       "      <td>0</td>\n",
       "      <td>0</td>\n",
       "      <td>...</td>\n",
       "      <td>0</td>\n",
       "      <td>0</td>\n",
       "      <td>0</td>\n",
       "      <td>0</td>\n",
       "      <td>0</td>\n",
       "      <td>0</td>\n",
       "      <td>-3</td>\n",
       "      <td>32</td>\n",
       "      <td>4</td>\n",
       "      <td>1</td>\n",
       "    </tr>\n",
       "  </tbody>\n",
       "</table>\n",
       "<p>5 rows × 1004 columns</p>\n",
       "</div>"
      ],
      "text/plain": [
       "                                             ...                              \\\n",
       "0  0  0  0  0  0  0  0  0  0  0              ...               0  0  0  0  0   \n",
       "1  0  0  0  0  0  0  0  0  0  0              ...               0  0  0  0  0   \n",
       "2  0  0  0  0  0  0  0  0  0  0              ...               0  0  0  0  0   \n",
       "3  0  0  0  0  0  0  0  0  0  0              ...               0  0  0  0  0   \n",
       "4  0  0  0  0  0  0  0  0  0  0              ...               0  0  0  0  0   \n",
       "\n",
       "     Tweet Score Tweet Character Length Tweet Word Length  \\\n",
       "0  0          -2                     55                 9   \n",
       "1  0          -5                     69                11   \n",
       "2  0           2                     58                10   \n",
       "3  0          -2                     32                 6   \n",
       "4  0          -3                     32                 4   \n",
       "\n",
       "  Number of Matches with Corpus  \n",
       "0                             1  \n",
       "1                             3  \n",
       "2                             1  \n",
       "3                             3  \n",
       "4                             1  \n",
       "\n",
       "[5 rows x 1004 columns]"
      ]
     },
     "execution_count": 76,
     "metadata": {},
     "output_type": "execute_result"
    }
   ],
   "source": [
    "X_df.head()"
   ]
  },
  {
   "cell_type": "markdown",
   "metadata": {},
   "source": [
    "Next lets split the training and test set from the X_df in to 70% training and 30% test."
   ]
  },
  {
   "cell_type": "code",
   "execution_count": 77,
   "metadata": {},
   "outputs": [],
   "source": [
    "from sklearn.model_selection import train_test_split\n",
    "X_train, X_test, y_train, y_test = train_test_split(X_df, y, test_size = 0.3)"
   ]
  },
  {
   "cell_type": "markdown",
   "metadata": {},
   "source": [
    "As mentioned in the Assignment we will now implement a Logistic Regression model trained on the training data."
   ]
  },
  {
   "cell_type": "code",
   "execution_count": 78,
   "metadata": {},
   "outputs": [
    {
     "name": "stderr",
     "output_type": "stream",
     "text": [
      "C:\\Users\\btarras\\AppData\\Local\\Continuum\\anaconda3\\lib\\site-packages\\sklearn\\linear_model\\logistic.py:433: FutureWarning: Default solver will be changed to 'lbfgs' in 0.22. Specify a solver to silence this warning.\n",
      "  FutureWarning)\n"
     ]
    },
    {
     "data": {
      "text/plain": [
       "LogisticRegression(C=1.0, class_weight=None, dual=False, fit_intercept=True,\n",
       "          intercept_scaling=1, max_iter=100, multi_class='warn',\n",
       "          n_jobs=None, penalty='l2', random_state=None, solver='warn',\n",
       "          tol=0.0001, verbose=0, warm_start=False)"
      ]
     },
     "execution_count": 78,
     "metadata": {},
     "output_type": "execute_result"
    }
   ],
   "source": [
    "from sklearn.linear_model import LogisticRegression\n",
    "\n",
    "model = LogisticRegression()\n",
    "model.fit(X_train,y_train)"
   ]
  },
  {
   "cell_type": "markdown",
   "metadata": {},
   "source": [
    "Predicitons will be made using the .predict function."
   ]
  },
  {
   "cell_type": "code",
   "execution_count": 79,
   "metadata": {},
   "outputs": [],
   "source": [
    "predictions = model.predict(X_test)"
   ]
  },
  {
   "cell_type": "code",
   "execution_count": 80,
   "metadata": {},
   "outputs": [
    {
     "name": "stdout",
     "output_type": "stream",
     "text": [
      "74.91499999999999\n"
     ]
    }
   ],
   "source": [
    "from sklearn.metrics import accuracy_score\n",
    "\n",
    "score = accuracy_score(y_test,predictions)\n",
    "\n",
    "print (score*100)"
   ]
  },
  {
   "cell_type": "markdown",
   "metadata": {},
   "source": [
    "As can be seen above the accuracy of the model is 74.915% (at the time of running). This is a pretty good accuracy score for a first run through the data. Next lets look at the classification report and the confusion matrix for the model."
   ]
  },
  {
   "cell_type": "code",
   "execution_count": 81,
   "metadata": {},
   "outputs": [
    {
     "name": "stdout",
     "output_type": "stream",
     "text": [
      "              precision    recall  f1-score   support\n",
      "\n",
      "           0       0.77      0.72      0.74     29902\n",
      "           4       0.73      0.78      0.76     30098\n",
      "\n",
      "   micro avg       0.75      0.75      0.75     60000\n",
      "   macro avg       0.75      0.75      0.75     60000\n",
      "weighted avg       0.75      0.75      0.75     60000\n",
      "\n"
     ]
    }
   ],
   "source": [
    "from sklearn.metrics import classification_report\n",
    "print(classification_report(y_test,predictions))"
   ]
  },
  {
   "cell_type": "code",
   "execution_count": 82,
   "metadata": {},
   "outputs": [
    {
     "name": "stdout",
     "output_type": "stream",
     "text": [
      "[[21391  8511]\n",
      " [ 6540 23558]]\n"
     ]
    }
   ],
   "source": [
    "from sklearn.metrics import confusion_matrix\n",
    "print (confusion_matrix(y_test,predictions))"
   ]
  },
  {
   "cell_type": "markdown",
   "metadata": {},
   "source": [
    "With the accuracy, classification report, and confusion matrix calculated for the model, the next step is to is evaluate the model on the US Airline Tweets to see how well the predicitons match the sentiment labelled in the US Airline Dataset.\n",
    "\n",
    "First though we will need to compute similar features as was done for the generic tweets model above, namely List of Matches, Number of Matches, Tweet Character Length, Tweet Word Length, and Tweet Score. Lets start with determing the list of matches as was done previously for the generic tweet dataset."
   ]
  },
  {
   "cell_type": "code",
   "execution_count": 83,
   "metadata": {},
   "outputs": [],
   "source": [
    "list_of_matches_airline = [0]*11541 # Create a list of size 11,541 to store the list of matches\n",
    "for i in range (0,11541): # Check which words match up in the cleaned tweets with the corpus\n",
    "    temp = (df_airline[\"Clean Text\"][i]).split()\n",
    "    temp2 = (corpus_df[\"Word List\"])\n",
    "    list_of_matches_airline[i] = (list (set(temp) & set(temp2)))"
   ]
  },
  {
   "cell_type": "code",
   "execution_count": 84,
   "metadata": {},
   "outputs": [
    {
     "data": {
      "text/html": [
       "<div>\n",
       "<style scoped>\n",
       "    .dataframe tbody tr th:only-of-type {\n",
       "        vertical-align: middle;\n",
       "    }\n",
       "\n",
       "    .dataframe tbody tr th {\n",
       "        vertical-align: top;\n",
       "    }\n",
       "\n",
       "    .dataframe thead th {\n",
       "        text-align: right;\n",
       "    }\n",
       "</style>\n",
       "<table border=\"1\" class=\"dataframe\">\n",
       "  <thead>\n",
       "    <tr style=\"text-align: right;\">\n",
       "      <th></th>\n",
       "      <th>id</th>\n",
       "      <th>sentiment</th>\n",
       "      <th>negative_reason</th>\n",
       "      <th>user</th>\n",
       "      <th>retweet_count</th>\n",
       "      <th>text</th>\n",
       "      <th>Clean Text</th>\n",
       "      <th>Sentiment Value</th>\n",
       "      <th>List of Matches</th>\n",
       "    </tr>\n",
       "  </thead>\n",
       "  <tbody>\n",
       "    <tr>\n",
       "      <th>11536</th>\n",
       "      <td>5.695880e+17</td>\n",
       "      <td>negative</td>\n",
       "      <td>Cancelled Flight</td>\n",
       "      <td>RussellsWriting</td>\n",
       "      <td>0</td>\n",
       "      <td>@AmericanAir my flight was Cancelled Flightled...</td>\n",
       "      <td>americanair flight cancelled flightled leaving...</td>\n",
       "      <td>0</td>\n",
       "      <td>[cancelled]</td>\n",
       "    </tr>\n",
       "    <tr>\n",
       "      <th>11537</th>\n",
       "      <td>5.695880e+17</td>\n",
       "      <td>negative</td>\n",
       "      <td>Late Flight</td>\n",
       "      <td>GolfWithWoody</td>\n",
       "      <td>0</td>\n",
       "      <td>@AmericanAir right on cue with the delaysðŸ‘Œ</td>\n",
       "      <td>americanair right cue delays</td>\n",
       "      <td>0</td>\n",
       "      <td>[]</td>\n",
       "    </tr>\n",
       "    <tr>\n",
       "      <th>11538</th>\n",
       "      <td>5.695880e+17</td>\n",
       "      <td>positive</td>\n",
       "      <td>NaN</td>\n",
       "      <td>KristenReenders</td>\n",
       "      <td>0</td>\n",
       "      <td>@AmericanAir thank you we got on a different f...</td>\n",
       "      <td>americanair thank got different flight chicago</td>\n",
       "      <td>1</td>\n",
       "      <td>[thank]</td>\n",
       "    </tr>\n",
       "    <tr>\n",
       "      <th>11539</th>\n",
       "      <td>5.695870e+17</td>\n",
       "      <td>negative</td>\n",
       "      <td>Customer Service Issue</td>\n",
       "      <td>itsropes</td>\n",
       "      <td>0</td>\n",
       "      <td>@AmericanAir leaving over 20 minutes Late Flig...</td>\n",
       "      <td>americanair leaving minutes late flight warnin...</td>\n",
       "      <td>0</td>\n",
       "      <td>[shitty, warnings]</td>\n",
       "    </tr>\n",
       "    <tr>\n",
       "      <th>11540</th>\n",
       "      <td>5.695870e+17</td>\n",
       "      <td>negative</td>\n",
       "      <td>Customer Service Issue</td>\n",
       "      <td>SraJackson</td>\n",
       "      <td>0</td>\n",
       "      <td>@AmericanAir you have my money, you change my ...</td>\n",
       "      <td>americanair money change flight answer phones ...</td>\n",
       "      <td>0</td>\n",
       "      <td>[commitment]</td>\n",
       "    </tr>\n",
       "  </tbody>\n",
       "</table>\n",
       "</div>"
      ],
      "text/plain": [
       "                 id sentiment         negative_reason             user  \\\n",
       "11536  5.695880e+17  negative        Cancelled Flight  RussellsWriting   \n",
       "11537  5.695880e+17  negative             Late Flight    GolfWithWoody   \n",
       "11538  5.695880e+17  positive                     NaN  KristenReenders   \n",
       "11539  5.695870e+17  negative  Customer Service Issue         itsropes   \n",
       "11540  5.695870e+17  negative  Customer Service Issue       SraJackson   \n",
       "\n",
       "       retweet_count                                               text  \\\n",
       "11536              0  @AmericanAir my flight was Cancelled Flightled...   \n",
       "11537              0      @AmericanAir right on cue with the delaysðŸ‘Œ   \n",
       "11538              0  @AmericanAir thank you we got on a different f...   \n",
       "11539              0  @AmericanAir leaving over 20 minutes Late Flig...   \n",
       "11540              0  @AmericanAir you have my money, you change my ...   \n",
       "\n",
       "                                              Clean Text  Sentiment Value  \\\n",
       "11536  americanair flight cancelled flightled leaving...                0   \n",
       "11537                       americanair right cue delays                0   \n",
       "11538     americanair thank got different flight chicago                1   \n",
       "11539  americanair leaving minutes late flight warnin...                0   \n",
       "11540  americanair money change flight answer phones ...                0   \n",
       "\n",
       "          List of Matches  \n",
       "11536         [cancelled]  \n",
       "11537                  []  \n",
       "11538             [thank]  \n",
       "11539  [shitty, warnings]  \n",
       "11540        [commitment]  "
      ]
     },
     "execution_count": 84,
     "metadata": {},
     "output_type": "execute_result"
    }
   ],
   "source": [
    "df_airline['List of Matches'] = list_of_matches_airline # Add a new coloumn in the dataframe to store the list of matches information\n",
    "df_airline.tail()"
   ]
  },
  {
   "cell_type": "markdown",
   "metadata": {},
   "source": [
    "With the list of matches computed, lets proceed to determine the number of matches. This will be done with the function below number_of_matches_airline."
   ]
  },
  {
   "cell_type": "code",
   "execution_count": 85,
   "metadata": {},
   "outputs": [],
   "source": [
    "def number_of_matches_airline (text): # Number of matches function\n",
    "    number_of_matches_airline = len(text)\n",
    "    return (number_of_matches_airline)\n",
    "\n",
    "df_airline['Number of Matches'] = df_airline['List of Matches'].apply(lambda x: number_of_matches_airline(x))"
   ]
  },
  {
   "cell_type": "code",
   "execution_count": 86,
   "metadata": {},
   "outputs": [
    {
     "data": {
      "text/html": [
       "<div>\n",
       "<style scoped>\n",
       "    .dataframe tbody tr th:only-of-type {\n",
       "        vertical-align: middle;\n",
       "    }\n",
       "\n",
       "    .dataframe tbody tr th {\n",
       "        vertical-align: top;\n",
       "    }\n",
       "\n",
       "    .dataframe thead th {\n",
       "        text-align: right;\n",
       "    }\n",
       "</style>\n",
       "<table border=\"1\" class=\"dataframe\">\n",
       "  <thead>\n",
       "    <tr style=\"text-align: right;\">\n",
       "      <th></th>\n",
       "      <th>id</th>\n",
       "      <th>sentiment</th>\n",
       "      <th>negative_reason</th>\n",
       "      <th>user</th>\n",
       "      <th>retweet_count</th>\n",
       "      <th>text</th>\n",
       "      <th>Clean Text</th>\n",
       "      <th>Sentiment Value</th>\n",
       "      <th>List of Matches</th>\n",
       "      <th>Number of Matches</th>\n",
       "    </tr>\n",
       "  </thead>\n",
       "  <tbody>\n",
       "    <tr>\n",
       "      <th>0</th>\n",
       "      <td>5.703010e+17</td>\n",
       "      <td>positive</td>\n",
       "      <td>NaN</td>\n",
       "      <td>jnardino</td>\n",
       "      <td>0</td>\n",
       "      <td>@VirginAmerica plus you've added commercials t...</td>\n",
       "      <td>virginamerica plus added commercials experienc...</td>\n",
       "      <td>1</td>\n",
       "      <td>[]</td>\n",
       "      <td>0</td>\n",
       "    </tr>\n",
       "    <tr>\n",
       "      <th>1</th>\n",
       "      <td>5.703010e+17</td>\n",
       "      <td>negative</td>\n",
       "      <td>Bad Flight</td>\n",
       "      <td>jnardino</td>\n",
       "      <td>0</td>\n",
       "      <td>@VirginAmerica it's really aggressive to blast...</td>\n",
       "      <td>virginamerica really aggressive blast obnoxiou...</td>\n",
       "      <td>0</td>\n",
       "      <td>[obnoxious, aggressive]</td>\n",
       "      <td>2</td>\n",
       "    </tr>\n",
       "    <tr>\n",
       "      <th>2</th>\n",
       "      <td>5.703010e+17</td>\n",
       "      <td>negative</td>\n",
       "      <td>Can't Tell</td>\n",
       "      <td>jnardino</td>\n",
       "      <td>0</td>\n",
       "      <td>@VirginAmerica and it's a really big bad thing...</td>\n",
       "      <td>virginamerica really big bad thing</td>\n",
       "      <td>0</td>\n",
       "      <td>[bad, big]</td>\n",
       "      <td>2</td>\n",
       "    </tr>\n",
       "    <tr>\n",
       "      <th>3</th>\n",
       "      <td>5.703010e+17</td>\n",
       "      <td>negative</td>\n",
       "      <td>Can't Tell</td>\n",
       "      <td>jnardino</td>\n",
       "      <td>0</td>\n",
       "      <td>@VirginAmerica seriously would pay $30 a fligh...</td>\n",
       "      <td>virginamerica seriously would pay flight seats...</td>\n",
       "      <td>0</td>\n",
       "      <td>[bad, pay]</td>\n",
       "      <td>2</td>\n",
       "    </tr>\n",
       "    <tr>\n",
       "      <th>4</th>\n",
       "      <td>5.703010e+17</td>\n",
       "      <td>positive</td>\n",
       "      <td>NaN</td>\n",
       "      <td>cjmcginnis</td>\n",
       "      <td>0</td>\n",
       "      <td>@VirginAmerica yes, nearly every time I fly VX...</td>\n",
       "      <td>virginamerica yes nearly every time fly vx ear...</td>\n",
       "      <td>1</td>\n",
       "      <td>[yes]</td>\n",
       "      <td>1</td>\n",
       "    </tr>\n",
       "  </tbody>\n",
       "</table>\n",
       "</div>"
      ],
      "text/plain": [
       "             id sentiment negative_reason        user  retweet_count  \\\n",
       "0  5.703010e+17  positive             NaN    jnardino              0   \n",
       "1  5.703010e+17  negative      Bad Flight    jnardino              0   \n",
       "2  5.703010e+17  negative      Can't Tell    jnardino              0   \n",
       "3  5.703010e+17  negative      Can't Tell    jnardino              0   \n",
       "4  5.703010e+17  positive             NaN  cjmcginnis              0   \n",
       "\n",
       "                                                text  \\\n",
       "0  @VirginAmerica plus you've added commercials t...   \n",
       "1  @VirginAmerica it's really aggressive to blast...   \n",
       "2  @VirginAmerica and it's a really big bad thing...   \n",
       "3  @VirginAmerica seriously would pay $30 a fligh...   \n",
       "4  @VirginAmerica yes, nearly every time I fly VX...   \n",
       "\n",
       "                                          Clean Text  Sentiment Value  \\\n",
       "0  virginamerica plus added commercials experienc...                1   \n",
       "1  virginamerica really aggressive blast obnoxiou...                0   \n",
       "2                 virginamerica really big bad thing                0   \n",
       "3  virginamerica seriously would pay flight seats...                0   \n",
       "4  virginamerica yes nearly every time fly vx ear...                1   \n",
       "\n",
       "           List of Matches  Number of Matches  \n",
       "0                       []                  0  \n",
       "1  [obnoxious, aggressive]                  2  \n",
       "2               [bad, big]                  2  \n",
       "3               [bad, pay]                  2  \n",
       "4                    [yes]                  1  "
      ]
     },
     "execution_count": 86,
     "metadata": {},
     "output_type": "execute_result"
    }
   ],
   "source": [
    "df_airline.head()"
   ]
  },
  {
   "cell_type": "markdown",
   "metadata": {},
   "source": [
    "Now lets proceed to calculate the tweet score based on the list of matches matching the corpus dictionary previously constructed."
   ]
  },
  {
   "cell_type": "code",
   "execution_count": 87,
   "metadata": {},
   "outputs": [],
   "source": [
    "tweet_score_airline = [0]*11541\n",
    "for i in range (0,11541):\n",
    "    for x in range (0,len(df_airline[\"List of Matches\"][i])):\n",
    "        tweet_score_airline[i] = tweet_score_airline[i] + corpus_dictionary.get(df_airline[\"List of Matches\"][i][x])"
   ]
  },
  {
   "cell_type": "markdown",
   "metadata": {},
   "source": [
    "Finally lets determine the Tweet Character Length and Tweet Word Length."
   ]
  },
  {
   "cell_type": "code",
   "execution_count": 88,
   "metadata": {},
   "outputs": [],
   "source": [
    "df_airline['Tweet Character Length'] = df_airline['Clean Text'].apply(len)\n",
    "\n",
    "def length_of_tweet_airline (text):\n",
    "    temp = text.split()\n",
    "    generic_tweet_length = len(temp)\n",
    "    return (generic_tweet_length)\n",
    "\n",
    "df_airline['Tweet Word Length'] = df_airline['Clean Text'].apply(lambda x: length_of_tweet_airline(x))"
   ]
  },
  {
   "cell_type": "code",
   "execution_count": 89,
   "metadata": {},
   "outputs": [
    {
     "data": {
      "text/html": [
       "<div>\n",
       "<style scoped>\n",
       "    .dataframe tbody tr th:only-of-type {\n",
       "        vertical-align: middle;\n",
       "    }\n",
       "\n",
       "    .dataframe tbody tr th {\n",
       "        vertical-align: top;\n",
       "    }\n",
       "\n",
       "    .dataframe thead th {\n",
       "        text-align: right;\n",
       "    }\n",
       "</style>\n",
       "<table border=\"1\" class=\"dataframe\">\n",
       "  <thead>\n",
       "    <tr style=\"text-align: right;\">\n",
       "      <th></th>\n",
       "      <th>id</th>\n",
       "      <th>sentiment</th>\n",
       "      <th>negative_reason</th>\n",
       "      <th>user</th>\n",
       "      <th>retweet_count</th>\n",
       "      <th>text</th>\n",
       "      <th>Clean Text</th>\n",
       "      <th>Sentiment Value</th>\n",
       "      <th>List of Matches</th>\n",
       "      <th>Number of Matches</th>\n",
       "      <th>Tweet Character Length</th>\n",
       "      <th>Tweet Word Length</th>\n",
       "      <th>Tweet Score</th>\n",
       "    </tr>\n",
       "  </thead>\n",
       "  <tbody>\n",
       "    <tr>\n",
       "      <th>0</th>\n",
       "      <td>5.703010e+17</td>\n",
       "      <td>positive</td>\n",
       "      <td>NaN</td>\n",
       "      <td>jnardino</td>\n",
       "      <td>0</td>\n",
       "      <td>@VirginAmerica plus you've added commercials t...</td>\n",
       "      <td>virginamerica plus added commercials experienc...</td>\n",
       "      <td>1</td>\n",
       "      <td>[]</td>\n",
       "      <td>0</td>\n",
       "      <td>53</td>\n",
       "      <td>6</td>\n",
       "      <td>0</td>\n",
       "    </tr>\n",
       "    <tr>\n",
       "      <th>1</th>\n",
       "      <td>5.703010e+17</td>\n",
       "      <td>negative</td>\n",
       "      <td>Bad Flight</td>\n",
       "      <td>jnardino</td>\n",
       "      <td>0</td>\n",
       "      <td>@VirginAmerica it's really aggressive to blast...</td>\n",
       "      <td>virginamerica really aggressive blast obnoxiou...</td>\n",
       "      <td>0</td>\n",
       "      <td>[obnoxious, aggressive]</td>\n",
       "      <td>2</td>\n",
       "      <td>94</td>\n",
       "      <td>11</td>\n",
       "      <td>-5</td>\n",
       "    </tr>\n",
       "    <tr>\n",
       "      <th>2</th>\n",
       "      <td>5.703010e+17</td>\n",
       "      <td>negative</td>\n",
       "      <td>Can't Tell</td>\n",
       "      <td>jnardino</td>\n",
       "      <td>0</td>\n",
       "      <td>@VirginAmerica and it's a really big bad thing...</td>\n",
       "      <td>virginamerica really big bad thing</td>\n",
       "      <td>0</td>\n",
       "      <td>[bad, big]</td>\n",
       "      <td>2</td>\n",
       "      <td>34</td>\n",
       "      <td>5</td>\n",
       "      <td>-2</td>\n",
       "    </tr>\n",
       "    <tr>\n",
       "      <th>3</th>\n",
       "      <td>5.703010e+17</td>\n",
       "      <td>negative</td>\n",
       "      <td>Can't Tell</td>\n",
       "      <td>jnardino</td>\n",
       "      <td>0</td>\n",
       "      <td>@VirginAmerica seriously would pay $30 a fligh...</td>\n",
       "      <td>virginamerica seriously would pay flight seats...</td>\n",
       "      <td>0</td>\n",
       "      <td>[bad, pay]</td>\n",
       "      <td>2</td>\n",
       "      <td>81</td>\n",
       "      <td>12</td>\n",
       "      <td>-4</td>\n",
       "    </tr>\n",
       "    <tr>\n",
       "      <th>4</th>\n",
       "      <td>5.703010e+17</td>\n",
       "      <td>positive</td>\n",
       "      <td>NaN</td>\n",
       "      <td>cjmcginnis</td>\n",
       "      <td>0</td>\n",
       "      <td>@VirginAmerica yes, nearly every time I fly VX...</td>\n",
       "      <td>virginamerica yes nearly every time fly vx ear...</td>\n",
       "      <td>1</td>\n",
       "      <td>[yes]</td>\n",
       "      <td>1</td>\n",
       "      <td>59</td>\n",
       "      <td>11</td>\n",
       "      <td>1</td>\n",
       "    </tr>\n",
       "  </tbody>\n",
       "</table>\n",
       "</div>"
      ],
      "text/plain": [
       "             id sentiment negative_reason        user  retweet_count  \\\n",
       "0  5.703010e+17  positive             NaN    jnardino              0   \n",
       "1  5.703010e+17  negative      Bad Flight    jnardino              0   \n",
       "2  5.703010e+17  negative      Can't Tell    jnardino              0   \n",
       "3  5.703010e+17  negative      Can't Tell    jnardino              0   \n",
       "4  5.703010e+17  positive             NaN  cjmcginnis              0   \n",
       "\n",
       "                                                text  \\\n",
       "0  @VirginAmerica plus you've added commercials t...   \n",
       "1  @VirginAmerica it's really aggressive to blast...   \n",
       "2  @VirginAmerica and it's a really big bad thing...   \n",
       "3  @VirginAmerica seriously would pay $30 a fligh...   \n",
       "4  @VirginAmerica yes, nearly every time I fly VX...   \n",
       "\n",
       "                                          Clean Text  Sentiment Value  \\\n",
       "0  virginamerica plus added commercials experienc...                1   \n",
       "1  virginamerica really aggressive blast obnoxiou...                0   \n",
       "2                 virginamerica really big bad thing                0   \n",
       "3  virginamerica seriously would pay flight seats...                0   \n",
       "4  virginamerica yes nearly every time fly vx ear...                1   \n",
       "\n",
       "           List of Matches  Number of Matches  Tweet Character Length  \\\n",
       "0                       []                  0                      53   \n",
       "1  [obnoxious, aggressive]                  2                      94   \n",
       "2               [bad, big]                  2                      34   \n",
       "3               [bad, pay]                  2                      81   \n",
       "4                    [yes]                  1                      59   \n",
       "\n",
       "   Tweet Word Length  Tweet Score  \n",
       "0                  6            0  \n",
       "1                 11           -5  \n",
       "2                  5           -2  \n",
       "3                 12           -4  \n",
       "4                 11            1  "
      ]
     },
     "execution_count": 89,
     "metadata": {},
     "output_type": "execute_result"
    }
   ],
   "source": [
    "df_airline[\"Tweet Score\"] = tweet_score_airline\n",
    "df_airline.head()"
   ]
  },
  {
   "cell_type": "markdown",
   "metadata": {},
   "source": [
    "Similarily as was done with the generic_df I will examine the describe function applied to the dataframe df_airline. As can be seen below the mean sentiment value (defined as 0 for negative and 1 for positive) is 0.2047 indicating that there are more negative tweets than positve (equal number of both would be 0.5). Further it looks as though the mean tweet word length is 10.25 words with a standard deviation of 3.75. This shows that there is less variation in the tweet lengths when compared to the df_generic."
   ]
  },
  {
   "cell_type": "code",
   "execution_count": 90,
   "metadata": {},
   "outputs": [
    {
     "data": {
      "text/html": [
       "<div>\n",
       "<style scoped>\n",
       "    .dataframe tbody tr th:only-of-type {\n",
       "        vertical-align: middle;\n",
       "    }\n",
       "\n",
       "    .dataframe tbody tr th {\n",
       "        vertical-align: top;\n",
       "    }\n",
       "\n",
       "    .dataframe thead th {\n",
       "        text-align: right;\n",
       "    }\n",
       "</style>\n",
       "<table border=\"1\" class=\"dataframe\">\n",
       "  <thead>\n",
       "    <tr style=\"text-align: right;\">\n",
       "      <th></th>\n",
       "      <th>id</th>\n",
       "      <th>retweet_count</th>\n",
       "      <th>Sentiment Value</th>\n",
       "      <th>Number of Matches</th>\n",
       "      <th>Tweet Character Length</th>\n",
       "      <th>Tweet Word Length</th>\n",
       "      <th>Tweet Score</th>\n",
       "    </tr>\n",
       "  </thead>\n",
       "  <tbody>\n",
       "    <tr>\n",
       "      <th>count</th>\n",
       "      <td>1.154100e+04</td>\n",
       "      <td>11541.000000</td>\n",
       "      <td>11541.000000</td>\n",
       "      <td>11541.000000</td>\n",
       "      <td>11541.000000</td>\n",
       "      <td>11541.000000</td>\n",
       "      <td>11541.000000</td>\n",
       "    </tr>\n",
       "    <tr>\n",
       "      <th>mean</th>\n",
       "      <td>5.692275e+17</td>\n",
       "      <td>0.088467</td>\n",
       "      <td>0.204748</td>\n",
       "      <td>1.616411</td>\n",
       "      <td>70.645785</td>\n",
       "      <td>10.253184</td>\n",
       "      <td>0.516853</td>\n",
       "    </tr>\n",
       "    <tr>\n",
       "      <th>std</th>\n",
       "      <td>7.712734e+14</td>\n",
       "      <td>0.767555</td>\n",
       "      <td>0.403535</td>\n",
       "      <td>1.177668</td>\n",
       "      <td>25.053236</td>\n",
       "      <td>3.752229</td>\n",
       "      <td>2.842058</td>\n",
       "    </tr>\n",
       "    <tr>\n",
       "      <th>min</th>\n",
       "      <td>5.675900e+17</td>\n",
       "      <td>0.000000</td>\n",
       "      <td>0.000000</td>\n",
       "      <td>0.000000</td>\n",
       "      <td>6.000000</td>\n",
       "      <td>1.000000</td>\n",
       "      <td>-13.000000</td>\n",
       "    </tr>\n",
       "    <tr>\n",
       "      <th>25%</th>\n",
       "      <td>5.685840e+17</td>\n",
       "      <td>0.000000</td>\n",
       "      <td>0.000000</td>\n",
       "      <td>1.000000</td>\n",
       "      <td>53.000000</td>\n",
       "      <td>8.000000</td>\n",
       "      <td>-1.000000</td>\n",
       "    </tr>\n",
       "    <tr>\n",
       "      <th>50%</th>\n",
       "      <td>5.694980e+17</td>\n",
       "      <td>0.000000</td>\n",
       "      <td>0.000000</td>\n",
       "      <td>1.000000</td>\n",
       "      <td>74.000000</td>\n",
       "      <td>11.000000</td>\n",
       "      <td>0.000000</td>\n",
       "    </tr>\n",
       "    <tr>\n",
       "      <th>75%</th>\n",
       "      <td>5.698800e+17</td>\n",
       "      <td>0.000000</td>\n",
       "      <td>0.000000</td>\n",
       "      <td>2.000000</td>\n",
       "      <td>89.000000</td>\n",
       "      <td>13.000000</td>\n",
       "      <td>2.000000</td>\n",
       "    </tr>\n",
       "    <tr>\n",
       "      <th>max</th>\n",
       "      <td>5.703110e+17</td>\n",
       "      <td>44.000000</td>\n",
       "      <td>1.000000</td>\n",
       "      <td>7.000000</td>\n",
       "      <td>140.000000</td>\n",
       "      <td>23.000000</td>\n",
       "      <td>17.000000</td>\n",
       "    </tr>\n",
       "  </tbody>\n",
       "</table>\n",
       "</div>"
      ],
      "text/plain": [
       "                 id  retweet_count  Sentiment Value  Number of Matches  \\\n",
       "count  1.154100e+04   11541.000000     11541.000000       11541.000000   \n",
       "mean   5.692275e+17       0.088467         0.204748           1.616411   \n",
       "std    7.712734e+14       0.767555         0.403535           1.177668   \n",
       "min    5.675900e+17       0.000000         0.000000           0.000000   \n",
       "25%    5.685840e+17       0.000000         0.000000           1.000000   \n",
       "50%    5.694980e+17       0.000000         0.000000           1.000000   \n",
       "75%    5.698800e+17       0.000000         0.000000           2.000000   \n",
       "max    5.703110e+17      44.000000         1.000000           7.000000   \n",
       "\n",
       "       Tweet Character Length  Tweet Word Length   Tweet Score  \n",
       "count            11541.000000       11541.000000  11541.000000  \n",
       "mean                70.645785          10.253184      0.516853  \n",
       "std                 25.053236           3.752229      2.842058  \n",
       "min                  6.000000           1.000000    -13.000000  \n",
       "25%                 53.000000           8.000000     -1.000000  \n",
       "50%                 74.000000          11.000000      0.000000  \n",
       "75%                 89.000000          13.000000      2.000000  \n",
       "max                140.000000          23.000000     17.000000  "
      ]
     },
     "execution_count": 90,
     "metadata": {},
     "output_type": "execute_result"
    }
   ],
   "source": [
    "df_airline.describe()"
   ]
  },
  {
   "cell_type": "markdown",
   "metadata": {},
   "source": [
    "First to evaluate the model on the airline dataset, we will need to convert the sentiment which is a string (\"postive\" or \"negative\") to the same format as the class's in the generic dataset (4 for positive and 0 for negative) for which the model was trained on. This is done below in the function sentiment_class. The results will be added to the dataframe df_airline as a new coloumn \"Sentiment Class\"."
   ]
  },
  {
   "cell_type": "code",
   "execution_count": 91,
   "metadata": {},
   "outputs": [
    {
     "data": {
      "text/html": [
       "<div>\n",
       "<style scoped>\n",
       "    .dataframe tbody tr th:only-of-type {\n",
       "        vertical-align: middle;\n",
       "    }\n",
       "\n",
       "    .dataframe tbody tr th {\n",
       "        vertical-align: top;\n",
       "    }\n",
       "\n",
       "    .dataframe thead th {\n",
       "        text-align: right;\n",
       "    }\n",
       "</style>\n",
       "<table border=\"1\" class=\"dataframe\">\n",
       "  <thead>\n",
       "    <tr style=\"text-align: right;\">\n",
       "      <th></th>\n",
       "      <th>id</th>\n",
       "      <th>sentiment</th>\n",
       "      <th>negative_reason</th>\n",
       "      <th>user</th>\n",
       "      <th>retweet_count</th>\n",
       "      <th>text</th>\n",
       "      <th>Clean Text</th>\n",
       "      <th>Sentiment Value</th>\n",
       "      <th>List of Matches</th>\n",
       "      <th>Number of Matches</th>\n",
       "      <th>Tweet Character Length</th>\n",
       "      <th>Tweet Word Length</th>\n",
       "      <th>Tweet Score</th>\n",
       "      <th>Sentiment Class</th>\n",
       "    </tr>\n",
       "  </thead>\n",
       "  <tbody>\n",
       "    <tr>\n",
       "      <th>0</th>\n",
       "      <td>5.703010e+17</td>\n",
       "      <td>positive</td>\n",
       "      <td>NaN</td>\n",
       "      <td>jnardino</td>\n",
       "      <td>0</td>\n",
       "      <td>@VirginAmerica plus you've added commercials t...</td>\n",
       "      <td>virginamerica plus added commercials experienc...</td>\n",
       "      <td>1</td>\n",
       "      <td>[]</td>\n",
       "      <td>0</td>\n",
       "      <td>53</td>\n",
       "      <td>6</td>\n",
       "      <td>0</td>\n",
       "      <td>4</td>\n",
       "    </tr>\n",
       "    <tr>\n",
       "      <th>1</th>\n",
       "      <td>5.703010e+17</td>\n",
       "      <td>negative</td>\n",
       "      <td>Bad Flight</td>\n",
       "      <td>jnardino</td>\n",
       "      <td>0</td>\n",
       "      <td>@VirginAmerica it's really aggressive to blast...</td>\n",
       "      <td>virginamerica really aggressive blast obnoxiou...</td>\n",
       "      <td>0</td>\n",
       "      <td>[obnoxious, aggressive]</td>\n",
       "      <td>2</td>\n",
       "      <td>94</td>\n",
       "      <td>11</td>\n",
       "      <td>-5</td>\n",
       "      <td>0</td>\n",
       "    </tr>\n",
       "    <tr>\n",
       "      <th>2</th>\n",
       "      <td>5.703010e+17</td>\n",
       "      <td>negative</td>\n",
       "      <td>Can't Tell</td>\n",
       "      <td>jnardino</td>\n",
       "      <td>0</td>\n",
       "      <td>@VirginAmerica and it's a really big bad thing...</td>\n",
       "      <td>virginamerica really big bad thing</td>\n",
       "      <td>0</td>\n",
       "      <td>[bad, big]</td>\n",
       "      <td>2</td>\n",
       "      <td>34</td>\n",
       "      <td>5</td>\n",
       "      <td>-2</td>\n",
       "      <td>0</td>\n",
       "    </tr>\n",
       "    <tr>\n",
       "      <th>3</th>\n",
       "      <td>5.703010e+17</td>\n",
       "      <td>negative</td>\n",
       "      <td>Can't Tell</td>\n",
       "      <td>jnardino</td>\n",
       "      <td>0</td>\n",
       "      <td>@VirginAmerica seriously would pay $30 a fligh...</td>\n",
       "      <td>virginamerica seriously would pay flight seats...</td>\n",
       "      <td>0</td>\n",
       "      <td>[bad, pay]</td>\n",
       "      <td>2</td>\n",
       "      <td>81</td>\n",
       "      <td>12</td>\n",
       "      <td>-4</td>\n",
       "      <td>0</td>\n",
       "    </tr>\n",
       "    <tr>\n",
       "      <th>4</th>\n",
       "      <td>5.703010e+17</td>\n",
       "      <td>positive</td>\n",
       "      <td>NaN</td>\n",
       "      <td>cjmcginnis</td>\n",
       "      <td>0</td>\n",
       "      <td>@VirginAmerica yes, nearly every time I fly VX...</td>\n",
       "      <td>virginamerica yes nearly every time fly vx ear...</td>\n",
       "      <td>1</td>\n",
       "      <td>[yes]</td>\n",
       "      <td>1</td>\n",
       "      <td>59</td>\n",
       "      <td>11</td>\n",
       "      <td>1</td>\n",
       "      <td>4</td>\n",
       "    </tr>\n",
       "  </tbody>\n",
       "</table>\n",
       "</div>"
      ],
      "text/plain": [
       "             id sentiment negative_reason        user  retweet_count  \\\n",
       "0  5.703010e+17  positive             NaN    jnardino              0   \n",
       "1  5.703010e+17  negative      Bad Flight    jnardino              0   \n",
       "2  5.703010e+17  negative      Can't Tell    jnardino              0   \n",
       "3  5.703010e+17  negative      Can't Tell    jnardino              0   \n",
       "4  5.703010e+17  positive             NaN  cjmcginnis              0   \n",
       "\n",
       "                                                text  \\\n",
       "0  @VirginAmerica plus you've added commercials t...   \n",
       "1  @VirginAmerica it's really aggressive to blast...   \n",
       "2  @VirginAmerica and it's a really big bad thing...   \n",
       "3  @VirginAmerica seriously would pay $30 a fligh...   \n",
       "4  @VirginAmerica yes, nearly every time I fly VX...   \n",
       "\n",
       "                                          Clean Text  Sentiment Value  \\\n",
       "0  virginamerica plus added commercials experienc...                1   \n",
       "1  virginamerica really aggressive blast obnoxiou...                0   \n",
       "2                 virginamerica really big bad thing                0   \n",
       "3  virginamerica seriously would pay flight seats...                0   \n",
       "4  virginamerica yes nearly every time fly vx ear...                1   \n",
       "\n",
       "           List of Matches  Number of Matches  Tweet Character Length  \\\n",
       "0                       []                  0                      53   \n",
       "1  [obnoxious, aggressive]                  2                      94   \n",
       "2               [bad, big]                  2                      34   \n",
       "3               [bad, pay]                  2                      81   \n",
       "4                    [yes]                  1                      59   \n",
       "\n",
       "   Tweet Word Length  Tweet Score  Sentiment Class  \n",
       "0                  6            0                4  \n",
       "1                 11           -5                0  \n",
       "2                  5           -2                0  \n",
       "3                 12           -4                0  \n",
       "4                 11            1                4  "
      ]
     },
     "execution_count": 91,
     "metadata": {},
     "output_type": "execute_result"
    }
   ],
   "source": [
    "def sentiment_class (sentiment): # Function to determine the sentiment class (0 or 4) based on the sentiment label in the dataset\n",
    "    if sentiment == (\"negative\"):\n",
    "        sentiment_value = 0\n",
    "    elif sentiment == (\"positive\"):\n",
    "        sentiment_value = 4\n",
    "    return (sentiment_value)\n",
    "\n",
    "df_airline['Sentiment Class'] = df_airline['sentiment'].apply(lambda x: sentiment_class(x))\n",
    "\n",
    "df_airline.head()"
   ]
  },
  {
   "cell_type": "markdown",
   "metadata": {},
   "source": [
    "Now lets compute the Bag of Words as was done for the generic tweet inputs above. Note we are keeping the number of features at 1000 to ensure that the model recieves the same number of inputs."
   ]
  },
  {
   "cell_type": "code",
   "execution_count": 92,
   "metadata": {},
   "outputs": [],
   "source": [
    "matrix_2 = CountVectorizer(max_features = 1000)\n",
    "X_airline = (matrix_2.fit_transform(df_airline[\"Clean Text\"]).toarray())\n",
    "y_airline = df_airline[\"Sentiment Class\"]"
   ]
  },
  {
   "cell_type": "code",
   "execution_count": 93,
   "metadata": {},
   "outputs": [
    {
     "data": {
      "text/html": [
       "<div>\n",
       "<style scoped>\n",
       "    .dataframe tbody tr th:only-of-type {\n",
       "        vertical-align: middle;\n",
       "    }\n",
       "\n",
       "    .dataframe tbody tr th {\n",
       "        vertical-align: top;\n",
       "    }\n",
       "\n",
       "    .dataframe thead tr th {\n",
       "        text-align: left;\n",
       "    }\n",
       "</style>\n",
       "<table border=\"1\" class=\"dataframe\">\n",
       "  <thead>\n",
       "    <tr>\n",
       "      <th></th>\n",
       "      <th></th>\n",
       "      <th></th>\n",
       "      <th></th>\n",
       "      <th></th>\n",
       "      <th></th>\n",
       "      <th></th>\n",
       "      <th></th>\n",
       "      <th></th>\n",
       "      <th></th>\n",
       "      <th></th>\n",
       "      <th>...</th>\n",
       "      <th></th>\n",
       "      <th></th>\n",
       "      <th></th>\n",
       "      <th></th>\n",
       "      <th></th>\n",
       "      <th></th>\n",
       "      <th></th>\n",
       "      <th></th>\n",
       "      <th></th>\n",
       "      <th></th>\n",
       "    </tr>\n",
       "  </thead>\n",
       "  <tbody>\n",
       "    <tr>\n",
       "      <th>0</th>\n",
       "      <td>0</td>\n",
       "      <td>0</td>\n",
       "      <td>0</td>\n",
       "      <td>0</td>\n",
       "      <td>0</td>\n",
       "      <td>0</td>\n",
       "      <td>0</td>\n",
       "      <td>0</td>\n",
       "      <td>0</td>\n",
       "      <td>0</td>\n",
       "      <td>...</td>\n",
       "      <td>0</td>\n",
       "      <td>0</td>\n",
       "      <td>0</td>\n",
       "      <td>0</td>\n",
       "      <td>0</td>\n",
       "      <td>0</td>\n",
       "      <td>0</td>\n",
       "      <td>0</td>\n",
       "      <td>0</td>\n",
       "      <td>0</td>\n",
       "    </tr>\n",
       "    <tr>\n",
       "      <th>1</th>\n",
       "      <td>0</td>\n",
       "      <td>0</td>\n",
       "      <td>0</td>\n",
       "      <td>0</td>\n",
       "      <td>0</td>\n",
       "      <td>0</td>\n",
       "      <td>0</td>\n",
       "      <td>0</td>\n",
       "      <td>0</td>\n",
       "      <td>0</td>\n",
       "      <td>...</td>\n",
       "      <td>0</td>\n",
       "      <td>0</td>\n",
       "      <td>0</td>\n",
       "      <td>0</td>\n",
       "      <td>0</td>\n",
       "      <td>0</td>\n",
       "      <td>0</td>\n",
       "      <td>0</td>\n",
       "      <td>0</td>\n",
       "      <td>0</td>\n",
       "    </tr>\n",
       "    <tr>\n",
       "      <th>2</th>\n",
       "      <td>0</td>\n",
       "      <td>0</td>\n",
       "      <td>0</td>\n",
       "      <td>0</td>\n",
       "      <td>0</td>\n",
       "      <td>0</td>\n",
       "      <td>0</td>\n",
       "      <td>0</td>\n",
       "      <td>0</td>\n",
       "      <td>0</td>\n",
       "      <td>...</td>\n",
       "      <td>0</td>\n",
       "      <td>0</td>\n",
       "      <td>0</td>\n",
       "      <td>0</td>\n",
       "      <td>0</td>\n",
       "      <td>0</td>\n",
       "      <td>0</td>\n",
       "      <td>0</td>\n",
       "      <td>0</td>\n",
       "      <td>0</td>\n",
       "    </tr>\n",
       "    <tr>\n",
       "      <th>3</th>\n",
       "      <td>0</td>\n",
       "      <td>0</td>\n",
       "      <td>0</td>\n",
       "      <td>0</td>\n",
       "      <td>0</td>\n",
       "      <td>0</td>\n",
       "      <td>0</td>\n",
       "      <td>0</td>\n",
       "      <td>0</td>\n",
       "      <td>0</td>\n",
       "      <td>...</td>\n",
       "      <td>0</td>\n",
       "      <td>0</td>\n",
       "      <td>0</td>\n",
       "      <td>0</td>\n",
       "      <td>0</td>\n",
       "      <td>0</td>\n",
       "      <td>0</td>\n",
       "      <td>0</td>\n",
       "      <td>0</td>\n",
       "      <td>0</td>\n",
       "    </tr>\n",
       "    <tr>\n",
       "      <th>4</th>\n",
       "      <td>0</td>\n",
       "      <td>0</td>\n",
       "      <td>0</td>\n",
       "      <td>0</td>\n",
       "      <td>0</td>\n",
       "      <td>0</td>\n",
       "      <td>0</td>\n",
       "      <td>0</td>\n",
       "      <td>0</td>\n",
       "      <td>0</td>\n",
       "      <td>...</td>\n",
       "      <td>0</td>\n",
       "      <td>0</td>\n",
       "      <td>0</td>\n",
       "      <td>0</td>\n",
       "      <td>0</td>\n",
       "      <td>1</td>\n",
       "      <td>0</td>\n",
       "      <td>0</td>\n",
       "      <td>0</td>\n",
       "      <td>0</td>\n",
       "    </tr>\n",
       "  </tbody>\n",
       "</table>\n",
       "<p>5 rows × 1000 columns</p>\n",
       "</div>"
      ],
      "text/plain": [
       "                                ...                              \n",
       "0  0  0  0  0  0  0  0  0  0  0 ...  0  0  0  0  0  0  0  0  0  0\n",
       "1  0  0  0  0  0  0  0  0  0  0 ...  0  0  0  0  0  0  0  0  0  0\n",
       "2  0  0  0  0  0  0  0  0  0  0 ...  0  0  0  0  0  0  0  0  0  0\n",
       "3  0  0  0  0  0  0  0  0  0  0 ...  0  0  0  0  0  0  0  0  0  0\n",
       "4  0  0  0  0  0  0  0  0  0  0 ...  0  0  0  0  0  1  0  0  0  0\n",
       "\n",
       "[5 rows x 1000 columns]"
      ]
     },
     "execution_count": 93,
     "metadata": {},
     "output_type": "execute_result"
    }
   ],
   "source": [
    "X_df_airline = pd.DataFrame(X_airline, columns=[['']*1000])\n",
    "X_df_airline.head()"
   ]
  },
  {
   "cell_type": "markdown",
   "metadata": {},
   "source": [
    "With the Bag of Words input feature generated, next lets add Tweet Score, Tweet Character Length, Tweet Word Length, and Number of Matches."
   ]
  },
  {
   "cell_type": "code",
   "execution_count": 94,
   "metadata": {},
   "outputs": [
    {
     "data": {
      "text/html": [
       "<div>\n",
       "<style scoped>\n",
       "    .dataframe tbody tr th:only-of-type {\n",
       "        vertical-align: middle;\n",
       "    }\n",
       "\n",
       "    .dataframe tbody tr th {\n",
       "        vertical-align: top;\n",
       "    }\n",
       "\n",
       "    .dataframe thead tr th {\n",
       "        text-align: left;\n",
       "    }\n",
       "</style>\n",
       "<table border=\"1\" class=\"dataframe\">\n",
       "  <thead>\n",
       "    <tr>\n",
       "      <th></th>\n",
       "      <th></th>\n",
       "      <th></th>\n",
       "      <th></th>\n",
       "      <th></th>\n",
       "      <th></th>\n",
       "      <th></th>\n",
       "      <th></th>\n",
       "      <th></th>\n",
       "      <th></th>\n",
       "      <th></th>\n",
       "      <th>...</th>\n",
       "      <th></th>\n",
       "      <th></th>\n",
       "      <th></th>\n",
       "      <th></th>\n",
       "      <th></th>\n",
       "      <th></th>\n",
       "      <th>Tweet Score</th>\n",
       "      <th>Tweet Character Length</th>\n",
       "      <th>Tweet Word Length</th>\n",
       "      <th>Number of Matches with Corpus</th>\n",
       "    </tr>\n",
       "  </thead>\n",
       "  <tbody>\n",
       "    <tr>\n",
       "      <th>0</th>\n",
       "      <td>0</td>\n",
       "      <td>0</td>\n",
       "      <td>0</td>\n",
       "      <td>0</td>\n",
       "      <td>0</td>\n",
       "      <td>0</td>\n",
       "      <td>0</td>\n",
       "      <td>0</td>\n",
       "      <td>0</td>\n",
       "      <td>0</td>\n",
       "      <td>...</td>\n",
       "      <td>0</td>\n",
       "      <td>0</td>\n",
       "      <td>0</td>\n",
       "      <td>0</td>\n",
       "      <td>0</td>\n",
       "      <td>0</td>\n",
       "      <td>0</td>\n",
       "      <td>53</td>\n",
       "      <td>6</td>\n",
       "      <td>0</td>\n",
       "    </tr>\n",
       "    <tr>\n",
       "      <th>1</th>\n",
       "      <td>0</td>\n",
       "      <td>0</td>\n",
       "      <td>0</td>\n",
       "      <td>0</td>\n",
       "      <td>0</td>\n",
       "      <td>0</td>\n",
       "      <td>0</td>\n",
       "      <td>0</td>\n",
       "      <td>0</td>\n",
       "      <td>0</td>\n",
       "      <td>...</td>\n",
       "      <td>0</td>\n",
       "      <td>0</td>\n",
       "      <td>0</td>\n",
       "      <td>0</td>\n",
       "      <td>0</td>\n",
       "      <td>0</td>\n",
       "      <td>-5</td>\n",
       "      <td>94</td>\n",
       "      <td>11</td>\n",
       "      <td>2</td>\n",
       "    </tr>\n",
       "    <tr>\n",
       "      <th>2</th>\n",
       "      <td>0</td>\n",
       "      <td>0</td>\n",
       "      <td>0</td>\n",
       "      <td>0</td>\n",
       "      <td>0</td>\n",
       "      <td>0</td>\n",
       "      <td>0</td>\n",
       "      <td>0</td>\n",
       "      <td>0</td>\n",
       "      <td>0</td>\n",
       "      <td>...</td>\n",
       "      <td>0</td>\n",
       "      <td>0</td>\n",
       "      <td>0</td>\n",
       "      <td>0</td>\n",
       "      <td>0</td>\n",
       "      <td>0</td>\n",
       "      <td>-2</td>\n",
       "      <td>34</td>\n",
       "      <td>5</td>\n",
       "      <td>2</td>\n",
       "    </tr>\n",
       "    <tr>\n",
       "      <th>3</th>\n",
       "      <td>0</td>\n",
       "      <td>0</td>\n",
       "      <td>0</td>\n",
       "      <td>0</td>\n",
       "      <td>0</td>\n",
       "      <td>0</td>\n",
       "      <td>0</td>\n",
       "      <td>0</td>\n",
       "      <td>0</td>\n",
       "      <td>0</td>\n",
       "      <td>...</td>\n",
       "      <td>0</td>\n",
       "      <td>0</td>\n",
       "      <td>0</td>\n",
       "      <td>0</td>\n",
       "      <td>0</td>\n",
       "      <td>0</td>\n",
       "      <td>-4</td>\n",
       "      <td>81</td>\n",
       "      <td>12</td>\n",
       "      <td>2</td>\n",
       "    </tr>\n",
       "    <tr>\n",
       "      <th>4</th>\n",
       "      <td>0</td>\n",
       "      <td>0</td>\n",
       "      <td>0</td>\n",
       "      <td>0</td>\n",
       "      <td>0</td>\n",
       "      <td>0</td>\n",
       "      <td>0</td>\n",
       "      <td>0</td>\n",
       "      <td>0</td>\n",
       "      <td>0</td>\n",
       "      <td>...</td>\n",
       "      <td>0</td>\n",
       "      <td>1</td>\n",
       "      <td>0</td>\n",
       "      <td>0</td>\n",
       "      <td>0</td>\n",
       "      <td>0</td>\n",
       "      <td>1</td>\n",
       "      <td>59</td>\n",
       "      <td>11</td>\n",
       "      <td>1</td>\n",
       "    </tr>\n",
       "  </tbody>\n",
       "</table>\n",
       "<p>5 rows × 1004 columns</p>\n",
       "</div>"
      ],
      "text/plain": [
       "                                             ...                              \\\n",
       "0  0  0  0  0  0  0  0  0  0  0              ...               0  0  0  0  0   \n",
       "1  0  0  0  0  0  0  0  0  0  0              ...               0  0  0  0  0   \n",
       "2  0  0  0  0  0  0  0  0  0  0              ...               0  0  0  0  0   \n",
       "3  0  0  0  0  0  0  0  0  0  0              ...               0  0  0  0  0   \n",
       "4  0  0  0  0  0  0  0  0  0  0              ...               0  1  0  0  0   \n",
       "\n",
       "     Tweet Score Tweet Character Length Tweet Word Length  \\\n",
       "0  0           0                     53                 6   \n",
       "1  0          -5                     94                11   \n",
       "2  0          -2                     34                 5   \n",
       "3  0          -4                     81                12   \n",
       "4  0           1                     59                11   \n",
       "\n",
       "  Number of Matches with Corpus  \n",
       "0                             0  \n",
       "1                             2  \n",
       "2                             2  \n",
       "3                             2  \n",
       "4                             1  \n",
       "\n",
       "[5 rows x 1004 columns]"
      ]
     },
     "execution_count": 94,
     "metadata": {},
     "output_type": "execute_result"
    }
   ],
   "source": [
    "X_df_airline[\"Tweet Score\"] = df_airline[\"Tweet Score\"]\n",
    "X_df_airline[\"Tweet Character Length\"] = df_airline[\"Tweet Character Length\"]\n",
    "X_df_airline[\"Tweet Word Length\"] = df_airline[\"Tweet Word Length\"]\n",
    "X_df_airline[\"Number of Matches with Corpus\"] = df_airline[\"Number of Matches\"]\n",
    "X_df_airline.head()"
   ]
  },
  {
   "cell_type": "markdown",
   "metadata": {},
   "source": [
    "Now lets input the dataframe containing the input features calculated above (X_df_airline) in the the model already generated (model) and calculate an accuracy score, classification report, and confusion matrix."
   ]
  },
  {
   "cell_type": "code",
   "execution_count": 95,
   "metadata": {},
   "outputs": [],
   "source": [
    "predictions_airline_sentiment = model.predict(X_df_airline)"
   ]
  },
  {
   "cell_type": "code",
   "execution_count": 96,
   "metadata": {},
   "outputs": [
    {
     "name": "stdout",
     "output_type": "stream",
     "text": [
      "63.919937613724976\n"
     ]
    }
   ],
   "source": [
    "score_2 = accuracy_score(y_airline,predictions_airline_sentiment)\n",
    "\n",
    "print (score_2*100)"
   ]
  },
  {
   "cell_type": "code",
   "execution_count": 97,
   "metadata": {},
   "outputs": [
    {
     "name": "stdout",
     "output_type": "stream",
     "text": [
      "              precision    recall  f1-score   support\n",
      "\n",
      "           0       0.87      0.64      0.74      9178\n",
      "           4       0.31      0.62      0.41      2363\n",
      "\n",
      "   micro avg       0.64      0.64      0.64     11541\n",
      "   macro avg       0.59      0.63      0.58     11541\n",
      "weighted avg       0.75      0.64      0.67     11541\n",
      "\n"
     ]
    }
   ],
   "source": [
    "from sklearn.metrics import classification_report\n",
    "print(classification_report(y_airline,predictions_airline_sentiment))"
   ]
  },
  {
   "cell_type": "code",
   "execution_count": 98,
   "metadata": {},
   "outputs": [
    {
     "name": "stdout",
     "output_type": "stream",
     "text": [
      "[[5903 3275]\n",
      " [ 889 1474]]\n"
     ]
    }
   ],
   "source": [
    "from sklearn.metrics import confusion_matrix\n",
    "print (confusion_matrix(y_airline,predictions_airline_sentiment))"
   ]
  },
  {
   "cell_type": "markdown",
   "metadata": {},
   "source": [
    "As can be seen in the code above, the generic tweets model has an accuracy of around 63% when evaluated on the US Airline Data. This accuracy is quite low. While it could be further improved by running L1 or L2 regularization on the input data, this has not been done as apart of the scope of this assignment. Further lets take a closer look at what the model is predicting to ensure that it isn't all lumped into one prediciton (ie either all class 0 or class 4):"
   ]
  },
  {
   "cell_type": "code",
   "execution_count": 99,
   "metadata": {},
   "outputs": [
    {
     "name": "stdout",
     "output_type": "stream",
     "text": [
      "[6792, 4749]\n"
     ]
    }
   ],
   "source": [
    "airline_sentiment_counter = [0]*2\n",
    "\n",
    "for i in range (0,len(predictions_airline_sentiment)):\n",
    "    if predictions_airline_sentiment[i] == 4:\n",
    "        airline_sentiment_counter[1] = airline_sentiment_counter[1] + 1\n",
    "    else:\n",
    "        airline_sentiment_counter[0] = airline_sentiment_counter[0] + 1\n",
    "print (airline_sentiment_counter)"
   ]
  },
  {
   "cell_type": "markdown",
   "metadata": {},
   "source": [
    "As can be seen the model trained on the generic tweets dataset is predicting 1,486 of the airline tweets to be postive (class 4) and 1,977 of the airline tweets to be negative (class 0). As such it can be concluded that this model is not very accurate for predicting the sentiment for the US Airline tweet dataset. I suspect that it may be do to the fact that the majority of the US Airline tweet dataset is negative. From the exploratory analysis in section 2 there are 9,178 negative tweets and 2,363 postive tweets in the dataset. As where in the generic tweet dataset there is an equal amount of postive and negative tweets (100,000) for both. As such there is a strong negative bias in US airline dataset. It would be interesting to train a model on the US airline dataset with the target variable being the sentiment and check how many predictions are postive vs negative. I would guess that the model would likely pick up this strong negative bias and most if not all predictions would be negative. ***Update I have done this as a part of the bonus section. Please refer to it for added analysis and insight."
   ]
  },
  {
   "cell_type": "markdown",
   "metadata": {},
   "source": [
    "Next we will create a new dataframe to store just the negative airline tweets. the other generated features (Number of Matches, Tweet Character Length, Tweet Word Length, and Tweet Score) will be carried over as well."
   ]
  },
  {
   "cell_type": "code",
   "execution_count": 100,
   "metadata": {},
   "outputs": [
    {
     "data": {
      "text/html": [
       "<div>\n",
       "<style scoped>\n",
       "    .dataframe tbody tr th:only-of-type {\n",
       "        vertical-align: middle;\n",
       "    }\n",
       "\n",
       "    .dataframe tbody tr th {\n",
       "        vertical-align: top;\n",
       "    }\n",
       "\n",
       "    .dataframe thead th {\n",
       "        text-align: right;\n",
       "    }\n",
       "</style>\n",
       "<table border=\"1\" class=\"dataframe\">\n",
       "  <thead>\n",
       "    <tr style=\"text-align: right;\">\n",
       "      <th></th>\n",
       "      <th>id</th>\n",
       "      <th>sentiment</th>\n",
       "      <th>negative_reason</th>\n",
       "      <th>user</th>\n",
       "      <th>retweet_count</th>\n",
       "      <th>text</th>\n",
       "      <th>Clean Text</th>\n",
       "      <th>Sentiment Value</th>\n",
       "      <th>List of Matches</th>\n",
       "      <th>Number of Matches</th>\n",
       "      <th>Tweet Character Length</th>\n",
       "      <th>Tweet Word Length</th>\n",
       "      <th>Tweet Score</th>\n",
       "      <th>Sentiment Class</th>\n",
       "    </tr>\n",
       "  </thead>\n",
       "  <tbody>\n",
       "    <tr>\n",
       "      <th>0</th>\n",
       "      <td>5.703010e+17</td>\n",
       "      <td>positive</td>\n",
       "      <td>NaN</td>\n",
       "      <td>jnardino</td>\n",
       "      <td>0</td>\n",
       "      <td>@VirginAmerica plus you've added commercials t...</td>\n",
       "      <td>virginamerica plus added commercials experienc...</td>\n",
       "      <td>1</td>\n",
       "      <td>[]</td>\n",
       "      <td>0</td>\n",
       "      <td>53</td>\n",
       "      <td>6</td>\n",
       "      <td>0</td>\n",
       "      <td>4</td>\n",
       "    </tr>\n",
       "    <tr>\n",
       "      <th>1</th>\n",
       "      <td>5.703010e+17</td>\n",
       "      <td>negative</td>\n",
       "      <td>Bad Flight</td>\n",
       "      <td>jnardino</td>\n",
       "      <td>0</td>\n",
       "      <td>@VirginAmerica it's really aggressive to blast...</td>\n",
       "      <td>virginamerica really aggressive blast obnoxiou...</td>\n",
       "      <td>0</td>\n",
       "      <td>[obnoxious, aggressive]</td>\n",
       "      <td>2</td>\n",
       "      <td>94</td>\n",
       "      <td>11</td>\n",
       "      <td>-5</td>\n",
       "      <td>0</td>\n",
       "    </tr>\n",
       "    <tr>\n",
       "      <th>2</th>\n",
       "      <td>5.703010e+17</td>\n",
       "      <td>negative</td>\n",
       "      <td>Can't Tell</td>\n",
       "      <td>jnardino</td>\n",
       "      <td>0</td>\n",
       "      <td>@VirginAmerica and it's a really big bad thing...</td>\n",
       "      <td>virginamerica really big bad thing</td>\n",
       "      <td>0</td>\n",
       "      <td>[bad, big]</td>\n",
       "      <td>2</td>\n",
       "      <td>34</td>\n",
       "      <td>5</td>\n",
       "      <td>-2</td>\n",
       "      <td>0</td>\n",
       "    </tr>\n",
       "    <tr>\n",
       "      <th>3</th>\n",
       "      <td>5.703010e+17</td>\n",
       "      <td>negative</td>\n",
       "      <td>Can't Tell</td>\n",
       "      <td>jnardino</td>\n",
       "      <td>0</td>\n",
       "      <td>@VirginAmerica seriously would pay $30 a fligh...</td>\n",
       "      <td>virginamerica seriously would pay flight seats...</td>\n",
       "      <td>0</td>\n",
       "      <td>[bad, pay]</td>\n",
       "      <td>2</td>\n",
       "      <td>81</td>\n",
       "      <td>12</td>\n",
       "      <td>-4</td>\n",
       "      <td>0</td>\n",
       "    </tr>\n",
       "    <tr>\n",
       "      <th>4</th>\n",
       "      <td>5.703010e+17</td>\n",
       "      <td>positive</td>\n",
       "      <td>NaN</td>\n",
       "      <td>cjmcginnis</td>\n",
       "      <td>0</td>\n",
       "      <td>@VirginAmerica yes, nearly every time I fly VX...</td>\n",
       "      <td>virginamerica yes nearly every time fly vx ear...</td>\n",
       "      <td>1</td>\n",
       "      <td>[yes]</td>\n",
       "      <td>1</td>\n",
       "      <td>59</td>\n",
       "      <td>11</td>\n",
       "      <td>1</td>\n",
       "      <td>4</td>\n",
       "    </tr>\n",
       "  </tbody>\n",
       "</table>\n",
       "</div>"
      ],
      "text/plain": [
       "             id sentiment negative_reason        user  retweet_count  \\\n",
       "0  5.703010e+17  positive             NaN    jnardino              0   \n",
       "1  5.703010e+17  negative      Bad Flight    jnardino              0   \n",
       "2  5.703010e+17  negative      Can't Tell    jnardino              0   \n",
       "3  5.703010e+17  negative      Can't Tell    jnardino              0   \n",
       "4  5.703010e+17  positive             NaN  cjmcginnis              0   \n",
       "\n",
       "                                                text  \\\n",
       "0  @VirginAmerica plus you've added commercials t...   \n",
       "1  @VirginAmerica it's really aggressive to blast...   \n",
       "2  @VirginAmerica and it's a really big bad thing...   \n",
       "3  @VirginAmerica seriously would pay $30 a fligh...   \n",
       "4  @VirginAmerica yes, nearly every time I fly VX...   \n",
       "\n",
       "                                          Clean Text  Sentiment Value  \\\n",
       "0  virginamerica plus added commercials experienc...                1   \n",
       "1  virginamerica really aggressive blast obnoxiou...                0   \n",
       "2                 virginamerica really big bad thing                0   \n",
       "3  virginamerica seriously would pay flight seats...                0   \n",
       "4  virginamerica yes nearly every time fly vx ear...                1   \n",
       "\n",
       "           List of Matches  Number of Matches  Tweet Character Length  \\\n",
       "0                       []                  0                      53   \n",
       "1  [obnoxious, aggressive]                  2                      94   \n",
       "2               [bad, big]                  2                      34   \n",
       "3               [bad, pay]                  2                      81   \n",
       "4                    [yes]                  1                      59   \n",
       "\n",
       "   Tweet Word Length  Tweet Score  Sentiment Class  \n",
       "0                  6            0                4  \n",
       "1                 11           -5                0  \n",
       "2                  5           -2                0  \n",
       "3                 12           -4                0  \n",
       "4                 11            1                4  "
      ]
     },
     "execution_count": 100,
     "metadata": {},
     "output_type": "execute_result"
    }
   ],
   "source": [
    "df_airline_2 = df_airline\n",
    "df_airline_2.head() # New dataframe containing the old dataframe values"
   ]
  },
  {
   "cell_type": "code",
   "execution_count": 101,
   "metadata": {},
   "outputs": [],
   "source": [
    "for i in range (0,len(df_airline_2)): # For loop to drop the postive sentiment tweets\n",
    "    if df_airline_2[\"Sentiment Value\"][i] == 1:\n",
    "        df_airline_2 = df_airline_2.drop([i], axis=0)"
   ]
  },
  {
   "cell_type": "code",
   "execution_count": 102,
   "metadata": {},
   "outputs": [],
   "source": [
    "df_airline_2 = df_airline_2.reset_index(drop=True) # Resetting of the index to make it easier to input the features in the ML model"
   ]
  },
  {
   "cell_type": "code",
   "execution_count": 103,
   "metadata": {},
   "outputs": [
    {
     "name": "stdout",
     "output_type": "stream",
     "text": [
      "9178\n",
      "11541\n"
     ]
    }
   ],
   "source": [
    "print(len(df_airline_2)) # Sanity check to compare the new dataframes length without postive sentiment tweets to the original dataframe\n",
    "print(len(df_airline))"
   ]
  },
  {
   "cell_type": "code",
   "execution_count": 104,
   "metadata": {},
   "outputs": [
    {
     "data": {
      "text/html": [
       "<div>\n",
       "<style scoped>\n",
       "    .dataframe tbody tr th:only-of-type {\n",
       "        vertical-align: middle;\n",
       "    }\n",
       "\n",
       "    .dataframe tbody tr th {\n",
       "        vertical-align: top;\n",
       "    }\n",
       "\n",
       "    .dataframe thead th {\n",
       "        text-align: right;\n",
       "    }\n",
       "</style>\n",
       "<table border=\"1\" class=\"dataframe\">\n",
       "  <thead>\n",
       "    <tr style=\"text-align: right;\">\n",
       "      <th></th>\n",
       "      <th>id</th>\n",
       "      <th>sentiment</th>\n",
       "      <th>negative_reason</th>\n",
       "      <th>user</th>\n",
       "      <th>retweet_count</th>\n",
       "      <th>text</th>\n",
       "      <th>Clean Text</th>\n",
       "      <th>Sentiment Value</th>\n",
       "      <th>List of Matches</th>\n",
       "      <th>Number of Matches</th>\n",
       "      <th>Tweet Character Length</th>\n",
       "      <th>Tweet Word Length</th>\n",
       "      <th>Tweet Score</th>\n",
       "      <th>Sentiment Class</th>\n",
       "    </tr>\n",
       "  </thead>\n",
       "  <tbody>\n",
       "    <tr>\n",
       "      <th>0</th>\n",
       "      <td>5.703010e+17</td>\n",
       "      <td>negative</td>\n",
       "      <td>Bad Flight</td>\n",
       "      <td>jnardino</td>\n",
       "      <td>0</td>\n",
       "      <td>@VirginAmerica it's really aggressive to blast...</td>\n",
       "      <td>virginamerica really aggressive blast obnoxiou...</td>\n",
       "      <td>0</td>\n",
       "      <td>[obnoxious, aggressive]</td>\n",
       "      <td>2</td>\n",
       "      <td>94</td>\n",
       "      <td>11</td>\n",
       "      <td>-5</td>\n",
       "      <td>0</td>\n",
       "    </tr>\n",
       "    <tr>\n",
       "      <th>1</th>\n",
       "      <td>5.703010e+17</td>\n",
       "      <td>negative</td>\n",
       "      <td>Can't Tell</td>\n",
       "      <td>jnardino</td>\n",
       "      <td>0</td>\n",
       "      <td>@VirginAmerica and it's a really big bad thing...</td>\n",
       "      <td>virginamerica really big bad thing</td>\n",
       "      <td>0</td>\n",
       "      <td>[bad, big]</td>\n",
       "      <td>2</td>\n",
       "      <td>34</td>\n",
       "      <td>5</td>\n",
       "      <td>-2</td>\n",
       "      <td>0</td>\n",
       "    </tr>\n",
       "    <tr>\n",
       "      <th>2</th>\n",
       "      <td>5.703010e+17</td>\n",
       "      <td>negative</td>\n",
       "      <td>Can't Tell</td>\n",
       "      <td>jnardino</td>\n",
       "      <td>0</td>\n",
       "      <td>@VirginAmerica seriously would pay $30 a fligh...</td>\n",
       "      <td>virginamerica seriously would pay flight seats...</td>\n",
       "      <td>0</td>\n",
       "      <td>[bad, pay]</td>\n",
       "      <td>2</td>\n",
       "      <td>81</td>\n",
       "      <td>12</td>\n",
       "      <td>-4</td>\n",
       "      <td>0</td>\n",
       "    </tr>\n",
       "    <tr>\n",
       "      <th>3</th>\n",
       "      <td>5.702820e+17</td>\n",
       "      <td>negative</td>\n",
       "      <td>Late Flight</td>\n",
       "      <td>smartwatermelon</td>\n",
       "      <td>0</td>\n",
       "      <td>@VirginAmerica SFO-PDX schedule is still MIA.</td>\n",
       "      <td>virginamerica sfo pdx schedule still mia</td>\n",
       "      <td>0</td>\n",
       "      <td>[]</td>\n",
       "      <td>0</td>\n",
       "      <td>40</td>\n",
       "      <td>6</td>\n",
       "      <td>0</td>\n",
       "      <td>0</td>\n",
       "    </tr>\n",
       "    <tr>\n",
       "      <th>4</th>\n",
       "      <td>5.702770e+17</td>\n",
       "      <td>negative</td>\n",
       "      <td>Bad Flight</td>\n",
       "      <td>heatherovieda</td>\n",
       "      <td>0</td>\n",
       "      <td>@VirginAmerica  I flew from NYC to SFO last we...</td>\n",
       "      <td>virginamerica flew nyc sfo last week fully sit...</td>\n",
       "      <td>0</td>\n",
       "      <td>[help]</td>\n",
       "      <td>1</td>\n",
       "      <td>92</td>\n",
       "      <td>16</td>\n",
       "      <td>2</td>\n",
       "      <td>0</td>\n",
       "    </tr>\n",
       "  </tbody>\n",
       "</table>\n",
       "</div>"
      ],
      "text/plain": [
       "             id sentiment negative_reason             user  retweet_count  \\\n",
       "0  5.703010e+17  negative      Bad Flight         jnardino              0   \n",
       "1  5.703010e+17  negative      Can't Tell         jnardino              0   \n",
       "2  5.703010e+17  negative      Can't Tell         jnardino              0   \n",
       "3  5.702820e+17  negative     Late Flight  smartwatermelon              0   \n",
       "4  5.702770e+17  negative      Bad Flight    heatherovieda              0   \n",
       "\n",
       "                                                text  \\\n",
       "0  @VirginAmerica it's really aggressive to blast...   \n",
       "1  @VirginAmerica and it's a really big bad thing...   \n",
       "2  @VirginAmerica seriously would pay $30 a fligh...   \n",
       "3      @VirginAmerica SFO-PDX schedule is still MIA.   \n",
       "4  @VirginAmerica  I flew from NYC to SFO last we...   \n",
       "\n",
       "                                          Clean Text  Sentiment Value  \\\n",
       "0  virginamerica really aggressive blast obnoxiou...                0   \n",
       "1                 virginamerica really big bad thing                0   \n",
       "2  virginamerica seriously would pay flight seats...                0   \n",
       "3           virginamerica sfo pdx schedule still mia                0   \n",
       "4  virginamerica flew nyc sfo last week fully sit...                0   \n",
       "\n",
       "           List of Matches  Number of Matches  Tweet Character Length  \\\n",
       "0  [obnoxious, aggressive]                  2                      94   \n",
       "1               [bad, big]                  2                      34   \n",
       "2               [bad, pay]                  2                      81   \n",
       "3                       []                  0                      40   \n",
       "4                   [help]                  1                      92   \n",
       "\n",
       "   Tweet Word Length  Tweet Score  Sentiment Class  \n",
       "0                 11           -5                0  \n",
       "1                  5           -2                0  \n",
       "2                 12           -4                0  \n",
       "3                  6            0                0  \n",
       "4                 16            2                0  "
      ]
     },
     "execution_count": 104,
     "metadata": {},
     "output_type": "execute_result"
    }
   ],
   "source": [
    "df_airline_2.head() # Displaying the new dataframe head for just the negative airline tweets"
   ]
  },
  {
   "cell_type": "markdown",
   "metadata": {},
   "source": [
    "With the negative tweets extracted, lets move onto selection of features for the model. Similarily as in the previous models lets compute the Bag of Words using the Count Vectorizer command with maximum features set to 1000."
   ]
  },
  {
   "cell_type": "code",
   "execution_count": 105,
   "metadata": {},
   "outputs": [],
   "source": [
    "matrix_3 = CountVectorizer(max_features = 1000)\n",
    "X_airline_negative = (matrix_3.fit_transform(df_airline_2[\"Clean Text\"]).toarray())\n",
    "y_airline_negative = df_airline_2[\"negative_reason\"]"
   ]
  },
  {
   "cell_type": "code",
   "execution_count": 106,
   "metadata": {},
   "outputs": [
    {
     "data": {
      "text/html": [
       "<div>\n",
       "<style scoped>\n",
       "    .dataframe tbody tr th:only-of-type {\n",
       "        vertical-align: middle;\n",
       "    }\n",
       "\n",
       "    .dataframe tbody tr th {\n",
       "        vertical-align: top;\n",
       "    }\n",
       "\n",
       "    .dataframe thead tr th {\n",
       "        text-align: left;\n",
       "    }\n",
       "</style>\n",
       "<table border=\"1\" class=\"dataframe\">\n",
       "  <thead>\n",
       "    <tr>\n",
       "      <th></th>\n",
       "      <th></th>\n",
       "      <th></th>\n",
       "      <th></th>\n",
       "      <th></th>\n",
       "      <th></th>\n",
       "      <th></th>\n",
       "      <th></th>\n",
       "      <th></th>\n",
       "      <th></th>\n",
       "      <th></th>\n",
       "      <th>...</th>\n",
       "      <th></th>\n",
       "      <th></th>\n",
       "      <th></th>\n",
       "      <th></th>\n",
       "      <th></th>\n",
       "      <th></th>\n",
       "      <th></th>\n",
       "      <th></th>\n",
       "      <th></th>\n",
       "      <th></th>\n",
       "    </tr>\n",
       "  </thead>\n",
       "  <tbody>\n",
       "    <tr>\n",
       "      <th>0</th>\n",
       "      <td>0</td>\n",
       "      <td>0</td>\n",
       "      <td>0</td>\n",
       "      <td>0</td>\n",
       "      <td>0</td>\n",
       "      <td>0</td>\n",
       "      <td>0</td>\n",
       "      <td>0</td>\n",
       "      <td>0</td>\n",
       "      <td>0</td>\n",
       "      <td>...</td>\n",
       "      <td>0</td>\n",
       "      <td>0</td>\n",
       "      <td>0</td>\n",
       "      <td>0</td>\n",
       "      <td>0</td>\n",
       "      <td>0</td>\n",
       "      <td>0</td>\n",
       "      <td>0</td>\n",
       "      <td>0</td>\n",
       "      <td>0</td>\n",
       "    </tr>\n",
       "    <tr>\n",
       "      <th>1</th>\n",
       "      <td>0</td>\n",
       "      <td>0</td>\n",
       "      <td>0</td>\n",
       "      <td>0</td>\n",
       "      <td>0</td>\n",
       "      <td>0</td>\n",
       "      <td>0</td>\n",
       "      <td>0</td>\n",
       "      <td>0</td>\n",
       "      <td>0</td>\n",
       "      <td>...</td>\n",
       "      <td>0</td>\n",
       "      <td>0</td>\n",
       "      <td>0</td>\n",
       "      <td>0</td>\n",
       "      <td>0</td>\n",
       "      <td>0</td>\n",
       "      <td>0</td>\n",
       "      <td>0</td>\n",
       "      <td>0</td>\n",
       "      <td>0</td>\n",
       "    </tr>\n",
       "    <tr>\n",
       "      <th>2</th>\n",
       "      <td>0</td>\n",
       "      <td>0</td>\n",
       "      <td>0</td>\n",
       "      <td>0</td>\n",
       "      <td>0</td>\n",
       "      <td>0</td>\n",
       "      <td>0</td>\n",
       "      <td>0</td>\n",
       "      <td>0</td>\n",
       "      <td>0</td>\n",
       "      <td>...</td>\n",
       "      <td>0</td>\n",
       "      <td>0</td>\n",
       "      <td>0</td>\n",
       "      <td>0</td>\n",
       "      <td>0</td>\n",
       "      <td>0</td>\n",
       "      <td>0</td>\n",
       "      <td>0</td>\n",
       "      <td>0</td>\n",
       "      <td>0</td>\n",
       "    </tr>\n",
       "    <tr>\n",
       "      <th>3</th>\n",
       "      <td>0</td>\n",
       "      <td>0</td>\n",
       "      <td>0</td>\n",
       "      <td>0</td>\n",
       "      <td>0</td>\n",
       "      <td>0</td>\n",
       "      <td>0</td>\n",
       "      <td>0</td>\n",
       "      <td>0</td>\n",
       "      <td>0</td>\n",
       "      <td>...</td>\n",
       "      <td>0</td>\n",
       "      <td>0</td>\n",
       "      <td>0</td>\n",
       "      <td>0</td>\n",
       "      <td>0</td>\n",
       "      <td>0</td>\n",
       "      <td>0</td>\n",
       "      <td>0</td>\n",
       "      <td>0</td>\n",
       "      <td>0</td>\n",
       "    </tr>\n",
       "    <tr>\n",
       "      <th>4</th>\n",
       "      <td>0</td>\n",
       "      <td>0</td>\n",
       "      <td>0</td>\n",
       "      <td>0</td>\n",
       "      <td>0</td>\n",
       "      <td>0</td>\n",
       "      <td>0</td>\n",
       "      <td>0</td>\n",
       "      <td>0</td>\n",
       "      <td>0</td>\n",
       "      <td>...</td>\n",
       "      <td>0</td>\n",
       "      <td>0</td>\n",
       "      <td>0</td>\n",
       "      <td>0</td>\n",
       "      <td>0</td>\n",
       "      <td>0</td>\n",
       "      <td>0</td>\n",
       "      <td>0</td>\n",
       "      <td>0</td>\n",
       "      <td>0</td>\n",
       "    </tr>\n",
       "  </tbody>\n",
       "</table>\n",
       "<p>5 rows × 1000 columns</p>\n",
       "</div>"
      ],
      "text/plain": [
       "                                ...                              \n",
       "0  0  0  0  0  0  0  0  0  0  0 ...  0  0  0  0  0  0  0  0  0  0\n",
       "1  0  0  0  0  0  0  0  0  0  0 ...  0  0  0  0  0  0  0  0  0  0\n",
       "2  0  0  0  0  0  0  0  0  0  0 ...  0  0  0  0  0  0  0  0  0  0\n",
       "3  0  0  0  0  0  0  0  0  0  0 ...  0  0  0  0  0  0  0  0  0  0\n",
       "4  0  0  0  0  0  0  0  0  0  0 ...  0  0  0  0  0  0  0  0  0  0\n",
       "\n",
       "[5 rows x 1000 columns]"
      ]
     },
     "execution_count": 106,
     "metadata": {},
     "output_type": "execute_result"
    }
   ],
   "source": [
    "X_df_airline_negative = pd.DataFrame(X_airline_negative, columns=[['']*1000])\n",
    "X_df_airline_negative.head()"
   ]
  },
  {
   "cell_type": "markdown",
   "metadata": {},
   "source": [
    "Lets add the Tweet Score, Tweet Character Length, Tweet Word Length, and Number of Matches to the new dataframe containing the BOW for the negative tweets only."
   ]
  },
  {
   "cell_type": "code",
   "execution_count": 107,
   "metadata": {},
   "outputs": [],
   "source": [
    "X_df_airline_negative[\"Tweet Score\"] = df_airline_2[\"Tweet Score\"]\n",
    "X_df_airline_negative[\"Tweet Character Length\"] = df_airline_2[\"Tweet Character Length\"]\n",
    "X_df_airline_negative[\"Tweet Word Length\"] = df_airline_2[\"Tweet Word Length\"]\n",
    "X_df_airline_negative[\"Number of Matches with Corpus\"] = df_airline_2[\"Number of Matches\"]"
   ]
  },
  {
   "cell_type": "code",
   "execution_count": 108,
   "metadata": {},
   "outputs": [
    {
     "data": {
      "text/html": [
       "<div>\n",
       "<style scoped>\n",
       "    .dataframe tbody tr th:only-of-type {\n",
       "        vertical-align: middle;\n",
       "    }\n",
       "\n",
       "    .dataframe tbody tr th {\n",
       "        vertical-align: top;\n",
       "    }\n",
       "\n",
       "    .dataframe thead tr th {\n",
       "        text-align: left;\n",
       "    }\n",
       "</style>\n",
       "<table border=\"1\" class=\"dataframe\">\n",
       "  <thead>\n",
       "    <tr>\n",
       "      <th></th>\n",
       "      <th></th>\n",
       "      <th></th>\n",
       "      <th></th>\n",
       "      <th></th>\n",
       "      <th></th>\n",
       "      <th></th>\n",
       "      <th></th>\n",
       "      <th></th>\n",
       "      <th></th>\n",
       "      <th></th>\n",
       "      <th>...</th>\n",
       "      <th></th>\n",
       "      <th></th>\n",
       "      <th></th>\n",
       "      <th></th>\n",
       "      <th></th>\n",
       "      <th></th>\n",
       "      <th>Tweet Score</th>\n",
       "      <th>Tweet Character Length</th>\n",
       "      <th>Tweet Word Length</th>\n",
       "      <th>Number of Matches with Corpus</th>\n",
       "    </tr>\n",
       "  </thead>\n",
       "  <tbody>\n",
       "    <tr>\n",
       "      <th>0</th>\n",
       "      <td>0</td>\n",
       "      <td>0</td>\n",
       "      <td>0</td>\n",
       "      <td>0</td>\n",
       "      <td>0</td>\n",
       "      <td>0</td>\n",
       "      <td>0</td>\n",
       "      <td>0</td>\n",
       "      <td>0</td>\n",
       "      <td>0</td>\n",
       "      <td>...</td>\n",
       "      <td>0</td>\n",
       "      <td>0</td>\n",
       "      <td>0</td>\n",
       "      <td>0</td>\n",
       "      <td>0</td>\n",
       "      <td>0</td>\n",
       "      <td>-5</td>\n",
       "      <td>94</td>\n",
       "      <td>11</td>\n",
       "      <td>2</td>\n",
       "    </tr>\n",
       "    <tr>\n",
       "      <th>1</th>\n",
       "      <td>0</td>\n",
       "      <td>0</td>\n",
       "      <td>0</td>\n",
       "      <td>0</td>\n",
       "      <td>0</td>\n",
       "      <td>0</td>\n",
       "      <td>0</td>\n",
       "      <td>0</td>\n",
       "      <td>0</td>\n",
       "      <td>0</td>\n",
       "      <td>...</td>\n",
       "      <td>0</td>\n",
       "      <td>0</td>\n",
       "      <td>0</td>\n",
       "      <td>0</td>\n",
       "      <td>0</td>\n",
       "      <td>0</td>\n",
       "      <td>-2</td>\n",
       "      <td>34</td>\n",
       "      <td>5</td>\n",
       "      <td>2</td>\n",
       "    </tr>\n",
       "    <tr>\n",
       "      <th>2</th>\n",
       "      <td>0</td>\n",
       "      <td>0</td>\n",
       "      <td>0</td>\n",
       "      <td>0</td>\n",
       "      <td>0</td>\n",
       "      <td>0</td>\n",
       "      <td>0</td>\n",
       "      <td>0</td>\n",
       "      <td>0</td>\n",
       "      <td>0</td>\n",
       "      <td>...</td>\n",
       "      <td>0</td>\n",
       "      <td>0</td>\n",
       "      <td>0</td>\n",
       "      <td>0</td>\n",
       "      <td>0</td>\n",
       "      <td>0</td>\n",
       "      <td>-4</td>\n",
       "      <td>81</td>\n",
       "      <td>12</td>\n",
       "      <td>2</td>\n",
       "    </tr>\n",
       "    <tr>\n",
       "      <th>3</th>\n",
       "      <td>0</td>\n",
       "      <td>0</td>\n",
       "      <td>0</td>\n",
       "      <td>0</td>\n",
       "      <td>0</td>\n",
       "      <td>0</td>\n",
       "      <td>0</td>\n",
       "      <td>0</td>\n",
       "      <td>0</td>\n",
       "      <td>0</td>\n",
       "      <td>...</td>\n",
       "      <td>0</td>\n",
       "      <td>0</td>\n",
       "      <td>0</td>\n",
       "      <td>0</td>\n",
       "      <td>0</td>\n",
       "      <td>0</td>\n",
       "      <td>0</td>\n",
       "      <td>40</td>\n",
       "      <td>6</td>\n",
       "      <td>0</td>\n",
       "    </tr>\n",
       "    <tr>\n",
       "      <th>4</th>\n",
       "      <td>0</td>\n",
       "      <td>0</td>\n",
       "      <td>0</td>\n",
       "      <td>0</td>\n",
       "      <td>0</td>\n",
       "      <td>0</td>\n",
       "      <td>0</td>\n",
       "      <td>0</td>\n",
       "      <td>0</td>\n",
       "      <td>0</td>\n",
       "      <td>...</td>\n",
       "      <td>0</td>\n",
       "      <td>0</td>\n",
       "      <td>0</td>\n",
       "      <td>0</td>\n",
       "      <td>0</td>\n",
       "      <td>0</td>\n",
       "      <td>2</td>\n",
       "      <td>92</td>\n",
       "      <td>16</td>\n",
       "      <td>1</td>\n",
       "    </tr>\n",
       "  </tbody>\n",
       "</table>\n",
       "<p>5 rows × 1004 columns</p>\n",
       "</div>"
      ],
      "text/plain": [
       "                                             ...                              \\\n",
       "0  0  0  0  0  0  0  0  0  0  0              ...               0  0  0  0  0   \n",
       "1  0  0  0  0  0  0  0  0  0  0              ...               0  0  0  0  0   \n",
       "2  0  0  0  0  0  0  0  0  0  0              ...               0  0  0  0  0   \n",
       "3  0  0  0  0  0  0  0  0  0  0              ...               0  0  0  0  0   \n",
       "4  0  0  0  0  0  0  0  0  0  0              ...               0  0  0  0  0   \n",
       "\n",
       "     Tweet Score Tweet Character Length Tweet Word Length  \\\n",
       "0  0          -5                     94                11   \n",
       "1  0          -2                     34                 5   \n",
       "2  0          -4                     81                12   \n",
       "3  0           0                     40                 6   \n",
       "4  0           2                     92                16   \n",
       "\n",
       "  Number of Matches with Corpus  \n",
       "0                             2  \n",
       "1                             2  \n",
       "2                             2  \n",
       "3                             0  \n",
       "4                             1  \n",
       "\n",
       "[5 rows x 1004 columns]"
      ]
     },
     "execution_count": 108,
     "metadata": {},
     "output_type": "execute_result"
    }
   ],
   "source": [
    "X_df_airline_negative.head()"
   ]
  },
  {
   "cell_type": "markdown",
   "metadata": {},
   "source": [
    "Now lets split the data into test and train batches of 70% train and 30% test"
   ]
  },
  {
   "cell_type": "code",
   "execution_count": 109,
   "metadata": {},
   "outputs": [],
   "source": [
    "X_train_2, X_test_2, y_train_2, y_test_2 = train_test_split(X_df_airline_negative, y_airline_negative, test_size = 0.3)"
   ]
  },
  {
   "cell_type": "markdown",
   "metadata": {},
   "source": [
    "And finally lets create a new logistic regression model this time for multinomial regression (to predict the negative reason of which there 10 options)."
   ]
  },
  {
   "cell_type": "code",
   "execution_count": 110,
   "metadata": {},
   "outputs": [],
   "source": [
    "model_2 = LogisticRegression(random_state=0, solver='lbfgs', multi_class='multinomial')"
   ]
  },
  {
   "cell_type": "code",
   "execution_count": 111,
   "metadata": {},
   "outputs": [
    {
     "name": "stderr",
     "output_type": "stream",
     "text": [
      "C:\\Users\\btarras\\AppData\\Local\\Continuum\\anaconda3\\lib\\site-packages\\sklearn\\linear_model\\logistic.py:758: ConvergenceWarning: lbfgs failed to converge. Increase the number of iterations.\n",
      "  \"of iterations.\", ConvergenceWarning)\n"
     ]
    },
    {
     "data": {
      "text/plain": [
       "LogisticRegression(C=1.0, class_weight=None, dual=False, fit_intercept=True,\n",
       "          intercept_scaling=1, max_iter=100, multi_class='multinomial',\n",
       "          n_jobs=None, penalty='l2', random_state=0, solver='lbfgs',\n",
       "          tol=0.0001, verbose=0, warm_start=False)"
      ]
     },
     "execution_count": 111,
     "metadata": {},
     "output_type": "execute_result"
    }
   ],
   "source": [
    "model_2.fit(X_train_2,y_train_2)"
   ]
  },
  {
   "cell_type": "code",
   "execution_count": 112,
   "metadata": {},
   "outputs": [
    {
     "name": "stdout",
     "output_type": "stream",
     "text": [
      "['Customer Service Issue' 'Customer Service Issue' 'Cancelled Flight' ...\n",
      " 'Late Flight' 'Late Flight' 'Customer Service Issue']\n"
     ]
    }
   ],
   "source": [
    "predictions_3 = model_2.predict(X_test_2)\n",
    "print (predictions_3)"
   ]
  },
  {
   "cell_type": "code",
   "execution_count": 113,
   "metadata": {},
   "outputs": [
    {
     "name": "stdout",
     "output_type": "stream",
     "text": [
      "55.41031227305737\n"
     ]
    }
   ],
   "source": [
    "score_3 = accuracy_score(y_test_2,predictions_3)\n",
    "\n",
    "print (score_3*100)"
   ]
  },
  {
   "cell_type": "markdown",
   "metadata": {},
   "source": [
    "As can be seen above the result is quite low at around 55%. The results section below will examine this more in depth and provide possible reasons for the poor performance."
   ]
  },
  {
   "cell_type": "markdown",
   "metadata": {},
   "source": [
    "### 5.0 Results\n",
    "\n",
    "#####  5.1 Research Question Discussion\n",
    "\n",
    "From the results of the first model above it is clear that based on the predictions made by the model trained on the generic tweet dataset, the overarching opinion of US airlines is negative for the year 2015. While the model had relatively poor accuracy of around 63% it predicted more often than naught that a tweet would be negative. To be exact the model predicted that in the US Airline Tweet data set, 6,568 of the tweets were negative and 4,973 were positive. Or in other words the model predicted that 57% of the tweets were negative.\n",
    "\n",
    "##### 5.2 First Model Analysis\n",
    "\n",
    "While the accuracy of the model is low, its worth mentioning (as discussed earlier in the notebook) that there is a strong negative bias present in the airline dataset. For example the total number of tweets in the dataset is 11,541 of which 9,178 are negative while 2,363 are positive. In other words the dataset contained 79.5% negative tweets and 20.5% postive tweets. Contrasting this with the generic tweet dataset for which the model was trained on, there was an even split 50% negative tweets and 50% postive tweets or 100,000 negative tweets and 100,000 postive tweets (please refer to the exploratory analysis section for graphical view of both of these postive vs negative tweet breakdowns). Thus since the model was trained on a more netural dataset in terms of sentiment it can only be expected that the output of the model would tend toward more neutral as well. And judging by the fact that it is predicting 57% negative and 43% positive when applied to the US Airlines dataset this seems to hold true. If the US airline tweet dataset were composed of a more even split of postive to negative tweets I would expect this accuracy to be higher. In otherword I believe that training the model on the generic dataset results in the a model which doesn't reflect the dataset of the US Airline well at all. As mentioned above what would be interesting would be to train a model on the sentiment of the US Airline Tweets with the target being the sentiment of these tweets and see its accuracy and how many postive to negative tweets it is predicting. I suspect that due to this large negative sample bias in the dataset, the model would pick this up and as a result most of its predictions would be negative as well. In fact I examine just this in the Bonus section below.\n",
    "\n",
    "With regards to public opinion of each airline, referring to the previously calculated dataframe, airline_counter_df (see cell below for the dataframe), all airlines had more negative opinions than postive opinions based on the twitter dataset. Note that this dataframe was calculated by evaluating whether or not the sentiment of the tweet was postive or negative for each airline. Please refer to function \"airline_counter\" earlier in this notebook for how the values were calaculated. Thus it can be said that the public opinion of each airline is quite low. To see which airline has the greatest percentage of negative tweets please refer to the cell below where I add a coloumn of \"% of Negative Tweets\". "
   ]
  },
  {
   "cell_type": "code",
   "execution_count": 114,
   "metadata": {},
   "outputs": [
    {
     "data": {
      "text/html": [
       "<div>\n",
       "<style scoped>\n",
       "    .dataframe tbody tr th:only-of-type {\n",
       "        vertical-align: middle;\n",
       "    }\n",
       "\n",
       "    .dataframe tbody tr th {\n",
       "        vertical-align: top;\n",
       "    }\n",
       "\n",
       "    .dataframe thead th {\n",
       "        text-align: right;\n",
       "    }\n",
       "</style>\n",
       "<table border=\"1\" class=\"dataframe\">\n",
       "  <thead>\n",
       "    <tr style=\"text-align: right;\">\n",
       "      <th></th>\n",
       "      <th>Number of Occurances</th>\n",
       "      <th>Airline</th>\n",
       "      <th># of Negative</th>\n",
       "      <th># of Positive</th>\n",
       "      <th>% of Negative Tweets</th>\n",
       "    </tr>\n",
       "  </thead>\n",
       "  <tbody>\n",
       "    <tr>\n",
       "      <th>0</th>\n",
       "      <td>2457</td>\n",
       "      <td>American Air</td>\n",
       "      <td>2103</td>\n",
       "      <td>354</td>\n",
       "      <td>85.592186</td>\n",
       "    </tr>\n",
       "    <tr>\n",
       "      <th>1</th>\n",
       "      <td>2414</td>\n",
       "      <td>US Airways</td>\n",
       "      <td>2152</td>\n",
       "      <td>262</td>\n",
       "      <td>89.146645</td>\n",
       "    </tr>\n",
       "    <tr>\n",
       "      <th>2</th>\n",
       "      <td>1498</td>\n",
       "      <td>Jet Blue</td>\n",
       "      <td>957</td>\n",
       "      <td>541</td>\n",
       "      <td>63.885180</td>\n",
       "    </tr>\n",
       "    <tr>\n",
       "      <th>3</th>\n",
       "      <td>1745</td>\n",
       "      <td>South West Air</td>\n",
       "      <td>1174</td>\n",
       "      <td>571</td>\n",
       "      <td>67.277937</td>\n",
       "    </tr>\n",
       "    <tr>\n",
       "      <th>4</th>\n",
       "      <td>3095</td>\n",
       "      <td>United</td>\n",
       "      <td>2611</td>\n",
       "      <td>484</td>\n",
       "      <td>84.361874</td>\n",
       "    </tr>\n",
       "    <tr>\n",
       "      <th>5</th>\n",
       "      <td>328</td>\n",
       "      <td>Virgin America</td>\n",
       "      <td>178</td>\n",
       "      <td>150</td>\n",
       "      <td>54.268293</td>\n",
       "    </tr>\n",
       "    <tr>\n",
       "      <th>6</th>\n",
       "      <td>2</td>\n",
       "      <td>Delta Assist</td>\n",
       "      <td>2</td>\n",
       "      <td>0</td>\n",
       "      <td>100.000000</td>\n",
       "    </tr>\n",
       "    <tr>\n",
       "      <th>7</th>\n",
       "      <td>1</td>\n",
       "      <td>No Airline</td>\n",
       "      <td>0</td>\n",
       "      <td>1</td>\n",
       "      <td>0.000000</td>\n",
       "    </tr>\n",
       "  </tbody>\n",
       "</table>\n",
       "</div>"
      ],
      "text/plain": [
       "   Number of Occurances         Airline  # of Negative  # of Positive  \\\n",
       "0                  2457    American Air           2103            354   \n",
       "1                  2414      US Airways           2152            262   \n",
       "2                  1498        Jet Blue            957            541   \n",
       "3                  1745  South West Air           1174            571   \n",
       "4                  3095          United           2611            484   \n",
       "5                   328  Virgin America            178            150   \n",
       "6                     2    Delta Assist              2              0   \n",
       "7                     1      No Airline              0              1   \n",
       "\n",
       "   % of Negative Tweets  \n",
       "0             85.592186  \n",
       "1             89.146645  \n",
       "2             63.885180  \n",
       "3             67.277937  \n",
       "4             84.361874  \n",
       "5             54.268293  \n",
       "6            100.000000  \n",
       "7              0.000000  "
      ]
     },
     "execution_count": 114,
     "metadata": {},
     "output_type": "execute_result"
    }
   ],
   "source": [
    "negative_percentage = [0]*8\n",
    "\n",
    "for i in range (0,8):\n",
    "    negative_percentage[i] = airline_counter_df[\"# of Negative\"][i]/(airline_counter_df[\"# of Negative\"][i]+airline_counter_df[\"# of Positive\"][i])*100\n",
    "\n",
    "airline_counter_df['% of Negative Tweets'] = negative_percentage\n",
    "\n",
    "airline_counter_df"
   ]
  },
  {
   "cell_type": "code",
   "execution_count": 115,
   "metadata": {},
   "outputs": [
    {
     "data": {
      "text/plain": [
       "Text(0.5, 1.0, 'Percentage of Negative Airline Tweets')"
      ]
     },
     "execution_count": 115,
     "metadata": {},
     "output_type": "execute_result"
    },
    {
     "data": {
      "image/png": "[encoded data removed]",
      "text/plain": [
       "<Figure size 864x648 with 1 Axes>"
      ]
     },
     "metadata": {
      "needs_background": "light"
     },
     "output_type": "display_data"
    }
   ],
   "source": [
    "sns.barplot(x='Airline',y='% of Negative Tweets',data=airline_counter_df).set_title('Percentage of Negative Airline Tweets')"
   ]
  },
  {
   "cell_type": "markdown",
   "metadata": {},
   "source": [
    "As can be seen above the airline with the largest percentage of negative tweets is Delta Assist, but since there are only 2 tweets mentioning them, it isn't really all that relevant. The airline with a larger than 1,000 tweet count with the greatest negative percentage of tweets is US Airways.\n",
    "\n",
    "##### 5.3 Second Model Analysis\n",
    "\n",
    "The second model was not able to predict the correct negative reason very well at all. In fact its accuracy was only around 55% (at the time of running). One possible reason for this poor performance could be due to Class Imbalances. In the cell below I calculate the number of times each negative reason was in the negative airlines dataset. As can be seen there is significantly more negative counts associated with \"Customer Service Issues\" (2,910 entries) than many other reasons such as \"Damaged Luggage\" which only has 74 entries. This large difference in the number of negative reasons is causing class imbalances making it harder for the model to predict the classes associated with these less represented data entries.\n"
   ]
  },
  {
   "cell_type": "code",
   "execution_count": 116,
   "metadata": {},
   "outputs": [],
   "source": [
    "negative_reason = [0]*10\n",
    "for i in range (0, len(df_airline_2)):\n",
    "    if df_airline_2[\"negative_reason\"][i] == (\"Bad Flight\"):\n",
    "        negative_reason[0] = negative_reason[0] + 1\n",
    "    elif df_airline_2[\"negative_reason\"][i] == (\"Cancelled Flight\"):\n",
    "        negative_reason[1] = negative_reason[1] + 1\n",
    "    elif df_airline_2[\"negative_reason\"][i] == (\"Can't Tell\"):\n",
    "        negative_reason[2] = negative_reason[2] + 1\n",
    "    elif df_airline_2[\"negative_reason\"][i] == (\"Customer Service Issue\"):\n",
    "        negative_reason[3] = negative_reason[3] + 1\n",
    "    elif df_airline_2[\"negative_reason\"][i] == (\"Damaged Luggage\"):\n",
    "        negative_reason[4] = negative_reason[4] + 1\n",
    "    elif df_airline_2[\"negative_reason\"][i] == (\"Flight Attendant Complaints\"):\n",
    "        negative_reason[5] = negative_reason[5] + 1\n",
    "    elif df_airline_2[\"negative_reason\"][i] == (\"Flight Booking Problems\"):\n",
    "        negative_reason[6] = negative_reason[6] + 1\n",
    "    elif df_airline_2[\"negative_reason\"][i] == (\"Late Flight\"):\n",
    "        negative_reason[7] = negative_reason[7] + 1\n",
    "    elif df_airline_2[\"negative_reason\"][i] == (\"longlines\"):\n",
    "        negative_reason[8] = negative_reason[8] + 1\n",
    "    elif df_airline_2[\"negative_reason\"][i] == (\"Lost Luggage\"):\n",
    "        negative_reason[9] = negative_reason[9] + 1"
   ]
  },
  {
   "cell_type": "code",
   "execution_count": 117,
   "metadata": {},
   "outputs": [
    {
     "data": {
      "text/html": [
       "<div>\n",
       "<style scoped>\n",
       "    .dataframe tbody tr th:only-of-type {\n",
       "        vertical-align: middle;\n",
       "    }\n",
       "\n",
       "    .dataframe tbody tr th {\n",
       "        vertical-align: top;\n",
       "    }\n",
       "\n",
       "    .dataframe thead th {\n",
       "        text-align: right;\n",
       "    }\n",
       "</style>\n",
       "<table border=\"1\" class=\"dataframe\">\n",
       "  <thead>\n",
       "    <tr style=\"text-align: right;\">\n",
       "      <th></th>\n",
       "      <th>Negative Reason Counter</th>\n",
       "      <th>Negative Reason</th>\n",
       "    </tr>\n",
       "  </thead>\n",
       "  <tbody>\n",
       "    <tr>\n",
       "      <th>0</th>\n",
       "      <td>580</td>\n",
       "      <td>Bad Flight</td>\n",
       "    </tr>\n",
       "    <tr>\n",
       "      <th>1</th>\n",
       "      <td>847</td>\n",
       "      <td>Cancelled</td>\n",
       "    </tr>\n",
       "    <tr>\n",
       "      <th>2</th>\n",
       "      <td>1190</td>\n",
       "      <td>Can't Tell</td>\n",
       "    </tr>\n",
       "    <tr>\n",
       "      <th>3</th>\n",
       "      <td>2910</td>\n",
       "      <td>Customer Service Issue</td>\n",
       "    </tr>\n",
       "    <tr>\n",
       "      <th>4</th>\n",
       "      <td>74</td>\n",
       "      <td>Damaged Luggage</td>\n",
       "    </tr>\n",
       "    <tr>\n",
       "      <th>5</th>\n",
       "      <td>481</td>\n",
       "      <td>Flight Attendant Complaints</td>\n",
       "    </tr>\n",
       "    <tr>\n",
       "      <th>6</th>\n",
       "      <td>529</td>\n",
       "      <td>Flight Booking Problems</td>\n",
       "    </tr>\n",
       "    <tr>\n",
       "      <th>7</th>\n",
       "      <td>1665</td>\n",
       "      <td>Late Flight</td>\n",
       "    </tr>\n",
       "    <tr>\n",
       "      <th>8</th>\n",
       "      <td>178</td>\n",
       "      <td>longlines</td>\n",
       "    </tr>\n",
       "    <tr>\n",
       "      <th>9</th>\n",
       "      <td>724</td>\n",
       "      <td>Lost Luggage</td>\n",
       "    </tr>\n",
       "  </tbody>\n",
       "</table>\n",
       "</div>"
      ],
      "text/plain": [
       "   Negative Reason Counter              Negative Reason\n",
       "0                      580                   Bad Flight\n",
       "1                      847                    Cancelled\n",
       "2                     1190                   Can't Tell\n",
       "3                     2910       Customer Service Issue\n",
       "4                       74              Damaged Luggage\n",
       "5                      481  Flight Attendant Complaints\n",
       "6                      529      Flight Booking Problems\n",
       "7                     1665                  Late Flight\n",
       "8                      178                    longlines\n",
       "9                      724                 Lost Luggage"
      ]
     },
     "execution_count": 117,
     "metadata": {},
     "output_type": "execute_result"
    }
   ],
   "source": [
    "negative_reason_df = pd.DataFrame(negative_reason, columns=['Negative Reason Counter'])\n",
    "negative_reason_df[\"Negative Reason\"] = (\"Bad Flight\",\"Cancelled\", \"Can't Tell\", \"Customer Service Issue\", \"Damaged Luggage\", \"Flight Attendant Complaints\", \"Flight Booking Problems\", \"Late Flight\", \"longlines\", \"Lost Luggage\")\n",
    "negative_reason_df"
   ]
  },
  {
   "cell_type": "code",
   "execution_count": 118,
   "metadata": {},
   "outputs": [
    {
     "data": {
      "text/plain": [
       "Text(0.5, 1.0, 'Negative Reason Count')"
      ]
     },
     "execution_count": 118,
     "metadata": {},
     "output_type": "execute_result"
    },
    {
     "data": {
      "image/png": "[encoded data removed]",
      "text/plain": [
       "<Figure size 864x648 with 1 Axes>"
      ]
     },
     "metadata": {
      "needs_background": "light"
     },
     "output_type": "display_data"
    }
   ],
   "source": [
    "sns.barplot(x='Negative Reason',y='Negative Reason Counter',data=negative_reason_df).set_title('Negative Reason Count')"
   ]
  },
  {
   "cell_type": "markdown",
   "metadata": {},
   "source": [
    "##### 5.4 How to Increase Model Accuracy\n",
    "\n",
    "To increase model accuracy for the first model, hyperparamter tuning could be conducted. Since this is a binary classification problem using logistic regression the hyperparameter of interest for tuning is \"C\" or the Inverse of Regularization Strength. In the logistic regression model, C = 1/lambda. Lambda (λ) controls the trade-off between allowing the model to increase it's complexity vs maintaining it simple. If λ is low, the model will increase it's complexity (overfit) by assigning larger values to the weights for each parameter. If, we increase the value of λ, the model will underfit. Since C is the inverse of lambda it operates in the opposite manner. Increasing regularization strength will result in underfitting and decreasing regularization strenght will result in overfitting. One way to test this out would be to test out varying values of C through a loop and determining the impact on model accuracy. Plotting these accuracies in a validation curve can give an good understanding of which C value best impacts the model. Additionally, normailization of the input features could occur. Since in my model I have included Tweet Score, Tweet Character Length, Tweet Word Length, and Number of Matches with Corpus as features and since these values are typically much larger than the frequencies of the most common words computed using Bag of Words, there may be class imbalances in the input features. Normalizing these features may have a postive impact on the accuracy of the model. \n",
    "\n",
    "To increase model accuracy for the second model, the first suggestion that comes to mind is either adding to this dataset such that there are adequately similar representations for the number of times each negative reason is present. Doing so would remove the class imbalances and prevent the model from predicting one class signifciantly more than another. Additionally if additional data is not available the class weight option in sklearn for the logistic regression model can be altered to help prevent some of this class imbalance as well."
   ]
  },
  {
   "cell_type": "markdown",
   "metadata": {},
   "source": [
    "### Bonus\n",
    "In addition to the above exploratory analysis in part 2, I thought it would be interesting to see some more graphics. A personal favourite of mine is the Word Cloud. Further since we seperated the negative tweets above from the postive tweets, I thought comparing the respective word clouds for the whole airline dataset to just the negative tweets would be interesting. This is done below."
   ]
  },
  {
   "cell_type": "code",
   "execution_count": 119,
   "metadata": {},
   "outputs": [],
   "source": [
    "#pip install wordcloud\n",
    "from wordcloud import WordCloud"
   ]
  },
  {
   "cell_type": "markdown",
   "metadata": {},
   "source": [
    "Lets start with the original dataframe that includes both the positve and negative tweets. I will be using the cleaned text from part 1."
   ]
  },
  {
   "cell_type": "code",
   "execution_count": 120,
   "metadata": {},
   "outputs": [
    {
     "data": {
      "image/png": "[encoded data removed]",
      "text/plain": [
       "<Figure size 864x720 with 1 Axes>"
      ]
     },
     "metadata": {
      "needs_background": "light"
     },
     "output_type": "display_data"
    }
   ],
   "source": [
    "text = df_airline[\"Clean Text\"]\n",
    "\n",
    "wordcloud = WordCloud(max_font_size=50, max_words=50, background_color=\"white\").generate(str(text))\n",
    "plt.figure(figsize=(12,10))\n",
    "plt.imshow(wordcloud, interpolation=\"bilinear\")\n",
    "plt.axis(\"off\")\n",
    "plt.show()"
   ]
  },
  {
   "cell_type": "markdown",
   "metadata": {},
   "source": [
    "Here as expected you can see two airlines along with a mix of some pretty general terms such as big, us, back, thing. There are also some words in larger sized text that have a strong sentiment attached to them as per the provided corpus, inlcuding cancelled, love, aggressive, thank, amazing, and bad.\n",
    "\n",
    "Next lets look at just the negative tweet wordcloud."
   ]
  },
  {
   "cell_type": "code",
   "execution_count": 121,
   "metadata": {},
   "outputs": [
    {
     "data": {
      "image/png": "[encoded data removed]",
      "text/plain": [
       "<Figure size 864x720 with 1 Axes>"
      ]
     },
     "metadata": {
      "needs_background": "light"
     },
     "output_type": "display_data"
    }
   ],
   "source": [
    "text = df_airline_2[\"Clean Text\"]\n",
    "\n",
    "wordcloud = WordCloud(max_font_size=50, max_words=50, background_color=\"black\").generate(str(text))\n",
    "plt.figure(figsize=(12,10))\n",
    "plt.imshow(wordcloud, interpolation=\"bilinear\")\n",
    "plt.axis(\"off\")\n",
    "plt.show()"
   ]
  },
  {
   "cell_type": "markdown",
   "metadata": {},
   "source": [
    "Here we see some airlines mentioned again but also several strong negative terms as per the provided corpus inlcuding obnoxious, bad, aggressive, lax, help, seriously, and delay. There is also a mixture of common terms such as thing, really, and site."
   ]
  },
  {
   "cell_type": "markdown",
   "metadata": {},
   "source": [
    "I also thought it would be interesting to see a boxplot of the length for both the generic tweet dataset and airline tweet dataset for the cleaned dataset. This is done below:"
   ]
  },
  {
   "cell_type": "code",
   "execution_count": 122,
   "metadata": {},
   "outputs": [
    {
     "data": {
      "image/png": "[encoded data removed]",
      "text/plain": [
       "<Figure size 360x360 with 1 Axes>"
      ]
     },
     "metadata": {
      "needs_background": "light"
     },
     "output_type": "display_data"
    }
   ],
   "source": [
    "fig, ax = plt.subplots(figsize=(5, 5))\n",
    "plt.boxplot(df_generic[\"Tweet Character Length\"])\n",
    "ax.set_xlabel('Clean Text')\n",
    "ax.set_ylabel('Character Length')\n",
    "ax.set_title('Clean Text Generic Tweet Character Length')\n",
    "plt.show()"
   ]
  },
  {
   "cell_type": "markdown",
   "metadata": {},
   "source": [
    "As can be seen in the Clean Text Generic Tweet Character Length boxplot, the median character length is around 40 with a maximum close to 120, and a minimum at 1. It is interesting to note that there appears to be several statistical outliers shown by the empty circles that exceed the maximum bar line. The largest outlier shown had a tweet character length of 145. Depending on when this dataset was collected this could show an error in the dataset as prior to 2017 the maximum twitter character length was 140, after it was increased to 280 characters. Considering that I am plotting the character length for the cleaned data set, it stands to reason that the unfiltered data would only be larger in legnth."
   ]
  },
  {
   "cell_type": "code",
   "execution_count": 123,
   "metadata": {},
   "outputs": [
    {
     "data": {
      "image/png": "[encoded data removed]",
      "text/plain": [
       "<Figure size 360x360 with 1 Axes>"
      ]
     },
     "metadata": {
      "needs_background": "light"
     },
     "output_type": "display_data"
    }
   ],
   "source": [
    "fig, ax = plt.subplots(figsize=(5, 5))\n",
    "plt.boxplot(df_airline[\"Tweet Character Length\"])\n",
    "ax.set_xlabel('Clean Text')\n",
    "ax.set_ylabel('Character Length')\n",
    "ax.set_title('Clean Text Airline Tweet Character Length')\n",
    "plt.show()"
   ]
  },
  {
   "cell_type": "markdown",
   "metadata": {},
   "source": [
    "Similarily to what was done for the Cleant Text Generic Tweet Character Length, I have plotted the boxplot for the Clean Text Airline Tweet Character Length. As can be seen in this boxplot, the median character length is around 75 with a maximum of 140, and a minimum at 6."
   ]
  },
  {
   "cell_type": "markdown",
   "metadata": {},
   "source": [
    "As one more item I would like to train a logistic regression model on the airline dataset and evaluate its accuracy. To do this I will set the target variable as the sentiment in the df_airline dataframe. This is done below"
   ]
  },
  {
   "cell_type": "code",
   "execution_count": 124,
   "metadata": {},
   "outputs": [],
   "source": [
    "matrix_4 = CountVectorizer(max_features = 1000)\n",
    "X_airline = (matrix_2.fit_transform(df_airline[\"Clean Text\"]).toarray())\n",
    "y_airline = df_airline[\"sentiment\"]"
   ]
  },
  {
   "cell_type": "code",
   "execution_count": 125,
   "metadata": {},
   "outputs": [
    {
     "data": {
      "text/html": [
       "<div>\n",
       "<style scoped>\n",
       "    .dataframe tbody tr th:only-of-type {\n",
       "        vertical-align: middle;\n",
       "    }\n",
       "\n",
       "    .dataframe tbody tr th {\n",
       "        vertical-align: top;\n",
       "    }\n",
       "\n",
       "    .dataframe thead tr th {\n",
       "        text-align: left;\n",
       "    }\n",
       "</style>\n",
       "<table border=\"1\" class=\"dataframe\">\n",
       "  <thead>\n",
       "    <tr>\n",
       "      <th></th>\n",
       "      <th></th>\n",
       "      <th></th>\n",
       "      <th></th>\n",
       "      <th></th>\n",
       "      <th></th>\n",
       "      <th></th>\n",
       "      <th></th>\n",
       "      <th></th>\n",
       "      <th></th>\n",
       "      <th></th>\n",
       "      <th>...</th>\n",
       "      <th></th>\n",
       "      <th></th>\n",
       "      <th></th>\n",
       "      <th></th>\n",
       "      <th></th>\n",
       "      <th></th>\n",
       "      <th></th>\n",
       "      <th></th>\n",
       "      <th></th>\n",
       "      <th></th>\n",
       "    </tr>\n",
       "  </thead>\n",
       "  <tbody>\n",
       "    <tr>\n",
       "      <th>0</th>\n",
       "      <td>0</td>\n",
       "      <td>0</td>\n",
       "      <td>0</td>\n",
       "      <td>0</td>\n",
       "      <td>0</td>\n",
       "      <td>0</td>\n",
       "      <td>0</td>\n",
       "      <td>0</td>\n",
       "      <td>0</td>\n",
       "      <td>0</td>\n",
       "      <td>...</td>\n",
       "      <td>0</td>\n",
       "      <td>0</td>\n",
       "      <td>0</td>\n",
       "      <td>0</td>\n",
       "      <td>0</td>\n",
       "      <td>0</td>\n",
       "      <td>0</td>\n",
       "      <td>0</td>\n",
       "      <td>0</td>\n",
       "      <td>0</td>\n",
       "    </tr>\n",
       "    <tr>\n",
       "      <th>1</th>\n",
       "      <td>0</td>\n",
       "      <td>0</td>\n",
       "      <td>0</td>\n",
       "      <td>0</td>\n",
       "      <td>0</td>\n",
       "      <td>0</td>\n",
       "      <td>0</td>\n",
       "      <td>0</td>\n",
       "      <td>0</td>\n",
       "      <td>0</td>\n",
       "      <td>...</td>\n",
       "      <td>0</td>\n",
       "      <td>0</td>\n",
       "      <td>0</td>\n",
       "      <td>0</td>\n",
       "      <td>0</td>\n",
       "      <td>0</td>\n",
       "      <td>0</td>\n",
       "      <td>0</td>\n",
       "      <td>0</td>\n",
       "      <td>0</td>\n",
       "    </tr>\n",
       "    <tr>\n",
       "      <th>2</th>\n",
       "      <td>0</td>\n",
       "      <td>0</td>\n",
       "      <td>0</td>\n",
       "      <td>0</td>\n",
       "      <td>0</td>\n",
       "      <td>0</td>\n",
       "      <td>0</td>\n",
       "      <td>0</td>\n",
       "      <td>0</td>\n",
       "      <td>0</td>\n",
       "      <td>...</td>\n",
       "      <td>0</td>\n",
       "      <td>0</td>\n",
       "      <td>0</td>\n",
       "      <td>0</td>\n",
       "      <td>0</td>\n",
       "      <td>0</td>\n",
       "      <td>0</td>\n",
       "      <td>0</td>\n",
       "      <td>0</td>\n",
       "      <td>0</td>\n",
       "    </tr>\n",
       "    <tr>\n",
       "      <th>3</th>\n",
       "      <td>0</td>\n",
       "      <td>0</td>\n",
       "      <td>0</td>\n",
       "      <td>0</td>\n",
       "      <td>0</td>\n",
       "      <td>0</td>\n",
       "      <td>0</td>\n",
       "      <td>0</td>\n",
       "      <td>0</td>\n",
       "      <td>0</td>\n",
       "      <td>...</td>\n",
       "      <td>0</td>\n",
       "      <td>0</td>\n",
       "      <td>0</td>\n",
       "      <td>0</td>\n",
       "      <td>0</td>\n",
       "      <td>0</td>\n",
       "      <td>0</td>\n",
       "      <td>0</td>\n",
       "      <td>0</td>\n",
       "      <td>0</td>\n",
       "    </tr>\n",
       "    <tr>\n",
       "      <th>4</th>\n",
       "      <td>0</td>\n",
       "      <td>0</td>\n",
       "      <td>0</td>\n",
       "      <td>0</td>\n",
       "      <td>0</td>\n",
       "      <td>0</td>\n",
       "      <td>0</td>\n",
       "      <td>0</td>\n",
       "      <td>0</td>\n",
       "      <td>0</td>\n",
       "      <td>...</td>\n",
       "      <td>0</td>\n",
       "      <td>0</td>\n",
       "      <td>0</td>\n",
       "      <td>0</td>\n",
       "      <td>0</td>\n",
       "      <td>1</td>\n",
       "      <td>0</td>\n",
       "      <td>0</td>\n",
       "      <td>0</td>\n",
       "      <td>0</td>\n",
       "    </tr>\n",
       "  </tbody>\n",
       "</table>\n",
       "<p>5 rows × 1000 columns</p>\n",
       "</div>"
      ],
      "text/plain": [
       "                                ...                              \n",
       "0  0  0  0  0  0  0  0  0  0  0 ...  0  0  0  0  0  0  0  0  0  0\n",
       "1  0  0  0  0  0  0  0  0  0  0 ...  0  0  0  0  0  0  0  0  0  0\n",
       "2  0  0  0  0  0  0  0  0  0  0 ...  0  0  0  0  0  0  0  0  0  0\n",
       "3  0  0  0  0  0  0  0  0  0  0 ...  0  0  0  0  0  0  0  0  0  0\n",
       "4  0  0  0  0  0  0  0  0  0  0 ...  0  0  0  0  0  1  0  0  0  0\n",
       "\n",
       "[5 rows x 1000 columns]"
      ]
     },
     "execution_count": 125,
     "metadata": {},
     "output_type": "execute_result"
    }
   ],
   "source": [
    "X_df_airline = pd.DataFrame(X_airline, columns=[['']*1000])\n",
    "X_df_airline.head()"
   ]
  },
  {
   "cell_type": "code",
   "execution_count": 126,
   "metadata": {},
   "outputs": [
    {
     "data": {
      "text/html": [
       "<div>\n",
       "<style scoped>\n",
       "    .dataframe tbody tr th:only-of-type {\n",
       "        vertical-align: middle;\n",
       "    }\n",
       "\n",
       "    .dataframe tbody tr th {\n",
       "        vertical-align: top;\n",
       "    }\n",
       "\n",
       "    .dataframe thead tr th {\n",
       "        text-align: left;\n",
       "    }\n",
       "</style>\n",
       "<table border=\"1\" class=\"dataframe\">\n",
       "  <thead>\n",
       "    <tr>\n",
       "      <th></th>\n",
       "      <th></th>\n",
       "      <th></th>\n",
       "      <th></th>\n",
       "      <th></th>\n",
       "      <th></th>\n",
       "      <th></th>\n",
       "      <th></th>\n",
       "      <th></th>\n",
       "      <th></th>\n",
       "      <th></th>\n",
       "      <th>...</th>\n",
       "      <th></th>\n",
       "      <th></th>\n",
       "      <th></th>\n",
       "      <th></th>\n",
       "      <th></th>\n",
       "      <th></th>\n",
       "      <th>Tweet Score</th>\n",
       "      <th>Tweet Character Length</th>\n",
       "      <th>Tweet Word Length</th>\n",
       "      <th>Number of Matches with Corpus</th>\n",
       "    </tr>\n",
       "  </thead>\n",
       "  <tbody>\n",
       "    <tr>\n",
       "      <th>0</th>\n",
       "      <td>0</td>\n",
       "      <td>0</td>\n",
       "      <td>0</td>\n",
       "      <td>0</td>\n",
       "      <td>0</td>\n",
       "      <td>0</td>\n",
       "      <td>0</td>\n",
       "      <td>0</td>\n",
       "      <td>0</td>\n",
       "      <td>0</td>\n",
       "      <td>...</td>\n",
       "      <td>0</td>\n",
       "      <td>0</td>\n",
       "      <td>0</td>\n",
       "      <td>0</td>\n",
       "      <td>0</td>\n",
       "      <td>0</td>\n",
       "      <td>0</td>\n",
       "      <td>53</td>\n",
       "      <td>6</td>\n",
       "      <td>0</td>\n",
       "    </tr>\n",
       "    <tr>\n",
       "      <th>1</th>\n",
       "      <td>0</td>\n",
       "      <td>0</td>\n",
       "      <td>0</td>\n",
       "      <td>0</td>\n",
       "      <td>0</td>\n",
       "      <td>0</td>\n",
       "      <td>0</td>\n",
       "      <td>0</td>\n",
       "      <td>0</td>\n",
       "      <td>0</td>\n",
       "      <td>...</td>\n",
       "      <td>0</td>\n",
       "      <td>0</td>\n",
       "      <td>0</td>\n",
       "      <td>0</td>\n",
       "      <td>0</td>\n",
       "      <td>0</td>\n",
       "      <td>-5</td>\n",
       "      <td>94</td>\n",
       "      <td>11</td>\n",
       "      <td>2</td>\n",
       "    </tr>\n",
       "    <tr>\n",
       "      <th>2</th>\n",
       "      <td>0</td>\n",
       "      <td>0</td>\n",
       "      <td>0</td>\n",
       "      <td>0</td>\n",
       "      <td>0</td>\n",
       "      <td>0</td>\n",
       "      <td>0</td>\n",
       "      <td>0</td>\n",
       "      <td>0</td>\n",
       "      <td>0</td>\n",
       "      <td>...</td>\n",
       "      <td>0</td>\n",
       "      <td>0</td>\n",
       "      <td>0</td>\n",
       "      <td>0</td>\n",
       "      <td>0</td>\n",
       "      <td>0</td>\n",
       "      <td>-2</td>\n",
       "      <td>34</td>\n",
       "      <td>5</td>\n",
       "      <td>2</td>\n",
       "    </tr>\n",
       "    <tr>\n",
       "      <th>3</th>\n",
       "      <td>0</td>\n",
       "      <td>0</td>\n",
       "      <td>0</td>\n",
       "      <td>0</td>\n",
       "      <td>0</td>\n",
       "      <td>0</td>\n",
       "      <td>0</td>\n",
       "      <td>0</td>\n",
       "      <td>0</td>\n",
       "      <td>0</td>\n",
       "      <td>...</td>\n",
       "      <td>0</td>\n",
       "      <td>0</td>\n",
       "      <td>0</td>\n",
       "      <td>0</td>\n",
       "      <td>0</td>\n",
       "      <td>0</td>\n",
       "      <td>-4</td>\n",
       "      <td>81</td>\n",
       "      <td>12</td>\n",
       "      <td>2</td>\n",
       "    </tr>\n",
       "    <tr>\n",
       "      <th>4</th>\n",
       "      <td>0</td>\n",
       "      <td>0</td>\n",
       "      <td>0</td>\n",
       "      <td>0</td>\n",
       "      <td>0</td>\n",
       "      <td>0</td>\n",
       "      <td>0</td>\n",
       "      <td>0</td>\n",
       "      <td>0</td>\n",
       "      <td>0</td>\n",
       "      <td>...</td>\n",
       "      <td>0</td>\n",
       "      <td>1</td>\n",
       "      <td>0</td>\n",
       "      <td>0</td>\n",
       "      <td>0</td>\n",
       "      <td>0</td>\n",
       "      <td>1</td>\n",
       "      <td>59</td>\n",
       "      <td>11</td>\n",
       "      <td>1</td>\n",
       "    </tr>\n",
       "  </tbody>\n",
       "</table>\n",
       "<p>5 rows × 1004 columns</p>\n",
       "</div>"
      ],
      "text/plain": [
       "                                             ...                              \\\n",
       "0  0  0  0  0  0  0  0  0  0  0              ...               0  0  0  0  0   \n",
       "1  0  0  0  0  0  0  0  0  0  0              ...               0  0  0  0  0   \n",
       "2  0  0  0  0  0  0  0  0  0  0              ...               0  0  0  0  0   \n",
       "3  0  0  0  0  0  0  0  0  0  0              ...               0  0  0  0  0   \n",
       "4  0  0  0  0  0  0  0  0  0  0              ...               0  1  0  0  0   \n",
       "\n",
       "     Tweet Score Tweet Character Length Tweet Word Length  \\\n",
       "0  0           0                     53                 6   \n",
       "1  0          -5                     94                11   \n",
       "2  0          -2                     34                 5   \n",
       "3  0          -4                     81                12   \n",
       "4  0           1                     59                11   \n",
       "\n",
       "  Number of Matches with Corpus  \n",
       "0                             0  \n",
       "1                             2  \n",
       "2                             2  \n",
       "3                             2  \n",
       "4                             1  \n",
       "\n",
       "[5 rows x 1004 columns]"
      ]
     },
     "execution_count": 126,
     "metadata": {},
     "output_type": "execute_result"
    }
   ],
   "source": [
    "X_df_airline[\"Tweet Score\"] = df_airline[\"Tweet Score\"]\n",
    "X_df_airline[\"Tweet Character Length\"] = df_airline[\"Tweet Character Length\"]\n",
    "X_df_airline[\"Tweet Word Length\"] = df_airline[\"Tweet Word Length\"]\n",
    "X_df_airline[\"Number of Matches with Corpus\"] = df_airline[\"Number of Matches\"]\n",
    "X_df_airline.head()"
   ]
  },
  {
   "cell_type": "code",
   "execution_count": 127,
   "metadata": {},
   "outputs": [
    {
     "name": "stderr",
     "output_type": "stream",
     "text": [
      "C:\\Users\\btarras\\AppData\\Local\\Continuum\\anaconda3\\lib\\site-packages\\sklearn\\linear_model\\logistic.py:433: FutureWarning: Default solver will be changed to 'lbfgs' in 0.22. Specify a solver to silence this warning.\n",
      "  FutureWarning)\n"
     ]
    },
    {
     "name": "stdout",
     "output_type": "stream",
     "text": [
      "91.82789488882473\n"
     ]
    }
   ],
   "source": [
    "X_train, X_test, y_train, y_test = train_test_split(X_df_airline, y_airline, test_size = 0.3)\n",
    "\n",
    "model = LogisticRegression()\n",
    "model.fit(X_train,y_train)\n",
    "predictions_airline_sentiment = model.predict(X_test)\n",
    "score = accuracy_score(y_test,predictions_airline_sentiment)\n",
    "\n",
    "print (score*100)"
   ]
  },
  {
   "cell_type": "markdown",
   "metadata": {},
   "source": [
    "As can be seen above the model accuracy is quite high at around 92%. But it would be good to look at how many postives and negatives the model is actually predicitng, as this has an impact on answering the research quesiton of \"What can public opinion on Twitter tell us about the US airlines in 2015\". This is done below:"
   ]
  },
  {
   "cell_type": "code",
   "execution_count": 128,
   "metadata": {},
   "outputs": [
    {
     "name": "stdout",
     "output_type": "stream",
     "text": [
      "[3463, 0]\n",
      "3463\n"
     ]
    }
   ],
   "source": [
    "airline_sentiment_counter = [0]*2\n",
    "\n",
    "for i in range (0,len(predictions_airline_sentiment)):\n",
    "    if predictions_airline_sentiment[i] == (\"positve\"):\n",
    "        airline_sentiment_counter[1] = airline_sentiment_counter[1] + 1\n",
    "    else:\n",
    "        airline_sentiment_counter[0] = airline_sentiment_counter[0] + 1\n",
    "print (airline_sentiment_counter)\n",
    "print (len(y_test))"
   ]
  },
  {
   "cell_type": "markdown",
   "metadata": {},
   "source": [
    "As can be seen the model is predicting all negatives (test data size is 3,463). This is expected as the dataset has a high negative sample bias. And as such is not a very good model. With this said the results of this model do coincide with the general conclusion from the previous model, that being that the the general consensus of public opinion on US airlines is largely negative. That is to say most public tweets about airlines is negative in nature."
   ]
  },
  {
   "cell_type": "code",
   "execution_count": null,
   "metadata": {},
   "outputs": [],
   "source": []
  }
 ],
 "metadata": {
  "kernelspec": {
   "display_name": "Python 3",
   "language": "python",
   "name": "python3"
  },
  "language_info": {
   "codemirror_mode": {
    "name": "ipython",
    "version": 3
   },
   "file_extension": ".py",
   "mimetype": "text/x-python",
   "name": "python",
   "nbconvert_exporter": "python",
   "pygments_lexer": "ipython3",
   "version": "3.7.6"
  }
 },
 "nbformat": 4,
 "nbformat_minor": 2
}
